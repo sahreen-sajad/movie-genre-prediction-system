{
 "cells": [
  {
   "cell_type": "markdown",
   "id": "adc1acaa",
   "metadata": {},
   "source": [
    "# Q5 - Context vectors using BERT (b-c)"
   ]
  },
  {
   "cell_type": "markdown",
   "id": "4a76a54f",
   "metadata": {},
   "source": [
    "## Installing Necessary Libraries and Data Cleaning"
   ]
  },
  {
   "cell_type": "code",
   "execution_count": 1,
   "id": "35931778",
   "metadata": {},
   "outputs": [
    {
     "name": "stdout",
     "output_type": "stream",
     "text": [
      "Requirement already satisfied: convokit in c:\\users\\sahre\\anaconda3\\lib\\site-packages (2.5.3)\n",
      "Requirement already satisfied: pandas>=0.23.4 in c:\\users\\sahre\\anaconda3\\lib\\site-packages (from convokit) (1.4.4)\n",
      "Requirement already satisfied: spacy>=2.3.5 in c:\\users\\sahre\\anaconda3\\lib\\site-packages (from convokit) (3.5.0)\n",
      "Requirement already satisfied: unidecode>=1.1.1 in c:\\users\\sahre\\anaconda3\\lib\\site-packages (from convokit) (1.2.0)\n",
      "Requirement already satisfied: joblib>=0.13.2 in c:\\users\\sahre\\anaconda3\\lib\\site-packages (from convokit) (1.2.0)\n",
      "Requirement already satisfied: scikit-learn>=0.20.0 in c:\\users\\sahre\\anaconda3\\lib\\site-packages (from convokit) (1.0.2)\n",
      "Requirement already satisfied: nltk>=3.4 in c:\\users\\sahre\\anaconda3\\lib\\site-packages (from convokit) (3.7)\n",
      "Requirement already satisfied: matplotlib>=3.0.0 in c:\\users\\sahre\\anaconda3\\lib\\site-packages (from convokit) (3.5.2)\n",
      "Requirement already satisfied: scipy>=1.1.0 in c:\\users\\sahre\\anaconda3\\lib\\site-packages (from convokit) (1.9.1)\n",
      "Requirement already satisfied: msgpack-numpy>=0.4.3.2 in c:\\users\\sahre\\anaconda3\\lib\\site-packages (from convokit) (0.4.8)\n",
      "Requirement already satisfied: clean-text>=0.1.1 in c:\\users\\sahre\\anaconda3\\lib\\site-packages (from convokit) (0.6.0)\n",
      "Requirement already satisfied: dill>=0.2.9 in c:\\users\\sahre\\anaconda3\\lib\\site-packages (from convokit) (0.3.6)\n",
      "Requirement already satisfied: ftfy<7.0,>=6.0 in c:\\users\\sahre\\anaconda3\\lib\\site-packages (from clean-text>=0.1.1->convokit) (6.1.1)\n",
      "Requirement already satisfied: emoji<2.0.0,>=1.0.0 in c:\\users\\sahre\\anaconda3\\lib\\site-packages (from clean-text>=0.1.1->convokit) (1.7.0)\n",
      "Requirement already satisfied: kiwisolver>=1.0.1 in c:\\users\\sahre\\anaconda3\\lib\\site-packages (from matplotlib>=3.0.0->convokit) (1.4.2)\n",
      "Requirement already satisfied: pillow>=6.2.0 in c:\\users\\sahre\\anaconda3\\lib\\site-packages (from matplotlib>=3.0.0->convokit) (9.2.0)\n",
      "Requirement already satisfied: python-dateutil>=2.7 in c:\\users\\sahre\\anaconda3\\lib\\site-packages (from matplotlib>=3.0.0->convokit) (2.8.2)\n",
      "Requirement already satisfied: pyparsing>=2.2.1 in c:\\users\\sahre\\anaconda3\\lib\\site-packages (from matplotlib>=3.0.0->convokit) (3.0.9)\n",
      "Requirement already satisfied: fonttools>=4.22.0 in c:\\users\\sahre\\anaconda3\\lib\\site-packages (from matplotlib>=3.0.0->convokit) (4.25.0)\n",
      "Requirement already satisfied: packaging>=20.0 in c:\\users\\sahre\\anaconda3\\lib\\site-packages (from matplotlib>=3.0.0->convokit) (21.3)\n",
      "Requirement already satisfied: numpy>=1.17 in c:\\users\\sahre\\anaconda3\\lib\\site-packages (from matplotlib>=3.0.0->convokit) (1.21.5)\n",
      "Requirement already satisfied: cycler>=0.10 in c:\\users\\sahre\\anaconda3\\lib\\site-packages (from matplotlib>=3.0.0->convokit) (0.11.0)\n",
      "Requirement already satisfied: msgpack>=0.5.2 in c:\\users\\sahre\\anaconda3\\lib\\site-packages (from msgpack-numpy>=0.4.3.2->convokit) (1.0.3)\n",
      "Requirement already satisfied: click in c:\\users\\sahre\\anaconda3\\lib\\site-packages (from nltk>=3.4->convokit) (8.0.4)\n",
      "Requirement already satisfied: regex>=2021.8.3 in c:\\users\\sahre\\anaconda3\\lib\\site-packages (from nltk>=3.4->convokit) (2022.7.9)\n",
      "Requirement already satisfied: tqdm in c:\\users\\sahre\\anaconda3\\lib\\site-packages (from nltk>=3.4->convokit) (4.64.1)\n",
      "Requirement already satisfied: pytz>=2020.1 in c:\\users\\sahre\\anaconda3\\lib\\site-packages (from pandas>=0.23.4->convokit) (2022.1)\n",
      "Requirement already satisfied: threadpoolctl>=2.0.0 in c:\\users\\sahre\\anaconda3\\lib\\site-packages (from scikit-learn>=0.20.0->convokit) (2.2.0)\n",
      "Requirement already satisfied: thinc<8.2.0,>=8.1.0 in c:\\users\\sahre\\anaconda3\\lib\\site-packages (from spacy>=2.3.5->convokit) (8.1.7)\n",
      "Requirement already satisfied: spacy-loggers<2.0.0,>=1.0.0 in c:\\users\\sahre\\anaconda3\\lib\\site-packages (from spacy>=2.3.5->convokit) (1.0.4)\n",
      "Requirement already satisfied: preshed<3.1.0,>=3.0.2 in c:\\users\\sahre\\anaconda3\\lib\\site-packages (from spacy>=2.3.5->convokit) (3.0.8)\n",
      "Requirement already satisfied: typer<0.8.0,>=0.3.0 in c:\\users\\sahre\\anaconda3\\lib\\site-packages (from spacy>=2.3.5->convokit) (0.7.0)\n",
      "Requirement already satisfied: pydantic!=1.8,!=1.8.1,<1.11.0,>=1.7.4 in c:\\users\\sahre\\anaconda3\\lib\\site-packages (from spacy>=2.3.5->convokit) (1.10.4)\n",
      "Requirement already satisfied: murmurhash<1.1.0,>=0.28.0 in c:\\users\\sahre\\anaconda3\\lib\\site-packages (from spacy>=2.3.5->convokit) (1.0.9)\n",
      "Requirement already satisfied: setuptools in c:\\users\\sahre\\anaconda3\\lib\\site-packages (from spacy>=2.3.5->convokit) (63.4.1)\n",
      "Requirement already satisfied: langcodes<4.0.0,>=3.2.0 in c:\\users\\sahre\\anaconda3\\lib\\site-packages (from spacy>=2.3.5->convokit) (3.3.0)\n",
      "Requirement already satisfied: wasabi<1.2.0,>=0.9.1 in c:\\users\\sahre\\anaconda3\\lib\\site-packages (from spacy>=2.3.5->convokit) (1.1.1)\n",
      "Requirement already satisfied: cymem<2.1.0,>=2.0.2 in c:\\users\\sahre\\anaconda3\\lib\\site-packages (from spacy>=2.3.5->convokit) (2.0.7)\n",
      "Requirement already satisfied: jinja2 in c:\\users\\sahre\\anaconda3\\lib\\site-packages (from spacy>=2.3.5->convokit) (2.11.3)\n",
      "Requirement already satisfied: catalogue<2.1.0,>=2.0.6 in c:\\users\\sahre\\anaconda3\\lib\\site-packages (from spacy>=2.3.5->convokit) (2.0.8)\n",
      "Requirement already satisfied: smart-open<7.0.0,>=5.2.1 in c:\\users\\sahre\\anaconda3\\lib\\site-packages (from spacy>=2.3.5->convokit) (5.2.1)\n",
      "Requirement already satisfied: pathy>=0.10.0 in c:\\users\\sahre\\anaconda3\\lib\\site-packages (from spacy>=2.3.5->convokit) (0.10.1)\n",
      "Requirement already satisfied: spacy-legacy<3.1.0,>=3.0.11 in c:\\users\\sahre\\anaconda3\\lib\\site-packages (from spacy>=2.3.5->convokit) (3.0.12)\n",
      "Requirement already satisfied: requests<3.0.0,>=2.13.0 in c:\\users\\sahre\\anaconda3\\lib\\site-packages (from spacy>=2.3.5->convokit) (2.28.1)\n",
      "Requirement already satisfied: srsly<3.0.0,>=2.4.3 in c:\\users\\sahre\\anaconda3\\lib\\site-packages (from spacy>=2.3.5->convokit) (2.4.5)\n",
      "Requirement already satisfied: wcwidth>=0.2.5 in c:\\users\\sahre\\anaconda3\\lib\\site-packages (from ftfy<7.0,>=6.0->clean-text>=0.1.1->convokit) (0.2.5)\n",
      "Requirement already satisfied: typing-extensions>=4.2.0 in c:\\users\\sahre\\anaconda3\\lib\\site-packages (from pydantic!=1.8,!=1.8.1,<1.11.0,>=1.7.4->spacy>=2.3.5->convokit) (4.3.0)\n",
      "Requirement already satisfied: six>=1.5 in c:\\users\\sahre\\anaconda3\\lib\\site-packages (from python-dateutil>=2.7->matplotlib>=3.0.0->convokit) (1.16.0)\n",
      "Requirement already satisfied: certifi>=2017.4.17 in c:\\users\\sahre\\anaconda3\\lib\\site-packages (from requests<3.0.0,>=2.13.0->spacy>=2.3.5->convokit) (2022.9.14)\n",
      "Requirement already satisfied: urllib3<1.27,>=1.21.1 in c:\\users\\sahre\\anaconda3\\lib\\site-packages (from requests<3.0.0,>=2.13.0->spacy>=2.3.5->convokit) (1.26.11)\n",
      "Requirement already satisfied: charset-normalizer<3,>=2 in c:\\users\\sahre\\anaconda3\\lib\\site-packages (from requests<3.0.0,>=2.13.0->spacy>=2.3.5->convokit) (2.0.4)\n",
      "Requirement already satisfied: idna<4,>=2.5 in c:\\users\\sahre\\anaconda3\\lib\\site-packages (from requests<3.0.0,>=2.13.0->spacy>=2.3.5->convokit) (3.3)\n",
      "Requirement already satisfied: confection<1.0.0,>=0.0.1 in c:\\users\\sahre\\anaconda3\\lib\\site-packages (from thinc<8.2.0,>=8.1.0->spacy>=2.3.5->convokit) (0.0.4)\n",
      "Requirement already satisfied: blis<0.8.0,>=0.7.8 in c:\\users\\sahre\\anaconda3\\lib\\site-packages (from thinc<8.2.0,>=8.1.0->spacy>=2.3.5->convokit) (0.7.9)\n",
      "Requirement already satisfied: colorama in c:\\users\\sahre\\anaconda3\\lib\\site-packages (from tqdm->nltk>=3.4->convokit) (0.4.6)\n",
      "Requirement already satisfied: MarkupSafe>=0.23 in c:\\users\\sahre\\anaconda3\\lib\\site-packages (from jinja2->spacy>=2.3.5->convokit) (2.0.1)\n",
      "Note: you may need to restart the kernel to use updated packages.\n"
     ]
    }
   ],
   "source": [
    "pip install convokit"
   ]
  },
  {
   "cell_type": "code",
   "execution_count": 2,
   "id": "f744f384",
   "metadata": {},
   "outputs": [
    {
     "name": "stdout",
     "output_type": "stream",
     "text": [
      "Requirement already satisfied: spacy in c:\\users\\sahre\\anaconda3\\lib\\site-packages (3.5.0)\n",
      "Requirement already satisfied: catalogue<2.1.0,>=2.0.6 in c:\\users\\sahre\\anaconda3\\lib\\site-packages (from spacy) (2.0.8)\n",
      "Requirement already satisfied: numpy>=1.15.0 in c:\\users\\sahre\\anaconda3\\lib\\site-packages (from spacy) (1.21.5)\n",
      "Requirement already satisfied: spacy-legacy<3.1.0,>=3.0.11 in c:\\users\\sahre\\anaconda3\\lib\\site-packages (from spacy) (3.0.12)\n",
      "Requirement already satisfied: wasabi<1.2.0,>=0.9.1 in c:\\users\\sahre\\anaconda3\\lib\\site-packages (from spacy) (1.1.1)\n",
      "Requirement already satisfied: typer<0.8.0,>=0.3.0 in c:\\users\\sahre\\anaconda3\\lib\\site-packages (from spacy) (0.7.0)\n",
      "Requirement already satisfied: pydantic!=1.8,!=1.8.1,<1.11.0,>=1.7.4 in c:\\users\\sahre\\anaconda3\\lib\\site-packages (from spacy) (1.10.4)\n",
      "Requirement already satisfied: packaging>=20.0 in c:\\users\\sahre\\anaconda3\\lib\\site-packages (from spacy) (21.3)\n",
      "Requirement already satisfied: pathy>=0.10.0 in c:\\users\\sahre\\anaconda3\\lib\\site-packages (from spacy) (0.10.1)\n",
      "Requirement already satisfied: langcodes<4.0.0,>=3.2.0 in c:\\users\\sahre\\anaconda3\\lib\\site-packages (from spacy) (3.3.0)\n",
      "Requirement already satisfied: setuptools in c:\\users\\sahre\\anaconda3\\lib\\site-packages (from spacy) (63.4.1)\n",
      "Requirement already satisfied: preshed<3.1.0,>=3.0.2 in c:\\users\\sahre\\anaconda3\\lib\\site-packages (from spacy) (3.0.8)\n",
      "Requirement already satisfied: jinja2 in c:\\users\\sahre\\anaconda3\\lib\\site-packages (from spacy) (2.11.3)\n",
      "Requirement already satisfied: murmurhash<1.1.0,>=0.28.0 in c:\\users\\sahre\\anaconda3\\lib\\site-packages (from spacy) (1.0.9)\n",
      "Requirement already satisfied: srsly<3.0.0,>=2.4.3 in c:\\users\\sahre\\anaconda3\\lib\\site-packages (from spacy) (2.4.5)\n",
      "Requirement already satisfied: cymem<2.1.0,>=2.0.2 in c:\\users\\sahre\\anaconda3\\lib\\site-packages (from spacy) (2.0.7)\n",
      "Requirement already satisfied: tqdm<5.0.0,>=4.38.0 in c:\\users\\sahre\\anaconda3\\lib\\site-packages (from spacy) (4.64.1)\n",
      "Requirement already satisfied: spacy-loggers<2.0.0,>=1.0.0 in c:\\users\\sahre\\anaconda3\\lib\\site-packages (from spacy) (1.0.4)\n",
      "Requirement already satisfied: thinc<8.2.0,>=8.1.0 in c:\\users\\sahre\\anaconda3\\lib\\site-packages (from spacy) (8.1.7)\n",
      "Requirement already satisfied: requests<3.0.0,>=2.13.0 in c:\\users\\sahre\\anaconda3\\lib\\site-packages (from spacy) (2.28.1)\n",
      "Requirement already satisfied: smart-open<7.0.0,>=5.2.1 in c:\\users\\sahre\\anaconda3\\lib\\site-packages (from spacy) (5.2.1)\n",
      "Requirement already satisfied: pyparsing!=3.0.5,>=2.0.2 in c:\\users\\sahre\\anaconda3\\lib\\site-packages (from packaging>=20.0->spacy) (3.0.9)\n",
      "Requirement already satisfied: typing-extensions>=4.2.0 in c:\\users\\sahre\\anaconda3\\lib\\site-packages (from pydantic!=1.8,!=1.8.1,<1.11.0,>=1.7.4->spacy) (4.3.0)\n",
      "Requirement already satisfied: urllib3<1.27,>=1.21.1 in c:\\users\\sahre\\anaconda3\\lib\\site-packages (from requests<3.0.0,>=2.13.0->spacy) (1.26.11)\n",
      "Requirement already satisfied: idna<4,>=2.5 in c:\\users\\sahre\\anaconda3\\lib\\site-packages (from requests<3.0.0,>=2.13.0->spacy) (3.3)\n",
      "Requirement already satisfied: certifi>=2017.4.17 in c:\\users\\sahre\\anaconda3\\lib\\site-packages (from requests<3.0.0,>=2.13.0->spacy) (2022.9.14)\n",
      "Requirement already satisfied: charset-normalizer<3,>=2 in c:\\users\\sahre\\anaconda3\\lib\\site-packages (from requests<3.0.0,>=2.13.0->spacy) (2.0.4)\n",
      "Requirement already satisfied: confection<1.0.0,>=0.0.1 in c:\\users\\sahre\\anaconda3\\lib\\site-packages (from thinc<8.2.0,>=8.1.0->spacy) (0.0.4)\n",
      "Requirement already satisfied: blis<0.8.0,>=0.7.8 in c:\\users\\sahre\\anaconda3\\lib\\site-packages (from thinc<8.2.0,>=8.1.0->spacy) (0.7.9)\n",
      "Requirement already satisfied: colorama in c:\\users\\sahre\\anaconda3\\lib\\site-packages (from tqdm<5.0.0,>=4.38.0->spacy) (0.4.6)\n",
      "Requirement already satisfied: click<9.0.0,>=7.1.1 in c:\\users\\sahre\\anaconda3\\lib\\site-packages (from typer<0.8.0,>=0.3.0->spacy) (8.0.4)\n",
      "Requirement already satisfied: MarkupSafe>=0.23 in c:\\users\\sahre\\anaconda3\\lib\\site-packages (from jinja2->spacy) (2.0.1)\n",
      "Note: you may need to restart the kernel to use updated packages.\n"
     ]
    }
   ],
   "source": [
    "pip install spacy"
   ]
  },
  {
   "cell_type": "code",
   "execution_count": 3,
   "id": "42399044",
   "metadata": {},
   "outputs": [],
   "source": [
    "import locale\n",
    "def getpreferredencoding(do_setlocale = True):\n",
    "    return \"UTF-8\"\n",
    "locale.getpreferredencoding = getpreferredencoding"
   ]
  },
  {
   "cell_type": "code",
   "execution_count": 4,
   "id": "74d42323",
   "metadata": {},
   "outputs": [
    {
     "name": "stdout",
     "output_type": "stream",
     "text": [
      "Downloading movie-corpus to C:\\Users\\sahre\\.convokit\\downloads\\movie-corpus\n",
      "Downloading movie-corpus from http://zissou.infosci.cornell.edu/convokit/datasets/movie-corpus/movie-corpus.zip (40.9MB)... Done\n"
     ]
    }
   ],
   "source": [
    "from convokit import Corpus, download\n",
    "corpus = Corpus(filename=download(\"movie-corpus\"))"
   ]
  },
  {
   "cell_type": "code",
   "execution_count": 5,
   "id": "5cd57061",
   "metadata": {},
   "outputs": [],
   "source": [
    "utterances = corpus.get_utterances_dataframe()\n",
    "utterances = utterances.sample(n=20000, random_state=42) #Sample random 20000 rows in utterances\n",
    "conversations = corpus.get_conversations_dataframe()\n",
    "conversations.rename(columns={'meta.movie_idx': 'meta.movie_id'}, inplace=True) #rename columns for convenience\n",
    "speakers = corpus.get_speakers_dataframe()\n",
    "speakers.rename(columns={'meta.movie_idx': 'meta.movie_id'}, inplace=True)"
   ]
  },
  {
   "cell_type": "code",
   "execution_count": 6,
   "id": "a7ecb9a3",
   "metadata": {},
   "outputs": [],
   "source": [
    "conversations['meta.genre'] = conversations['meta.genre'].apply(lambda x: \"drama\" if x == \"['drama']\" else x)\n",
    "conversations['meta.genre'] = conversations['meta.genre'].apply(lambda x: \"horror\" if x == \"['horror']\" else x)\n",
    "conversations['meta.genre'] = conversations['meta.genre'].apply(lambda x: \"thriller\" if x == \"['thriller']\" else x)\n",
    "conversations['meta.genre'] = conversations['meta.genre'].apply(lambda x: \"comedy\" if x == \"['comedy']\" else x)\n",
    "conversations['meta.genre'] = conversations['meta.genre'].apply(lambda x: \"documentary\" if x == \"['documentary']\" else x)\n",
    "conversations['meta.genre'] = conversations['meta.genre'].apply(lambda x: \"romcom\" if x == \"['comedy', 'romance']\" else x)"
   ]
  },
  {
   "cell_type": "code",
   "execution_count": 7,
   "id": "dc8e5c93",
   "metadata": {},
   "outputs": [],
   "source": [
    "conversations = conversations.loc[conversations['meta.genre'].isin(['drama','horror','thriller', 'comedy','romcom','documentary'])]\n",
    "conversations = conversations.drop(columns=['meta.release_year', 'meta.rating', 'meta.votes'], axis=1)\n",
    "speakers = speakers.drop(columns=['meta.credit_pos', 'meta.gender', 'meta.character_name'], axis=1)"
   ]
  },
  {
   "cell_type": "code",
   "execution_count": 8,
   "id": "785bc4fc",
   "metadata": {},
   "outputs": [],
   "source": [
    "#Merging the three dataframes\n",
    "import pandas as pd\n",
    "merged_df = conversations.merge(speakers, on='meta.movie_id').merge(utterances, on='meta.movie_id')\n",
    "from functools import reduce\n",
    "dfs = [conversations, utterances, speakers]\n",
    "final_df = dfs[0]\n",
    "for df in dfs[1:]:\n",
    "    final_df = pd.merge(final_df, df, on=['meta.movie_id'], how='inner')"
   ]
  },
  {
   "cell_type": "code",
   "execution_count": 9,
   "id": "617baee6",
   "metadata": {},
   "outputs": [],
   "source": [
    "#Sampling 10000 rows\n",
    "final_df = final_df.sample(n=10000, random_state=42)"
   ]
  },
  {
   "cell_type": "code",
   "execution_count": 10,
   "id": "736e5d35",
   "metadata": {},
   "outputs": [],
   "source": [
    "import pandas as pd\n",
    "from sklearn.model_selection import StratifiedShuffleSplit\n",
    "y = final_df['meta.genre']\n",
    "\n",
    "#Split the data into training and the rest with 60:40 split\n",
    "stratified_split = StratifiedShuffleSplit(n_splits=1, test_size=0.4, random_state=0) \n",
    "for train_index, test_val_index in stratified_split.split(final_df, y):\n",
    "    train = final_df.iloc[train_index]\n",
    "    test_val = final_df.iloc[test_val_index]\n",
    "\n",
    "#Split the remaining 40% data into testing and validation 50:50 split\n",
    "y_test_val = y.iloc[test_val_index]\n",
    "stratified_split = StratifiedShuffleSplit(n_splits=1, test_size=0.5, random_state=0)\n",
    "for test_index,val_index in stratified_split.split(test_val, y_test_val):\n",
    "    test = test_val.iloc[test_index]\n",
    "    val = test_val.iloc[val_index]"
   ]
  },
  {
   "cell_type": "code",
   "execution_count": 11,
   "id": "bfe3d5b7",
   "metadata": {},
   "outputs": [],
   "source": [
    "#to save the original unchanged\n",
    "BERT_train = train.copy()\n",
    "BERT_val = val.copy()\n",
    "BERT_test = test.copy()"
   ]
  },
  {
   "cell_type": "code",
   "execution_count": 12,
   "id": "2e43d087",
   "metadata": {},
   "outputs": [
    {
     "name": "stdout",
     "output_type": "stream",
     "text": [
      "Requirement already satisfied: transformers in c:\\users\\sahre\\anaconda3\\lib\\site-packages (4.26.1)\n",
      "Requirement already satisfied: huggingface-hub<1.0,>=0.11.0 in c:\\users\\sahre\\anaconda3\\lib\\site-packages (from transformers) (0.13.1)\n",
      "Requirement already satisfied: filelock in c:\\users\\sahre\\anaconda3\\lib\\site-packages (from transformers) (3.6.0)\n",
      "Requirement already satisfied: requests in c:\\users\\sahre\\anaconda3\\lib\\site-packages (from transformers) (2.28.1)\n",
      "Requirement already satisfied: packaging>=20.0 in c:\\users\\sahre\\anaconda3\\lib\\site-packages (from transformers) (21.3)\n",
      "Requirement already satisfied: tqdm>=4.27 in c:\\users\\sahre\\anaconda3\\lib\\site-packages (from transformers) (4.64.1)\n",
      "Requirement already satisfied: regex!=2019.12.17 in c:\\users\\sahre\\anaconda3\\lib\\site-packages (from transformers) (2022.7.9)\n",
      "Requirement already satisfied: tokenizers!=0.11.3,<0.14,>=0.11.1 in c:\\users\\sahre\\anaconda3\\lib\\site-packages (from transformers) (0.13.2)\n",
      "Requirement already satisfied: pyyaml>=5.1 in c:\\users\\sahre\\anaconda3\\lib\\site-packages (from transformers) (6.0)\n",
      "Requirement already satisfied: numpy>=1.17 in c:\\users\\sahre\\anaconda3\\lib\\site-packages (from transformers) (1.21.5)\n",
      "Requirement already satisfied: typing-extensions>=3.7.4.3 in c:\\users\\sahre\\anaconda3\\lib\\site-packages (from huggingface-hub<1.0,>=0.11.0->transformers) (4.3.0)\n",
      "Requirement already satisfied: pyparsing!=3.0.5,>=2.0.2 in c:\\users\\sahre\\anaconda3\\lib\\site-packages (from packaging>=20.0->transformers) (3.0.9)\n",
      "Requirement already satisfied: colorama in c:\\users\\sahre\\anaconda3\\lib\\site-packages (from tqdm>=4.27->transformers) (0.4.6)\n",
      "Requirement already satisfied: certifi>=2017.4.17 in c:\\users\\sahre\\anaconda3\\lib\\site-packages (from requests->transformers) (2022.9.14)\n",
      "Requirement already satisfied: idna<4,>=2.5 in c:\\users\\sahre\\anaconda3\\lib\\site-packages (from requests->transformers) (3.3)\n",
      "Requirement already satisfied: charset-normalizer<3,>=2 in c:\\users\\sahre\\anaconda3\\lib\\site-packages (from requests->transformers) (2.0.4)\n",
      "Requirement already satisfied: urllib3<1.27,>=1.21.1 in c:\\users\\sahre\\anaconda3\\lib\\site-packages (from requests->transformers) (1.26.11)\n",
      "Note: you may need to restart the kernel to use updated packages.\n"
     ]
    }
   ],
   "source": [
    "pip install transformers"
   ]
  },
  {
   "cell_type": "code",
   "execution_count": 14,
   "id": "7dcf40e1",
   "metadata": {},
   "outputs": [],
   "source": [
    "import pandas as pd\n",
    "import matplotlib.pyplot as plt\n",
    "from sklearn.metrics import precision_recall_fscore_support\n",
    "\n",
    "#evaluation function to print metrics\n",
    "\n",
    "def evaluate(val, val_predictions):\n",
    "    val_precision, val_recall, val_f1, support = precision_recall_fscore_support(val['meta.genre'], val_predictions, average='macro', zero_division=True)\n",
    "    val_accuracy = (val['meta.genre'] == val_predictions).mean()\n",
    "    print(f'Validation accuracy: {val_accuracy:.3f}')\n",
    "    print(f'Validation precision (macro-averaged): {val_precision:.3f}')\n",
    "    print(f'Validation recall (macro-averaged): {val_recall:.3f}')\n",
    "    print(f'Validation F1-score (macro-averaged): {val_f1:.3f}')"
   ]
  },
  {
   "cell_type": "code",
   "execution_count": 15,
   "id": "5ac89106",
   "metadata": {},
   "outputs": [
    {
     "name": "stdout",
     "output_type": "stream",
     "text": [
      "Requirement already satisfied: torch in c:\\users\\sahre\\anaconda3\\lib\\site-packages (1.13.1)Note: you may need to restart the kernel to use updated packages.\n",
      "\n",
      "Requirement already satisfied: typing-extensions in c:\\users\\sahre\\anaconda3\\lib\\site-packages (from torch) (4.3.0)\n"
     ]
    }
   ],
   "source": [
    "pip install torch"
   ]
  },
  {
   "cell_type": "code",
   "execution_count": 16,
   "id": "e6ad8bb3",
   "metadata": {},
   "outputs": [],
   "source": [
    "from transformers import RobertaModel, RobertaTokenizer"
   ]
  },
  {
   "cell_type": "code",
   "execution_count": 96,
   "id": "31451e55",
   "metadata": {},
   "outputs": [],
   "source": [
    "from datasets import Dataset\n",
    "import numpy as np\n",
    "from transformers import RobertaForSequenceClassification\n",
    "from transformers import RobertaTokenizer\n",
    "from transformers import AutoTokenizer, TFAutoModelForSequenceClassification, Trainer, TrainingArguments\n",
    "from transformers import DataCollatorForTokenClassification\n",
    "import torch\n",
    "from transformers import AutoTokenizer, AutoModelForSequenceClassification, TrainingArguments, Trainer\n",
    "np.random.seed(42)"
   ]
  },
  {
   "cell_type": "code",
   "execution_count": 18,
   "id": "475790b2",
   "metadata": {},
   "outputs": [
    {
     "name": "stdout",
     "output_type": "stream",
     "text": [
      "Requirement already satisfied: pipeline in c:\\users\\sahre\\anaconda3\\lib\\site-packages (0.1.0)\n",
      "Note: you may need to restart the kernel to use updated packages.\n"
     ]
    }
   ],
   "source": [
    "pip install pipeline"
   ]
  },
  {
   "cell_type": "markdown",
   "id": "fe501677",
   "metadata": {},
   "source": [
    "## Trainer Function using Transformers"
   ]
  },
  {
   "cell_type": "code",
   "execution_count": 19,
   "id": "c5374f87",
   "metadata": {},
   "outputs": [],
   "source": [
    "import transformers"
   ]
  },
  {
   "cell_type": "code",
   "execution_count": 97,
   "id": "fea6f5f5",
   "metadata": {},
   "outputs": [
    {
     "name": "stderr",
     "output_type": "stream",
     "text": [
      "loading configuration file config.json from cache at C:\\Users\\sahre/.cache\\huggingface\\hub\\models--roberta-base\\snapshots\\bc2764f8af2e92b6eb5679868df33e224075ca68\\config.json\n",
      "Model config RobertaConfig {\n",
      "  \"architectures\": [\n",
      "    \"RobertaForMaskedLM\"\n",
      "  ],\n",
      "  \"attention_probs_dropout_prob\": 0.1,\n",
      "  \"bos_token_id\": 0,\n",
      "  \"classifier_dropout\": null,\n",
      "  \"eos_token_id\": 2,\n",
      "  \"hidden_act\": \"gelu\",\n",
      "  \"hidden_dropout_prob\": 0.1,\n",
      "  \"hidden_size\": 768,\n",
      "  \"id2label\": {\n",
      "    \"0\": \"LABEL_0\",\n",
      "    \"1\": \"LABEL_1\",\n",
      "    \"2\": \"LABEL_2\",\n",
      "    \"3\": \"LABEL_3\",\n",
      "    \"4\": \"LABEL_4\",\n",
      "    \"5\": \"LABEL_5\"\n",
      "  },\n",
      "  \"initializer_range\": 0.02,\n",
      "  \"intermediate_size\": 3072,\n",
      "  \"label2id\": {\n",
      "    \"LABEL_0\": 0,\n",
      "    \"LABEL_1\": 1,\n",
      "    \"LABEL_2\": 2,\n",
      "    \"LABEL_3\": 3,\n",
      "    \"LABEL_4\": 4,\n",
      "    \"LABEL_5\": 5\n",
      "  },\n",
      "  \"layer_norm_eps\": 1e-05,\n",
      "  \"max_position_embeddings\": 514,\n",
      "  \"model_type\": \"roberta\",\n",
      "  \"num_attention_heads\": 12,\n",
      "  \"num_hidden_layers\": 12,\n",
      "  \"pad_token_id\": 1,\n",
      "  \"position_embedding_type\": \"absolute\",\n",
      "  \"transformers_version\": \"4.26.1\",\n",
      "  \"type_vocab_size\": 1,\n",
      "  \"use_cache\": true,\n",
      "  \"vocab_size\": 50265\n",
      "}\n",
      "\n",
      "loading weights file pytorch_model.bin from cache at C:\\Users\\sahre/.cache\\huggingface\\hub\\models--roberta-base\\snapshots\\bc2764f8af2e92b6eb5679868df33e224075ca68\\pytorch_model.bin\n",
      "Some weights of the model checkpoint at roberta-base were not used when initializing RobertaForSequenceClassification: ['lm_head.bias', 'lm_head.decoder.weight', 'lm_head.layer_norm.bias', 'lm_head.dense.bias', 'lm_head.layer_norm.weight', 'lm_head.dense.weight', 'roberta.pooler.dense.bias', 'roberta.pooler.dense.weight']\n",
      "- This IS expected if you are initializing RobertaForSequenceClassification from the checkpoint of a model trained on another task or with another architecture (e.g. initializing a BertForSequenceClassification model from a BertForPreTraining model).\n",
      "- This IS NOT expected if you are initializing RobertaForSequenceClassification from the checkpoint of a model that you expect to be exactly identical (initializing a BertForSequenceClassification model from a BertForSequenceClassification model).\n",
      "Some weights of RobertaForSequenceClassification were not initialized from the model checkpoint at roberta-base and are newly initialized: ['classifier.out_proj.bias', 'classifier.out_proj.weight', 'classifier.dense.bias', 'classifier.dense.weight']\n",
      "You should probably TRAIN this model on a down-stream task to be able to use it for predictions and inference.\n",
      "loading file vocab.json from cache at C:\\Users\\sahre/.cache\\huggingface\\hub\\models--roberta-base\\snapshots\\bc2764f8af2e92b6eb5679868df33e224075ca68\\vocab.json\n",
      "loading file merges.txt from cache at C:\\Users\\sahre/.cache\\huggingface\\hub\\models--roberta-base\\snapshots\\bc2764f8af2e92b6eb5679868df33e224075ca68\\merges.txt\n",
      "loading file added_tokens.json from cache at None\n",
      "loading file special_tokens_map.json from cache at None\n",
      "loading file tokenizer_config.json from cache at None\n",
      "loading configuration file config.json from cache at C:\\Users\\sahre/.cache\\huggingface\\hub\\models--roberta-base\\snapshots\\bc2764f8af2e92b6eb5679868df33e224075ca68\\config.json\n",
      "Model config RobertaConfig {\n",
      "  \"_name_or_path\": \"roberta-base\",\n",
      "  \"architectures\": [\n",
      "    \"RobertaForMaskedLM\"\n",
      "  ],\n",
      "  \"attention_probs_dropout_prob\": 0.1,\n",
      "  \"bos_token_id\": 0,\n",
      "  \"classifier_dropout\": null,\n",
      "  \"eos_token_id\": 2,\n",
      "  \"hidden_act\": \"gelu\",\n",
      "  \"hidden_dropout_prob\": 0.1,\n",
      "  \"hidden_size\": 768,\n",
      "  \"initializer_range\": 0.02,\n",
      "  \"intermediate_size\": 3072,\n",
      "  \"layer_norm_eps\": 1e-05,\n",
      "  \"max_position_embeddings\": 514,\n",
      "  \"model_type\": \"roberta\",\n",
      "  \"num_attention_heads\": 12,\n",
      "  \"num_hidden_layers\": 12,\n",
      "  \"pad_token_id\": 1,\n",
      "  \"position_embedding_type\": \"absolute\",\n",
      "  \"transformers_version\": \"4.26.1\",\n",
      "  \"type_vocab_size\": 1,\n",
      "  \"use_cache\": true,\n",
      "  \"vocab_size\": 50265\n",
      "}\n",
      "\n"
     ]
    }
   ],
   "source": [
    "#roberta model and tokeniser\n",
    "from transformers import RobertaForSequenceClassification\n",
    "num_labels = 6\n",
    "model = RobertaForSequenceClassification.from_pretrained('roberta-base',num_labels=num_labels)\n",
    "tokenizer = RobertaTokenizer.from_pretrained('roberta-base')\n"
   ]
  },
  {
   "cell_type": "code",
   "execution_count": 165,
   "id": "82ab5daf",
   "metadata": {},
   "outputs": [],
   "source": [
    "#return values for labels\n",
    "def get_tag_id(tag):\n",
    "    tag_id_map = {'drama': 0, 'horror': 1, 'thriller': 2, 'comedy': 3, 'documentary': 4}\n",
    "    return tag_id_map.get(tag, 5)"
   ]
  },
  {
   "cell_type": "code",
   "execution_count": 166,
   "id": "52a58736",
   "metadata": {},
   "outputs": [],
   "source": [
    "#encode text\n",
    "train_encodings = tokenizer(list(BERT_train['text']), truncation=True, padding=True)\n",
    "val_encodings = tokenizer(list(BERT_val['text']), truncation=True, padding=True)"
   ]
  },
  {
   "cell_type": "code",
   "execution_count": 167,
   "id": "a97f981f",
   "metadata": {},
   "outputs": [],
   "source": [
    "y_Btrain = [get_tag_id(tag) for tag in BERT_train['meta.genre']]\n",
    "y_Btrain = np.array(y_Btrain)\n",
    "\n",
    "y_Bval = [get_tag_id(tag) for tag in BERT_val['meta.genre']]\n",
    "y_Bval = np.array(y_Bval)"
   ]
  },
  {
   "cell_type": "code",
   "execution_count": 170,
   "id": "66ebe33b",
   "metadata": {},
   "outputs": [],
   "source": [
    "train_dataset = [{'input_ids': train_encodings['input_ids'][i], \n",
    "                  'attention_mask': train_encodings['attention_mask'][i], \n",
    "                  'labels': y_Btrain[i]} for i in range(len(BERT_train))]\n",
    "val_dataset = [{'input_ids': val_encodings['input_ids'][i], \n",
    "                'attention_mask': val_encodings['attention_mask'][i], \n",
    "                'labels': y_Bval[i]} for i in range(len(BERT_val))]"
   ]
  },
  {
   "cell_type": "code",
   "execution_count": 168,
   "id": "8cd7fc5c",
   "metadata": {},
   "outputs": [],
   "source": [
    "train_features = {\n",
    "    'input_ids': np.array([f['input_ids'] for f in train_dataset]), \n",
    "    'attention_mask': np.array([f['attention_mask'] for f in train_dataset]),\n",
    "    'labels': np.array([f['labels'] for f in train_dataset])\n",
    "}\n"
   ]
  },
  {
   "cell_type": "code",
   "execution_count": 169,
   "id": "926c8f3e",
   "metadata": {},
   "outputs": [],
   "source": [
    "val_features = {'input_ids': np.array([f['input_ids'] for f in val_dataset]), \n",
    "                'attention_mask': np.array([f['attention_mask'] for f in val_dataset]),\n",
    "                'labels': np.array([f['labels'] for f in val_dataset])}\n"
   ]
  },
  {
   "cell_type": "code",
   "execution_count": 171,
   "id": "d3c767d5",
   "metadata": {},
   "outputs": [],
   "source": [
    "train_dataset = Dataset.from_dict(train_features)\n",
    "val_dataset = Dataset.from_dict(val_features)"
   ]
  },
  {
   "cell_type": "code",
   "execution_count": 172,
   "id": "02bcdca6",
   "metadata": {},
   "outputs": [],
   "source": [
    "from transformers import Trainer"
   ]
  },
  {
   "cell_type": "code",
   "execution_count": 173,
   "id": "abce3197",
   "metadata": {},
   "outputs": [
    {
     "name": "stderr",
     "output_type": "stream",
     "text": [
      "PyTorch: setting up devices\n",
      "The default value for the training argument `--report_to` will change in v5 (from all installed integrations to none). In v5, you will need to use `--report_to all` to get the same behavior as now. You should start updating your code and make this info disappear :-).\n"
     ]
    }
   ],
   "source": [
    "training_args = TrainingArguments(\n",
    "    output_dir='./results',\n",
    "    evaluation_strategy='epoch',\n",
    "    learning_rate=1e-4,\n",
    "    per_device_train_batch_size=16,\n",
    "    per_device_eval_batch_size=16,\n",
    "    num_train_epochs=1,\n",
    "    weight_decay=0,\n",
    "    max_steps=5,\n",
    "    logging_steps = 700\n",
    ")"
   ]
  },
  {
   "cell_type": "code",
   "execution_count": 174,
   "id": "8a1417aa",
   "metadata": {},
   "outputs": [],
   "source": [
    "import numpy as np\n",
    "from sklearn.metrics import precision_recall_fscore_support, accuracy_score\n",
    "\n",
    "import numpy as np\n",
    "def compute_metrics(pred):\n",
    "    predictions, genre_labels = pred\n",
    "    preds_flat = np.argmax(predictions, axis=1).flatten()\n",
    "    labels_flat = genre_labels.flatten()\n",
    "    indices = np.where(labels_flat != -100)\n",
    "    preds = preds_flat[indices]\n",
    "    true_labels = labels_flat[indices]\n",
    "    precision, recall, f1, _ = precision_recall_fscore_support(true_labels, preds, average='weighted')\n",
    "    accuracy = accuracy_score(true_labels, preds)\n",
    "    return {\n",
    "        'accuracy': accuracy,\n",
    "        'f1': f1,\n",
    "        'precision': precision,\n",
    "        'recall': recall\n",
    "    }"
   ]
  },
  {
   "cell_type": "code",
   "execution_count": 175,
   "id": "01bbbfde",
   "metadata": {},
   "outputs": [
    {
     "name": "stderr",
     "output_type": "stream",
     "text": [
      "max_steps is given, it will override any value given in num_train_epochs\n"
     ]
    }
   ],
   "source": [
    "trainer = Trainer(\n",
    "    model=model,\n",
    "    args=training_args,\n",
    "    train_dataset=train_dataset,\n",
    "    eval_dataset=val_dataset,\n",
    "    tokenizer=tokenizer,\n",
    "    compute_metrics=compute_metrics\n",
    ")\n"
   ]
  },
  {
   "cell_type": "code",
   "execution_count": 176,
   "id": "92939f91",
   "metadata": {},
   "outputs": [
    {
     "name": "stderr",
     "output_type": "stream",
     "text": [
      "C:\\Users\\sahre\\anaconda3\\lib\\site-packages\\transformers\\optimization.py:306: FutureWarning: This implementation of AdamW is deprecated and will be removed in a future version. Use the PyTorch implementation torch.optim.AdamW instead, or set `no_deprecation_warning=True` to disable this warning\n",
      "  warnings.warn(\n",
      "***** Running training *****\n",
      "  Num examples = 6000\n",
      "  Num Epochs = 1\n",
      "  Instantaneous batch size per device = 16\n",
      "  Total train batch size (w. parallel, distributed & accumulation) = 16\n",
      "  Gradient Accumulation steps = 1\n",
      "  Total optimization steps = 5\n",
      "  Number of trainable parameters = 124650246\n"
     ]
    },
    {
     "data": {
      "text/html": [
       "\n",
       "    <div>\n",
       "      \n",
       "      <progress value='5' max='5' style='width:300px; height:20px; vertical-align: middle;'></progress>\n",
       "      [5/5 19:00, Epoch 0/1]\n",
       "    </div>\n",
       "    <table border=\"1\" class=\"dataframe\">\n",
       "  <thead>\n",
       " <tr style=\"text-align: left;\">\n",
       "      <th>Epoch</th>\n",
       "      <th>Training Loss</th>\n",
       "      <th>Validation Loss</th>\n",
       "      <th>Accuracy</th>\n",
       "      <th>F1</th>\n",
       "      <th>Precision</th>\n",
       "      <th>Recall</th>\n",
       "    </tr>\n",
       "  </thead>\n",
       "  <tbody>\n",
       "    <tr>\n",
       "      <td>0</td>\n",
       "      <td>No log</td>\n",
       "      <td>1.447133</td>\n",
       "      <td>0.433500</td>\n",
       "      <td>0.353099</td>\n",
       "      <td>0.390453</td>\n",
       "      <td>0.433500</td>\n",
       "    </tr>\n",
       "  </tbody>\n",
       "</table><p>"
      ],
      "text/plain": [
       "<IPython.core.display.HTML object>"
      ]
     },
     "metadata": {},
     "output_type": "display_data"
    },
    {
     "name": "stderr",
     "output_type": "stream",
     "text": [
      "***** Running Evaluation *****\n",
      "  Num examples = 2000\n",
      "  Batch size = 16\n",
      "C:\\Users\\sahre\\anaconda3\\lib\\site-packages\\sklearn\\metrics\\_classification.py:1318: UndefinedMetricWarning: Precision and F-score are ill-defined and being set to 0.0 in labels with no predicted samples. Use `zero_division` parameter to control this behavior.\n",
      "  _warn_prf(average, modifier, msg_start, len(result))\n",
      "\n",
      "\n",
      "Training completed. Do not forget to share your model on huggingface.co/models =)\n",
      "\n",
      "\n"
     ]
    },
    {
     "data": {
      "text/plain": [
       "TrainOutput(global_step=5, training_loss=0.9356801986694336, metrics={'train_runtime': 1159.8549, 'train_samples_per_second': 0.069, 'train_steps_per_second': 0.004, 'total_flos': 9497005721280.0, 'train_loss': 0.9356801986694336, 'epoch': 0.01})"
      ]
     },
     "execution_count": 176,
     "metadata": {},
     "output_type": "execute_result"
    }
   ],
   "source": [
    "trainer.train()"
   ]
  },
  {
   "cell_type": "markdown",
   "id": "e43b2ad6",
   "metadata": {},
   "source": [
    "## Tuning Hyperparamater 1"
   ]
  },
  {
   "cell_type": "code",
   "execution_count": 184,
   "id": "3d03d5af",
   "metadata": {},
   "outputs": [
    {
     "name": "stderr",
     "output_type": "stream",
     "text": [
      "PyTorch: setting up devices\n",
      "The default value for the training argument `--report_to` will change in v5 (from all installed integrations to none). In v5, you will need to use `--report_to all` to get the same behavior as now. You should start updating your code and make this info disappear :-).\n"
     ]
    }
   ],
   "source": [
    "training_args = TrainingArguments(\n",
    "    output_dir='./results',\n",
    "    evaluation_strategy='epoch',\n",
    "    learning_rate=5e-5,\n",
    "    per_device_train_batch_size=16,\n",
    "    per_device_eval_batch_size=16,\n",
    "    num_train_epochs=1,\n",
    "    weight_decay=0,\n",
    "    max_steps=5,\n",
    "    logging_steps = 700\n",
    ")"
   ]
  },
  {
   "cell_type": "code",
   "execution_count": 185,
   "id": "50dae9f4",
   "metadata": {},
   "outputs": [
    {
     "name": "stderr",
     "output_type": "stream",
     "text": [
      "max_steps is given, it will override any value given in num_train_epochs\n"
     ]
    }
   ],
   "source": [
    "trainer = Trainer(\n",
    "    model=model,\n",
    "    args=training_args,\n",
    "    train_dataset=train_dataset,\n",
    "    eval_dataset=val_dataset,\n",
    "    tokenizer=tokenizer,\n",
    "    compute_metrics=compute_metrics\n",
    ")\n"
   ]
  },
  {
   "cell_type": "code",
   "execution_count": 186,
   "id": "7955d844",
   "metadata": {},
   "outputs": [
    {
     "name": "stderr",
     "output_type": "stream",
     "text": [
      "C:\\Users\\sahre\\anaconda3\\lib\\site-packages\\transformers\\optimization.py:306: FutureWarning: This implementation of AdamW is deprecated and will be removed in a future version. Use the PyTorch implementation torch.optim.AdamW instead, or set `no_deprecation_warning=True` to disable this warning\n",
      "  warnings.warn(\n",
      "***** Running training *****\n",
      "  Num examples = 6000\n",
      "  Num Epochs = 1\n",
      "  Instantaneous batch size per device = 16\n",
      "  Total train batch size (w. parallel, distributed & accumulation) = 16\n",
      "  Gradient Accumulation steps = 1\n",
      "  Total optimization steps = 5\n",
      "  Number of trainable parameters = 124650246\n"
     ]
    },
    {
     "data": {
      "text/html": [
       "\n",
       "    <div>\n",
       "      \n",
       "      <progress value='5' max='5' style='width:300px; height:20px; vertical-align: middle;'></progress>\n",
       "      [5/5 17:07, Epoch 0/1]\n",
       "    </div>\n",
       "    <table border=\"1\" class=\"dataframe\">\n",
       "  <thead>\n",
       " <tr style=\"text-align: left;\">\n",
       "      <th>Epoch</th>\n",
       "      <th>Training Loss</th>\n",
       "      <th>Validation Loss</th>\n",
       "      <th>Accuracy</th>\n",
       "      <th>F1</th>\n",
       "      <th>Precision</th>\n",
       "      <th>Recall</th>\n",
       "    </tr>\n",
       "  </thead>\n",
       "  <tbody>\n",
       "    <tr>\n",
       "      <td>0</td>\n",
       "      <td>No log</td>\n",
       "      <td>1.942421</td>\n",
       "      <td>0.440000</td>\n",
       "      <td>0.338055</td>\n",
       "      <td>0.475648</td>\n",
       "      <td>0.440000</td>\n",
       "    </tr>\n",
       "  </tbody>\n",
       "</table><p>"
      ],
      "text/plain": [
       "<IPython.core.display.HTML object>"
      ]
     },
     "metadata": {},
     "output_type": "display_data"
    },
    {
     "name": "stderr",
     "output_type": "stream",
     "text": [
      "***** Running Evaluation *****\n",
      "  Num examples = 2000\n",
      "  Batch size = 16\n",
      "C:\\Users\\sahre\\anaconda3\\lib\\site-packages\\sklearn\\metrics\\_classification.py:1318: UndefinedMetricWarning: Precision and F-score are ill-defined and being set to 0.0 in labels with no predicted samples. Use `zero_division` parameter to control this behavior.\n",
      "  _warn_prf(average, modifier, msg_start, len(result))\n",
      "\n",
      "\n",
      "Training completed. Do not forget to share your model on huggingface.co/models =)\n",
      "\n",
      "\n"
     ]
    },
    {
     "data": {
      "text/plain": [
       "TrainOutput(global_step=5, training_loss=0.35717976093292236, metrics={'train_runtime': 1045.4999, 'train_samples_per_second': 0.077, 'train_steps_per_second': 0.005, 'total_flos': 9497005721280.0, 'train_loss': 0.35717976093292236, 'epoch': 0.01})"
      ]
     },
     "execution_count": 186,
     "metadata": {},
     "output_type": "execute_result"
    }
   ],
   "source": [
    "trainer.train()"
   ]
  },
  {
   "cell_type": "markdown",
   "id": "d5a04026",
   "metadata": {},
   "source": [
    "## Tuning Hyperparameter 2"
   ]
  },
  {
   "cell_type": "code",
   "execution_count": 190,
   "id": "c1672e7d",
   "metadata": {},
   "outputs": [
    {
     "name": "stderr",
     "output_type": "stream",
     "text": [
      "PyTorch: setting up devices\n",
      "The default value for the training argument `--report_to` will change in v5 (from all installed integrations to none). In v5, you will need to use `--report_to all` to get the same behavior as now. You should start updating your code and make this info disappear :-).\n"
     ]
    }
   ],
   "source": [
    "training_args = TrainingArguments(\n",
    "    output_dir='./results',\n",
    "    evaluation_strategy='epoch',\n",
    "    learning_rate=5e-4,\n",
    "    per_device_train_batch_size=16,\n",
    "    per_device_eval_batch_size=16,\n",
    "    num_train_epochs=0,\n",
    "    weight_decay=0,\n",
    "    max_steps=5,\n",
    "    logging_steps = 700\n",
    ")"
   ]
  },
  {
   "cell_type": "code",
   "execution_count": 191,
   "id": "36b464e6",
   "metadata": {},
   "outputs": [
    {
     "name": "stderr",
     "output_type": "stream",
     "text": [
      "max_steps is given, it will override any value given in num_train_epochs\n"
     ]
    }
   ],
   "source": [
    "trainer = Trainer(\n",
    "    model=model,\n",
    "    args=training_args,\n",
    "    train_dataset=train_dataset,\n",
    "    eval_dataset=val_dataset,\n",
    "    tokenizer=tokenizer,\n",
    "    compute_metrics=compute_metrics\n",
    ")"
   ]
  },
  {
   "cell_type": "code",
   "execution_count": 192,
   "id": "2bf43185",
   "metadata": {},
   "outputs": [
    {
     "name": "stderr",
     "output_type": "stream",
     "text": [
      "C:\\Users\\sahre\\anaconda3\\lib\\site-packages\\transformers\\optimization.py:306: FutureWarning: This implementation of AdamW is deprecated and will be removed in a future version. Use the PyTorch implementation torch.optim.AdamW instead, or set `no_deprecation_warning=True` to disable this warning\n",
      "  warnings.warn(\n",
      "***** Running training *****\n",
      "  Num examples = 6000\n",
      "  Num Epochs = 1\n",
      "  Instantaneous batch size per device = 16\n",
      "  Total train batch size (w. parallel, distributed & accumulation) = 16\n",
      "  Gradient Accumulation steps = 1\n",
      "  Total optimization steps = 5\n",
      "  Number of trainable parameters = 124650246\n"
     ]
    },
    {
     "data": {
      "text/html": [
       "\n",
       "    <div>\n",
       "      \n",
       "      <progress value='5' max='5' style='width:300px; height:20px; vertical-align: middle;'></progress>\n",
       "      [5/5 25:44, Epoch 0/1]\n",
       "    </div>\n",
       "    <table border=\"1\" class=\"dataframe\">\n",
       "  <thead>\n",
       " <tr style=\"text-align: left;\">\n",
       "      <th>Epoch</th>\n",
       "      <th>Training Loss</th>\n",
       "      <th>Validation Loss</th>\n",
       "      <th>Accuracy</th>\n",
       "      <th>F1</th>\n",
       "      <th>Precision</th>\n",
       "      <th>Recall</th>\n",
       "    </tr>\n",
       "  </thead>\n",
       "  <tbody>\n",
       "    <tr>\n",
       "      <td>0</td>\n",
       "      <td>No log</td>\n",
       "      <td>1.578725</td>\n",
       "      <td>0.455000</td>\n",
       "      <td>0.284570</td>\n",
       "      <td>0.207025</td>\n",
       "      <td>0.455000</td>\n",
       "    </tr>\n",
       "  </tbody>\n",
       "</table><p>"
      ],
      "text/plain": [
       "<IPython.core.display.HTML object>"
      ]
     },
     "metadata": {},
     "output_type": "display_data"
    },
    {
     "name": "stderr",
     "output_type": "stream",
     "text": [
      "***** Running Evaluation *****\n",
      "  Num examples = 2000\n",
      "  Batch size = 16\n",
      "C:\\Users\\sahre\\anaconda3\\lib\\site-packages\\sklearn\\metrics\\_classification.py:1318: UndefinedMetricWarning: Precision and F-score are ill-defined and being set to 0.0 in labels with no predicted samples. Use `zero_division` parameter to control this behavior.\n",
      "  _warn_prf(average, modifier, msg_start, len(result))\n",
      "\n",
      "\n",
      "Training completed. Do not forget to share your model on huggingface.co/models =)\n",
      "\n",
      "\n"
     ]
    },
    {
     "data": {
      "text/plain": [
       "TrainOutput(global_step=5, training_loss=1.6278072357177735, metrics={'train_runtime': 1576.4727, 'train_samples_per_second': 0.051, 'train_steps_per_second': 0.003, 'total_flos': 9497005721280.0, 'train_loss': 1.6278072357177735, 'epoch': 0.01})"
      ]
     },
     "execution_count": 192,
     "metadata": {},
     "output_type": "execute_result"
    }
   ],
   "source": [
    "trainer.train()"
   ]
  },
  {
   "cell_type": "markdown",
   "id": "386167bb",
   "metadata": {},
   "source": [
    "## Tuning Hyperparameter 3"
   ]
  },
  {
   "cell_type": "code",
   "execution_count": 22,
   "id": "d4f2598e",
   "metadata": {},
   "outputs": [],
   "source": [
    "training_args = TrainingArguments(\n",
    "    output_dir='./results',\n",
    "    evaluation_strategy='epoch',\n",
    "    learning_rate=1e-4,\n",
    "    per_device_train_batch_size=16,\n",
    "    per_device_eval_batch_size=16,\n",
    "    num_train_epochs=1,\n",
    "    weight_decay=0,\n",
    "    max_steps=5,\n",
    "    logging_steps = 700\n",
    ")"
   ]
  },
  {
   "cell_type": "code",
   "execution_count": 25,
   "id": "b9f7817b",
   "metadata": {},
   "outputs": [
    {
     "name": "stderr",
     "output_type": "stream",
     "text": [
      "max_steps is given, it will override any value given in num_train_epochs\n"
     ]
    }
   ],
   "source": [
    "trainer = Trainer(\n",
    "    model=model,\n",
    "    args=training_args,\n",
    "    train_dataset=train_dataset,\n",
    "    eval_dataset=val_dataset,\n",
    "    tokenizer=tokenizer,\n",
    "    compute_metrics=compute_metrics\n",
    ")"
   ]
  },
  {
   "cell_type": "code",
   "execution_count": 26,
   "id": "75ab820a",
   "metadata": {},
   "outputs": [
    {
     "name": "stderr",
     "output_type": "stream",
     "text": [
      "C:\\Users\\sahre\\anaconda3\\lib\\site-packages\\transformers\\optimization.py:306: FutureWarning: This implementation of AdamW is deprecated and will be removed in a future version. Use the PyTorch implementation torch.optim.AdamW instead, or set `no_deprecation_warning=True` to disable this warning\n",
      "  warnings.warn(\n",
      "***** Running training *****\n",
      "  Num examples = 6000\n",
      "  Num Epochs = 1\n",
      "  Instantaneous batch size per device = 16\n",
      "  Total train batch size (w. parallel, distributed & accumulation) = 16\n",
      "  Gradient Accumulation steps = 1\n",
      "  Total optimization steps = 5\n",
      "  Number of trainable parameters = 124650246\n"
     ]
    },
    {
     "data": {
      "text/html": [
       "\n",
       "    <div>\n",
       "      \n",
       "      <progress value='5' max='5' style='width:300px; height:20px; vertical-align: middle;'></progress>\n",
       "      [5/5 14:12, Epoch 0/1]\n",
       "    </div>\n",
       "    <table border=\"1\" class=\"dataframe\">\n",
       "  <thead>\n",
       " <tr style=\"text-align: left;\">\n",
       "      <th>Epoch</th>\n",
       "      <th>Training Loss</th>\n",
       "      <th>Validation Loss</th>\n",
       "      <th>Accuracy</th>\n",
       "      <th>F1</th>\n",
       "      <th>Precision</th>\n",
       "      <th>Recall</th>\n",
       "    </tr>\n",
       "  </thead>\n",
       "  <tbody>\n",
       "    <tr>\n",
       "      <td>0</td>\n",
       "      <td>No log</td>\n",
       "      <td>1.531640</td>\n",
       "      <td>0.455000</td>\n",
       "      <td>0.284570</td>\n",
       "      <td>0.207025</td>\n",
       "      <td>0.455000</td>\n",
       "    </tr>\n",
       "  </tbody>\n",
       "</table><p>"
      ],
      "text/plain": [
       "<IPython.core.display.HTML object>"
      ]
     },
     "metadata": {},
     "output_type": "display_data"
    },
    {
     "name": "stderr",
     "output_type": "stream",
     "text": [
      "***** Running Evaluation *****\n",
      "  Num examples = 2000\n",
      "  Batch size = 16\n",
      "C:\\Users\\sahre\\anaconda3\\lib\\site-packages\\sklearn\\metrics\\_classification.py:1318: UndefinedMetricWarning: Precision and F-score are ill-defined and being set to 0.0 in labels with no predicted samples. Use `zero_division` parameter to control this behavior.\n",
      "  _warn_prf(average, modifier, msg_start, len(result))\n",
      "\n",
      "\n",
      "Training completed. Do not forget to share your model on huggingface.co/models =)\n",
      "\n",
      "\n"
     ]
    },
    {
     "data": {
      "text/plain": [
       "TrainOutput(global_step=5, training_loss=1.6109735488891601, metrics={'train_runtime': 871.2369, 'train_samples_per_second': 0.092, 'train_steps_per_second': 0.006, 'total_flos': 9497005721280.0, 'train_loss': 1.6109735488891601, 'epoch': 0.01})"
      ]
     },
     "execution_count": 26,
     "metadata": {},
     "output_type": "execute_result"
    }
   ],
   "source": [
    "trainer.train()"
   ]
  }
 ],
 "metadata": {
  "kernelspec": {
   "display_name": "Python 3 (ipykernel)",
   "language": "python",
   "name": "python3"
  },
  "language_info": {
   "codemirror_mode": {
    "name": "ipython",
    "version": 3
   },
   "file_extension": ".py",
   "mimetype": "text/x-python",
   "name": "python",
   "nbconvert_exporter": "python",
   "pygments_lexer": "ipython3",
   "version": "3.9.13"
  }
 },
 "nbformat": 4,
 "nbformat_minor": 5
}
