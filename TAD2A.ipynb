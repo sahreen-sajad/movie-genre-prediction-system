{
 "cells": [
  {
   "cell_type": "markdown",
   "id": "eb2afa7d",
   "metadata": {},
   "source": [
    "# Q5 - Context vectors using BERT (a)"
   ]
  },
  {
   "cell_type": "markdown",
   "id": "41ab9b5f",
   "metadata": {},
   "source": [
    "## Installing Necessary Libraries and Data Cleaning"
   ]
  },
  {
   "cell_type": "code",
   "execution_count": 1,
   "id": "49ee2109",
   "metadata": {},
   "outputs": [
    {
     "name": "stdout",
     "output_type": "stream",
     "text": [
      "Requirement already satisfied: convokit in c:\\users\\sahre\\anaconda3\\lib\\site-packages (2.5.3)\n",
      "Requirement already satisfied: clean-text>=0.1.1 in c:\\users\\sahre\\anaconda3\\lib\\site-packages (from convokit) (0.6.0)\n",
      "Requirement already satisfied: nltk>=3.4 in c:\\users\\sahre\\anaconda3\\lib\\site-packages (from convokit) (3.7)\n",
      "Requirement already satisfied: dill>=0.2.9 in c:\\users\\sahre\\anaconda3\\lib\\site-packages (from convokit) (0.3.6)\n",
      "Requirement already satisfied: unidecode>=1.1.1 in c:\\users\\sahre\\anaconda3\\lib\\site-packages (from convokit) (1.2.0)\n",
      "Requirement already satisfied: spacy>=2.3.5 in c:\\users\\sahre\\anaconda3\\lib\\site-packages (from convokit) (3.5.0)\n",
      "Requirement already satisfied: matplotlib>=3.0.0 in c:\\users\\sahre\\anaconda3\\lib\\site-packages (from convokit) (3.5.2)\n",
      "Requirement already satisfied: scikit-learn>=0.20.0 in c:\\users\\sahre\\anaconda3\\lib\\site-packages (from convokit) (1.0.2)\n",
      "Requirement already satisfied: msgpack-numpy>=0.4.3.2 in c:\\users\\sahre\\anaconda3\\lib\\site-packages (from convokit) (0.4.8)\n",
      "Requirement already satisfied: pandas>=0.23.4 in c:\\users\\sahre\\anaconda3\\lib\\site-packages (from convokit) (1.4.4)\n",
      "Requirement already satisfied: scipy>=1.1.0 in c:\\users\\sahre\\anaconda3\\lib\\site-packages (from convokit) (1.9.1)\n",
      "Requirement already satisfied: joblib>=0.13.2 in c:\\users\\sahre\\anaconda3\\lib\\site-packages (from convokit) (1.2.0)\n",
      "Requirement already satisfied: ftfy<7.0,>=6.0 in c:\\users\\sahre\\anaconda3\\lib\\site-packages (from clean-text>=0.1.1->convokit) (6.1.1)\n",
      "Requirement already satisfied: emoji<2.0.0,>=1.0.0 in c:\\users\\sahre\\anaconda3\\lib\\site-packages (from clean-text>=0.1.1->convokit) (1.7.0)\n",
      "Requirement already satisfied: pillow>=6.2.0 in c:\\users\\sahre\\anaconda3\\lib\\site-packages (from matplotlib>=3.0.0->convokit) (9.2.0)\n",
      "Requirement already satisfied: cycler>=0.10 in c:\\users\\sahre\\anaconda3\\lib\\site-packages (from matplotlib>=3.0.0->convokit) (0.11.0)\n",
      "Requirement already satisfied: fonttools>=4.22.0 in c:\\users\\sahre\\anaconda3\\lib\\site-packages (from matplotlib>=3.0.0->convokit) (4.25.0)\n",
      "Requirement already satisfied: kiwisolver>=1.0.1 in c:\\users\\sahre\\anaconda3\\lib\\site-packages (from matplotlib>=3.0.0->convokit) (1.4.2)\n",
      "Requirement already satisfied: packaging>=20.0 in c:\\users\\sahre\\anaconda3\\lib\\site-packages (from matplotlib>=3.0.0->convokit) (21.3)\n",
      "Requirement already satisfied: python-dateutil>=2.7 in c:\\users\\sahre\\anaconda3\\lib\\site-packages (from matplotlib>=3.0.0->convokit) (2.8.2)\n",
      "Requirement already satisfied: numpy>=1.17 in c:\\users\\sahre\\anaconda3\\lib\\site-packages (from matplotlib>=3.0.0->convokit) (1.24.2)\n",
      "Requirement already satisfied: pyparsing>=2.2.1 in c:\\users\\sahre\\anaconda3\\lib\\site-packages (from matplotlib>=3.0.0->convokit) (3.0.9)\n",
      "Requirement already satisfied: msgpack>=0.5.2 in c:\\users\\sahre\\anaconda3\\lib\\site-packages (from msgpack-numpy>=0.4.3.2->convokit) (1.0.3)\n",
      "Requirement already satisfied: click in c:\\users\\sahre\\anaconda3\\lib\\site-packages (from nltk>=3.4->convokit) (8.0.4)\n",
      "Requirement already satisfied: tqdm in c:\\users\\sahre\\anaconda3\\lib\\site-packages (from nltk>=3.4->convokit) (4.64.1)\n",
      "Requirement already satisfied: regex>=2021.8.3 in c:\\users\\sahre\\anaconda3\\lib\\site-packages (from nltk>=3.4->convokit) (2022.7.9)\n",
      "Requirement already satisfied: pytz>=2020.1 in c:\\users\\sahre\\anaconda3\\lib\\site-packages (from pandas>=0.23.4->convokit) (2022.1)\n",
      "Requirement already satisfied: threadpoolctl>=2.0.0 in c:\\users\\sahre\\anaconda3\\lib\\site-packages (from scikit-learn>=0.20.0->convokit) (2.2.0)\n",
      "Requirement already satisfied: preshed<3.1.0,>=3.0.2 in c:\\users\\sahre\\anaconda3\\lib\\site-packages (from spacy>=2.3.5->convokit) (3.0.8)\n",
      "Requirement already satisfied: catalogue<2.1.0,>=2.0.6 in c:\\users\\sahre\\anaconda3\\lib\\site-packages (from spacy>=2.3.5->convokit) (2.0.8)\n",
      "Requirement already satisfied: langcodes<4.0.0,>=3.2.0 in c:\\users\\sahre\\anaconda3\\lib\\site-packages (from spacy>=2.3.5->convokit) (3.3.0)\n",
      "Requirement already satisfied: jinja2 in c:\\users\\sahre\\anaconda3\\lib\\site-packages (from spacy>=2.3.5->convokit) (2.11.3)\n",
      "Requirement already satisfied: spacy-legacy<3.1.0,>=3.0.11 in c:\\users\\sahre\\anaconda3\\lib\\site-packages (from spacy>=2.3.5->convokit) (3.0.12)\n",
      "Requirement already satisfied: pydantic!=1.8,!=1.8.1,<1.11.0,>=1.7.4 in c:\\users\\sahre\\anaconda3\\lib\\site-packages (from spacy>=2.3.5->convokit) (1.10.4)\n",
      "Requirement already satisfied: typer<0.8.0,>=0.3.0 in c:\\users\\sahre\\anaconda3\\lib\\site-packages (from spacy>=2.3.5->convokit) (0.7.0)\n",
      "Requirement already satisfied: srsly<3.0.0,>=2.4.3 in c:\\users\\sahre\\anaconda3\\lib\\site-packages (from spacy>=2.3.5->convokit) (2.4.5)\n",
      "Requirement already satisfied: thinc<8.2.0,>=8.1.0 in c:\\users\\sahre\\anaconda3\\lib\\site-packages (from spacy>=2.3.5->convokit) (8.1.7)\n",
      "Requirement already satisfied: setuptools in c:\\users\\sahre\\anaconda3\\lib\\site-packages (from spacy>=2.3.5->convokit) (63.4.1)\n",
      "Requirement already satisfied: smart-open<7.0.0,>=5.2.1 in c:\\users\\sahre\\anaconda3\\lib\\site-packages (from spacy>=2.3.5->convokit) (5.2.1)\n",
      "Requirement already satisfied: requests<3.0.0,>=2.13.0 in c:\\users\\sahre\\anaconda3\\lib\\site-packages (from spacy>=2.3.5->convokit) (2.28.1)\n",
      "Requirement already satisfied: spacy-loggers<2.0.0,>=1.0.0 in c:\\users\\sahre\\anaconda3\\lib\\site-packages (from spacy>=2.3.5->convokit) (1.0.4)\n",
      "Requirement already satisfied: murmurhash<1.1.0,>=0.28.0 in c:\\users\\sahre\\anaconda3\\lib\\site-packages (from spacy>=2.3.5->convokit) (1.0.9)\n",
      "Requirement already satisfied: wasabi<1.2.0,>=0.9.1 in c:\\users\\sahre\\anaconda3\\lib\\site-packages (from spacy>=2.3.5->convokit) (1.1.1)\n",
      "Requirement already satisfied: pathy>=0.10.0 in c:\\users\\sahre\\anaconda3\\lib\\site-packages (from spacy>=2.3.5->convokit) (0.10.1)\n",
      "Requirement already satisfied: cymem<2.1.0,>=2.0.2 in c:\\users\\sahre\\anaconda3\\lib\\site-packages (from spacy>=2.3.5->convokit) (2.0.7)\n",
      "Requirement already satisfied: wcwidth>=0.2.5 in c:\\users\\sahre\\anaconda3\\lib\\site-packages (from ftfy<7.0,>=6.0->clean-text>=0.1.1->convokit) (0.2.5)\n",
      "Requirement already satisfied: typing-extensions>=4.2.0 in c:\\users\\sahre\\anaconda3\\lib\\site-packages (from pydantic!=1.8,!=1.8.1,<1.11.0,>=1.7.4->spacy>=2.3.5->convokit) (4.3.0)\n",
      "Requirement already satisfied: six>=1.5 in c:\\users\\sahre\\anaconda3\\lib\\site-packages (from python-dateutil>=2.7->matplotlib>=3.0.0->convokit) (1.16.0)\n",
      "Requirement already satisfied: idna<4,>=2.5 in c:\\users\\sahre\\anaconda3\\lib\\site-packages (from requests<3.0.0,>=2.13.0->spacy>=2.3.5->convokit) (3.3)\n",
      "Requirement already satisfied: certifi>=2017.4.17 in c:\\users\\sahre\\anaconda3\\lib\\site-packages (from requests<3.0.0,>=2.13.0->spacy>=2.3.5->convokit) (2022.9.14)\n",
      "Requirement already satisfied: charset-normalizer<3,>=2 in c:\\users\\sahre\\anaconda3\\lib\\site-packages (from requests<3.0.0,>=2.13.0->spacy>=2.3.5->convokit) (2.0.4)\n",
      "Requirement already satisfied: urllib3<1.27,>=1.21.1 in c:\\users\\sahre\\anaconda3\\lib\\site-packages (from requests<3.0.0,>=2.13.0->spacy>=2.3.5->convokit) (1.26.11)\n",
      "Requirement already satisfied: blis<0.8.0,>=0.7.8 in c:\\users\\sahre\\anaconda3\\lib\\site-packages (from thinc<8.2.0,>=8.1.0->spacy>=2.3.5->convokit) (0.7.9)\n",
      "Requirement already satisfied: confection<1.0.0,>=0.0.1 in c:\\users\\sahre\\anaconda3\\lib\\site-packages (from thinc<8.2.0,>=8.1.0->spacy>=2.3.5->convokit) (0.0.4)\n",
      "Requirement already satisfied: colorama in c:\\users\\sahre\\anaconda3\\lib\\site-packages (from tqdm->nltk>=3.4->convokit) (0.4.6)\n",
      "Requirement already satisfied: MarkupSafe>=0.23 in c:\\users\\sahre\\anaconda3\\lib\\site-packages (from jinja2->spacy>=2.3.5->convokit) (2.0.1)\n",
      "Note: you may need to restart the kernel to use updated packages.\n"
     ]
    }
   ],
   "source": [
    "pip install convokit"
   ]
  },
  {
   "cell_type": "code",
   "execution_count": 2,
   "id": "41d83630",
   "metadata": {},
   "outputs": [
    {
     "name": "stdout",
     "output_type": "stream",
     "text": [
      "Requirement already satisfied: spacy in c:\\users\\sahre\\anaconda3\\lib\\site-packages (3.5.0)\n",
      "Requirement already satisfied: srsly<3.0.0,>=2.4.3 in c:\\users\\sahre\\anaconda3\\lib\\site-packages (from spacy) (2.4.5)\n",
      "Requirement already satisfied: cymem<2.1.0,>=2.0.2 in c:\\users\\sahre\\anaconda3\\lib\\site-packages (from spacy) (2.0.7)\n",
      "Requirement already satisfied: wasabi<1.2.0,>=0.9.1 in c:\\users\\sahre\\anaconda3\\lib\\site-packages (from spacy) (1.1.1)\n",
      "Requirement already satisfied: tqdm<5.0.0,>=4.38.0 in c:\\users\\sahre\\anaconda3\\lib\\site-packages (from spacy) (4.64.1)\n",
      "Requirement already satisfied: murmurhash<1.1.0,>=0.28.0 in c:\\users\\sahre\\anaconda3\\lib\\site-packages (from spacy) (1.0.9)\n",
      "Requirement already satisfied: preshed<3.1.0,>=3.0.2 in c:\\users\\sahre\\anaconda3\\lib\\site-packages (from spacy) (3.0.8)\n",
      "Requirement already satisfied: packaging>=20.0 in c:\\users\\sahre\\anaconda3\\lib\\site-packages (from spacy) (21.3)\n",
      "Requirement already satisfied: langcodes<4.0.0,>=3.2.0 in c:\\users\\sahre\\anaconda3\\lib\\site-packages (from spacy) (3.3.0)\n",
      "Requirement already satisfied: smart-open<7.0.0,>=5.2.1 in c:\\users\\sahre\\anaconda3\\lib\\site-packages (from spacy) (5.2.1)\n",
      "Requirement already satisfied: requests<3.0.0,>=2.13.0 in c:\\users\\sahre\\anaconda3\\lib\\site-packages (from spacy) (2.28.1)\n",
      "Requirement already satisfied: typer<0.8.0,>=0.3.0 in c:\\users\\sahre\\anaconda3\\lib\\site-packages (from spacy) (0.7.0)\n",
      "Requirement already satisfied: jinja2 in c:\\users\\sahre\\anaconda3\\lib\\site-packages (from spacy) (2.11.3)\n",
      "Requirement already satisfied: setuptools in c:\\users\\sahre\\anaconda3\\lib\\site-packages (from spacy) (63.4.1)\n",
      "Requirement already satisfied: thinc<8.2.0,>=8.1.0 in c:\\users\\sahre\\anaconda3\\lib\\site-packages (from spacy) (8.1.7)\n",
      "Requirement already satisfied: spacy-loggers<2.0.0,>=1.0.0 in c:\\users\\sahre\\anaconda3\\lib\\site-packages (from spacy) (1.0.4)\n",
      "Requirement already satisfied: pathy>=0.10.0 in c:\\users\\sahre\\anaconda3\\lib\\site-packages (from spacy) (0.10.1)\n",
      "Requirement already satisfied: spacy-legacy<3.1.0,>=3.0.11 in c:\\users\\sahre\\anaconda3\\lib\\site-packages (from spacy) (3.0.12)\n",
      "Requirement already satisfied: numpy>=1.15.0 in c:\\users\\sahre\\anaconda3\\lib\\site-packages (from spacy) (1.24.2)\n",
      "Requirement already satisfied: catalogue<2.1.0,>=2.0.6 in c:\\users\\sahre\\anaconda3\\lib\\site-packages (from spacy) (2.0.8)\n",
      "Requirement already satisfied: pydantic!=1.8,!=1.8.1,<1.11.0,>=1.7.4 in c:\\users\\sahre\\anaconda3\\lib\\site-packages (from spacy) (1.10.4)\n",
      "Requirement already satisfied: pyparsing!=3.0.5,>=2.0.2 in c:\\users\\sahre\\anaconda3\\lib\\site-packages (from packaging>=20.0->spacy) (3.0.9)\n",
      "Requirement already satisfied: typing-extensions>=4.2.0 in c:\\users\\sahre\\anaconda3\\lib\\site-packages (from pydantic!=1.8,!=1.8.1,<1.11.0,>=1.7.4->spacy) (4.3.0)\n",
      "Requirement already satisfied: certifi>=2017.4.17 in c:\\users\\sahre\\anaconda3\\lib\\site-packages (from requests<3.0.0,>=2.13.0->spacy) (2022.9.14)\n",
      "Requirement already satisfied: urllib3<1.27,>=1.21.1 in c:\\users\\sahre\\anaconda3\\lib\\site-packages (from requests<3.0.0,>=2.13.0->spacy) (1.26.11)\n",
      "Requirement already satisfied: idna<4,>=2.5 in c:\\users\\sahre\\anaconda3\\lib\\site-packages (from requests<3.0.0,>=2.13.0->spacy) (3.3)\n",
      "Requirement already satisfied: charset-normalizer<3,>=2 in c:\\users\\sahre\\anaconda3\\lib\\site-packages (from requests<3.0.0,>=2.13.0->spacy) (2.0.4)\n",
      "Requirement already satisfied: confection<1.0.0,>=0.0.1 in c:\\users\\sahre\\anaconda3\\lib\\site-packages (from thinc<8.2.0,>=8.1.0->spacy) (0.0.4)\n",
      "Requirement already satisfied: blis<0.8.0,>=0.7.8 in c:\\users\\sahre\\anaconda3\\lib\\site-packages (from thinc<8.2.0,>=8.1.0->spacy) (0.7.9)\n",
      "Requirement already satisfied: colorama in c:\\users\\sahre\\anaconda3\\lib\\site-packages (from tqdm<5.0.0,>=4.38.0->spacy) (0.4.6)\n",
      "Requirement already satisfied: click<9.0.0,>=7.1.1 in c:\\users\\sahre\\anaconda3\\lib\\site-packages (from typer<0.8.0,>=0.3.0->spacy) (8.0.4)\n",
      "Requirement already satisfied: MarkupSafe>=0.23 in c:\\users\\sahre\\anaconda3\\lib\\site-packages (from jinja2->spacy) (2.0.1)\n",
      "Note: you may need to restart the kernel to use updated packages.\n"
     ]
    }
   ],
   "source": [
    "pip install spacy"
   ]
  },
  {
   "cell_type": "code",
   "execution_count": 3,
   "id": "2363ac16",
   "metadata": {},
   "outputs": [],
   "source": [
    "import locale\n",
    "def getpreferredencoding(do_setlocale = True):\n",
    "    return \"UTF-8\"\n",
    "locale.getpreferredencoding = getpreferredencoding"
   ]
  },
  {
   "cell_type": "code",
   "execution_count": 4,
   "id": "01f3fcca",
   "metadata": {},
   "outputs": [
    {
     "name": "stdout",
     "output_type": "stream",
     "text": [
      "Downloading movie-corpus to C:\\Users\\sahre\\.convokit\\downloads\\movie-corpus\n",
      "Downloading movie-corpus from http://zissou.infosci.cornell.edu/convokit/datasets/movie-corpus/movie-corpus.zip (40.9MB)... Done\n"
     ]
    }
   ],
   "source": [
    "from convokit import Corpus, download\n",
    "corpus = Corpus(filename=download(\"movie-corpus\"))"
   ]
  },
  {
   "cell_type": "code",
   "execution_count": 5,
   "id": "4e6927e4",
   "metadata": {},
   "outputs": [],
   "source": [
    "utterances = corpus.get_utterances_dataframe()\n",
    "utterances = utterances.sample(n=20000, random_state=42) #Sample random 20000 rows in utterances\n",
    "conversations = corpus.get_conversations_dataframe()\n",
    "conversations.rename(columns={'meta.movie_idx': 'meta.movie_id'}, inplace=True) #rename columns for convenience\n",
    "speakers = corpus.get_speakers_dataframe()\n",
    "speakers.rename(columns={'meta.movie_idx': 'meta.movie_id'}, inplace=True)"
   ]
  },
  {
   "cell_type": "code",
   "execution_count": 6,
   "id": "3bad27b4",
   "metadata": {},
   "outputs": [],
   "source": [
    "conversations['meta.genre'] = conversations['meta.genre'].apply(lambda x: \"drama\" if x == \"['drama']\" else x)\n",
    "conversations['meta.genre'] = conversations['meta.genre'].apply(lambda x: \"horror\" if x == \"['horror']\" else x)\n",
    "conversations['meta.genre'] = conversations['meta.genre'].apply(lambda x: \"thriller\" if x == \"['thriller']\" else x)\n",
    "conversations['meta.genre'] = conversations['meta.genre'].apply(lambda x: \"comedy\" if x == \"['comedy']\" else x)\n",
    "conversations['meta.genre'] = conversations['meta.genre'].apply(lambda x: \"documentary\" if x == \"['documentary']\" else x)\n",
    "conversations['meta.genre'] = conversations['meta.genre'].apply(lambda x: \"romcom\" if x == \"['comedy', 'romance']\" else x)"
   ]
  },
  {
   "cell_type": "code",
   "execution_count": 7,
   "id": "97aec657",
   "metadata": {},
   "outputs": [],
   "source": [
    "conversations = conversations.loc[conversations['meta.genre'].isin(['drama','horror','thriller', 'comedy','romcom','documentary'])]\n",
    "conversations = conversations.drop(columns=['meta.release_year', 'meta.rating', 'meta.votes'], axis=1)\n",
    "speakers = speakers.drop(columns=['meta.credit_pos', 'meta.gender', 'meta.character_name'], axis=1)"
   ]
  },
  {
   "cell_type": "code",
   "execution_count": 8,
   "id": "4fce6e3e",
   "metadata": {},
   "outputs": [],
   "source": [
    "#Merging the three dataframes\n",
    "import pandas as pd\n",
    "merged_df = conversations.merge(speakers, on='meta.movie_id').merge(utterances, on='meta.movie_id')\n",
    "from functools import reduce\n",
    "dfs = [conversations, utterances, speakers]\n",
    "final_df = dfs[0]\n",
    "for df in dfs[1:]:\n",
    "    final_df = pd.merge(final_df, df, on=['meta.movie_id'], how='inner')"
   ]
  },
  {
   "cell_type": "code",
   "execution_count": 9,
   "id": "15700638",
   "metadata": {},
   "outputs": [],
   "source": [
    "#Sampling 10000 rows\n",
    "final_df = final_df.sample(n=10000, random_state=42)"
   ]
  },
  {
   "cell_type": "code",
   "execution_count": 10,
   "id": "b7726da4",
   "metadata": {},
   "outputs": [],
   "source": [
    "import pandas as pd\n",
    "from sklearn.model_selection import StratifiedShuffleSplit\n",
    "y = final_df['meta.genre']\n",
    "\n",
    "#Split the data into training and the rest with 60:40 split\n",
    "stratified_split = StratifiedShuffleSplit(n_splits=1, test_size=0.4, random_state=0) \n",
    "for train_index, test_val_index in stratified_split.split(final_df, y):\n",
    "    train = final_df.iloc[train_index]\n",
    "    test_val = final_df.iloc[test_val_index]\n",
    "\n",
    "#Split the remaining 40% data into testing and validation 50:50 split\n",
    "y_test_val = y.iloc[test_val_index]\n",
    "stratified_split = StratifiedShuffleSplit(n_splits=1, test_size=0.5, random_state=0)\n",
    "for test_index,val_index in stratified_split.split(test_val, y_test_val):\n",
    "    test = test_val.iloc[test_index]\n",
    "    val = test_val.iloc[val_index]"
   ]
  },
  {
   "cell_type": "code",
   "execution_count": 11,
   "id": "17f60ed9",
   "metadata": {},
   "outputs": [],
   "source": [
    "BERT_train = train.copy()\n",
    "BERT_val = val.copy()\n",
    "BERT_test = test.copy()"
   ]
  },
  {
   "cell_type": "code",
   "execution_count": 12,
   "id": "77dccb7f",
   "metadata": {},
   "outputs": [
    {
     "name": "stdout",
     "output_type": "stream",
     "text": [
      "Requirement already satisfied: transformers in c:\\users\\sahre\\anaconda3\\lib\\site-packages (4.26.1)\n",
      "Requirement already satisfied: filelock in c:\\users\\sahre\\anaconda3\\lib\\site-packages (from transformers) (3.6.0)\n",
      "Requirement already satisfied: packaging>=20.0 in c:\\users\\sahre\\anaconda3\\lib\\site-packages (from transformers) (21.3)\n",
      "Requirement already satisfied: tqdm>=4.27 in c:\\users\\sahre\\anaconda3\\lib\\site-packages (from transformers) (4.64.1)\n",
      "Requirement already satisfied: pyyaml>=5.1 in c:\\users\\sahre\\anaconda3\\lib\\site-packages (from transformers) (6.0)\n",
      "Requirement already satisfied: huggingface-hub<1.0,>=0.11.0 in c:\\users\\sahre\\anaconda3\\lib\\site-packages (from transformers) (0.13.1)\n",
      "Requirement already satisfied: tokenizers!=0.11.3,<0.14,>=0.11.1 in c:\\users\\sahre\\anaconda3\\lib\\site-packages (from transformers) (0.13.2)\n",
      "Requirement already satisfied: regex!=2019.12.17 in c:\\users\\sahre\\anaconda3\\lib\\site-packages (from transformers) (2022.7.9)\n",
      "Requirement already satisfied: requests in c:\\users\\sahre\\anaconda3\\lib\\site-packages (from transformers) (2.28.1)\n",
      "Requirement already satisfied: numpy>=1.17 in c:\\users\\sahre\\anaconda3\\lib\\site-packages (from transformers) (1.24.2)\n",
      "Requirement already satisfied: typing-extensions>=3.7.4.3 in c:\\users\\sahre\\anaconda3\\lib\\site-packages (from huggingface-hub<1.0,>=0.11.0->transformers) (4.3.0)\n",
      "Requirement already satisfied: pyparsing!=3.0.5,>=2.0.2 in c:\\users\\sahre\\anaconda3\\lib\\site-packages (from packaging>=20.0->transformers) (3.0.9)\n",
      "Requirement already satisfied: colorama in c:\\users\\sahre\\anaconda3\\lib\\site-packages (from tqdm>=4.27->transformers) (0.4.6)\n",
      "Requirement already satisfied: urllib3<1.27,>=1.21.1 in c:\\users\\sahre\\anaconda3\\lib\\site-packages (from requests->transformers) (1.26.11)\n",
      "Requirement already satisfied: idna<4,>=2.5 in c:\\users\\sahre\\anaconda3\\lib\\site-packages (from requests->transformers) (3.3)\n",
      "Requirement already satisfied: charset-normalizer<3,>=2 in c:\\users\\sahre\\anaconda3\\lib\\site-packages (from requests->transformers) (2.0.4)\n",
      "Requirement already satisfied: certifi>=2017.4.17 in c:\\users\\sahre\\anaconda3\\lib\\site-packages (from requests->transformers) (2022.9.14)\n",
      "Note: you may need to restart the kernel to use updated packages.\n"
     ]
    }
   ],
   "source": [
    "pip install transformers"
   ]
  },
  {
   "cell_type": "code",
   "execution_count": 13,
   "id": "6abc4264",
   "metadata": {},
   "outputs": [
    {
     "name": "stdout",
     "output_type": "stream",
     "text": [
      "Requirement already satisfied: torch in c:\\users\\sahre\\anaconda3\\lib\\site-packages (1.13.1)\n",
      "Requirement already satisfied: typing-extensions in c:\\users\\sahre\\anaconda3\\lib\\site-packages (from torch) (4.3.0)\n",
      "Note: you may need to restart the kernel to use updated packages.\n"
     ]
    }
   ],
   "source": [
    "pip install torch"
   ]
  },
  {
   "cell_type": "code",
   "execution_count": 14,
   "id": "c864f6ec",
   "metadata": {},
   "outputs": [],
   "source": [
    "#Function to evaluate metrics\n",
    "import pandas as pd\n",
    "import matplotlib.pyplot as plt\n",
    "from sklearn.metrics import precision_recall_fscore_support\n",
    "\n",
    "def evaluate(val, val_predictions):\n",
    "    val_precision, val_recall, val_f1, support = precision_recall_fscore_support(val['meta.genre'], val_predictions, average='macro', zero_division=True)\n",
    "    val_accuracy = (val['meta.genre'] == val_predictions).mean()\n",
    "    print(f'Validation accuracy: {val_accuracy:.3f}')\n",
    "    print(f'Validation precision (macro-averaged): {val_precision:.3f}')\n",
    "    print(f'Validation recall (macro-averaged): {val_recall:.3f}')\n",
    "    print(f'Validation F1-score (macro-averaged): {val_f1:.3f}')\n",
    "\n",
    "    \n"
   ]
  },
  {
   "cell_type": "code",
   "execution_count": 15,
   "id": "b187654f",
   "metadata": {},
   "outputs": [],
   "source": [
    "from transformers import RobertaModel, RobertaTokenizer"
   ]
  },
  {
   "cell_type": "code",
   "execution_count": 16,
   "id": "4e0035e5",
   "metadata": {},
   "outputs": [
    {
     "name": "stderr",
     "output_type": "stream",
     "text": [
      "Some weights of the model checkpoint at roberta-base were not used when initializing RobertaModel: ['lm_head.dense.weight', 'lm_head.layer_norm.bias', 'lm_head.bias', 'lm_head.layer_norm.weight', 'lm_head.decoder.weight', 'lm_head.dense.bias']\n",
      "- This IS expected if you are initializing RobertaModel from the checkpoint of a model trained on another task or with another architecture (e.g. initializing a BertForSequenceClassification model from a BertForPreTraining model).\n",
      "- This IS NOT expected if you are initializing RobertaModel from the checkpoint of a model that you expect to be exactly identical (initializing a BertForSequenceClassification model from a BertForSequenceClassification model).\n"
     ]
    }
   ],
   "source": [
    "\n",
    "model = RobertaModel.from_pretrained('roberta-base')\n",
    "tokenizer = RobertaTokenizer.from_pretrained('roberta-base')\n"
   ]
  },
  {
   "cell_type": "code",
   "execution_count": 17,
   "id": "cecd501e",
   "metadata": {},
   "outputs": [],
   "source": [
    "import torch\n",
    "from transformers import RobertaTokenizer, RobertaModel\n",
    "from sklearn.linear_model import LogisticRegression\n",
    "from sklearn.metrics import accuracy_score, precision_score, recall_score, fbeta_score, classification_report, confusion_matrix\n",
    "from transformers import pipeline\n",
    "from transformers import RobertaTokenizer, TFRobertaModel"
   ]
  },
  {
   "cell_type": "code",
   "execution_count": 18,
   "id": "51b367a4",
   "metadata": {},
   "outputs": [
    {
     "name": "stdout",
     "output_type": "stream",
     "text": [
      "Requirement already satisfied: pipeline in c:\\users\\sahre\\anaconda3\\lib\\site-packages (0.1.0)\n",
      "Note: you may need to restart the kernel to use updated packages.\n"
     ]
    }
   ],
   "source": [
    "pip install pipeline"
   ]
  },
  {
   "cell_type": "markdown",
   "id": "868a329e",
   "metadata": {},
   "source": [
    "## Feature Extractor using Pipeline"
   ]
  },
  {
   "cell_type": "code",
   "execution_count": 19,
   "id": "66bb4bbf",
   "metadata": {},
   "outputs": [],
   "source": [
    "feature_extractor = pipeline('feature-extraction', model=model, tokenizer=tokenizer, truncation=True)"
   ]
  },
  {
   "cell_type": "code",
   "execution_count": 20,
   "id": "ee77814e",
   "metadata": {},
   "outputs": [
    {
     "data": {
      "text/plain": [
       "Index(['vectors_x', 'meta.movie_id', 'meta.movie_name_x', 'meta.genre',\n",
       "       'timestamp', 'text', 'speaker', 'reply_to', 'conversation_id',\n",
       "       'meta.parsed', 'vectors_y', 'vectors', 'meta.movie_name_y'],\n",
       "      dtype='object')"
      ]
     },
     "execution_count": 20,
     "metadata": {},
     "output_type": "execute_result"
    }
   ],
   "source": [
    "BERT_train.columns"
   ]
  },
  {
   "cell_type": "code",
   "execution_count": 21,
   "id": "562341ca",
   "metadata": {},
   "outputs": [],
   "source": [
    "#Encodings for tokenisation\n",
    "import numpy as np\n",
    "X_train = np.array([feature_extractor(text)[0][0] for text in BERT_train['text']])\n",
    "X_val = np.array([feature_extractor(text)[0][0] for text in BERT_val['text']])"
   ]
  },
  {
   "cell_type": "markdown",
   "id": "037b0e86",
   "metadata": {},
   "source": [
    "## Logistic Regression"
   ]
  },
  {
   "cell_type": "code",
   "execution_count": 22,
   "id": "c8120b32",
   "metadata": {},
   "outputs": [
    {
     "name": "stdout",
     "output_type": "stream",
     "text": [
      "Validation accuracy: 0.533\n",
      "Validation precision (macro-averaged): 0.715\n",
      "Validation recall (macro-averaged): 0.253\n",
      "Validation F1-score (macro-averaged): 0.249\n"
     ]
    },
    {
     "name": "stderr",
     "output_type": "stream",
     "text": [
      "C:\\Users\\sahre\\anaconda3\\lib\\site-packages\\sklearn\\linear_model\\_logistic.py:814: ConvergenceWarning: lbfgs failed to converge (status=1):\n",
      "STOP: TOTAL NO. of ITERATIONS REACHED LIMIT.\n",
      "\n",
      "Increase the number of iterations (max_iter) or scale the data as shown in:\n",
      "    https://scikit-learn.org/stable/modules/preprocessing.html\n",
      "Please also refer to the documentation for alternative solver options:\n",
      "    https://scikit-learn.org/stable/modules/linear_model.html#logistic-regression\n",
      "  n_iter_i = _check_optimize_result(\n"
     ]
    }
   ],
   "source": [
    "#Vectorizer\n",
    "from sklearn.preprocessing import OneHotEncoder\n",
    "from sklearn.linear_model import LogisticRegression\n",
    "from sklearn import preprocessing\n",
    "\n",
    "clf = LogisticRegression(random_state=0).fit(X_train, BERT_train['meta.genre'])\n",
    "\n",
    "val_predictions = clf.predict(X_val)\n",
    "evaluate(BERT_val, val_predictions)"
   ]
  }
 ],
 "metadata": {
  "kernelspec": {
   "display_name": "Python 3 (ipykernel)",
   "language": "python",
   "name": "python3"
  },
  "language_info": {
   "codemirror_mode": {
    "name": "ipython",
    "version": 3
   },
   "file_extension": ".py",
   "mimetype": "text/x-python",
   "name": "python",
   "nbconvert_exporter": "python",
   "pygments_lexer": "ipython3",
   "version": "3.9.13"
  }
 },
 "nbformat": 4,
 "nbformat_minor": 5
}
