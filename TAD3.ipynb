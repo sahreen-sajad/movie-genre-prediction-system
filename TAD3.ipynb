{
  "nbformat": 4,
  "nbformat_minor": 0,
  "metadata": {
    "colab": {
      "provenance": [],
      "toc_visible": true
    },
    "kernelspec": {
      "name": "python3",
      "display_name": "Python 3"
    },
    "language_info": {
      "name": "python"
    }
  },
  "cells": [
    {
      "cell_type": "markdown",
      "source": [
        "# Initial Installation, Data Cleaning and Pre-processing"
      ],
      "metadata": {
        "id": "qw4rI4BJQBUP"
      }
    },
    {
      "cell_type": "markdown",
      "source": [
        "Before continuing to conclusion, we will install the necessary libraries and clean the data again. The reason for using another file is that the session gets crashed as the RAM gets used up while working at BERT"
      ],
      "metadata": {
        "id": "uaGvVeRAQHHt"
      }
    },
    {
      "cell_type": "code",
      "source": [
        "pip install convokit"
      ],
      "metadata": {
        "colab": {
          "base_uri": "https://localhost:8080/"
        },
        "id": "y2T8VHZTQMzP",
        "outputId": "22462efc-ff97-4a51-83a3-f1a383286268"
      },
      "execution_count": 1,
      "outputs": [
        {
          "output_type": "stream",
          "name": "stdout",
          "text": [
            "Looking in indexes: https://pypi.org/simple, https://us-python.pkg.dev/colab-wheels/public/simple/\n",
            "Requirement already satisfied: convokit in /usr/local/lib/python3.9/dist-packages (2.5.3)\n",
            "Requirement already satisfied: dill>=0.2.9 in /usr/local/lib/python3.9/dist-packages (from convokit) (0.3.6)\n",
            "Requirement already satisfied: matplotlib>=3.0.0 in /usr/local/lib/python3.9/dist-packages (from convokit) (3.5.3)\n",
            "Requirement already satisfied: scipy>=1.1.0 in /usr/local/lib/python3.9/dist-packages (from convokit) (1.10.1)\n",
            "Requirement already satisfied: msgpack-numpy>=0.4.3.2 in /usr/local/lib/python3.9/dist-packages (from convokit) (0.4.8)\n",
            "Requirement already satisfied: spacy>=2.3.5 in /usr/local/lib/python3.9/dist-packages (from convokit) (3.4.4)\n",
            "Requirement already satisfied: scikit-learn>=0.20.0 in /usr/local/lib/python3.9/dist-packages (from convokit) (1.2.1)\n",
            "Requirement already satisfied: nltk>=3.4 in /usr/local/lib/python3.9/dist-packages (from convokit) (3.7)\n",
            "Requirement already satisfied: joblib>=0.13.2 in /usr/local/lib/python3.9/dist-packages (from convokit) (1.2.0)\n",
            "Requirement already satisfied: pandas>=0.23.4 in /usr/local/lib/python3.9/dist-packages (from convokit) (1.3.5)\n",
            "Requirement already satisfied: unidecode>=1.1.1 in /usr/local/lib/python3.9/dist-packages (from convokit) (1.3.6)\n",
            "Requirement already satisfied: clean-text>=0.1.1 in /usr/local/lib/python3.9/dist-packages (from convokit) (0.6.0)\n",
            "Requirement already satisfied: emoji<2.0.0,>=1.0.0 in /usr/local/lib/python3.9/dist-packages (from clean-text>=0.1.1->convokit) (1.7.0)\n",
            "Requirement already satisfied: ftfy<7.0,>=6.0 in /usr/local/lib/python3.9/dist-packages (from clean-text>=0.1.1->convokit) (6.1.1)\n",
            "Requirement already satisfied: pillow>=6.2.0 in /usr/local/lib/python3.9/dist-packages (from matplotlib>=3.0.0->convokit) (8.4.0)\n",
            "Requirement already satisfied: fonttools>=4.22.0 in /usr/local/lib/python3.9/dist-packages (from matplotlib>=3.0.0->convokit) (4.39.0)\n",
            "Requirement already satisfied: python-dateutil>=2.7 in /usr/local/lib/python3.9/dist-packages (from matplotlib>=3.0.0->convokit) (2.8.2)\n",
            "Requirement already satisfied: kiwisolver>=1.0.1 in /usr/local/lib/python3.9/dist-packages (from matplotlib>=3.0.0->convokit) (1.4.4)\n",
            "Requirement already satisfied: numpy>=1.17 in /usr/local/lib/python3.9/dist-packages (from matplotlib>=3.0.0->convokit) (1.22.4)\n",
            "Requirement already satisfied: pyparsing>=2.2.1 in /usr/local/lib/python3.9/dist-packages (from matplotlib>=3.0.0->convokit) (3.0.9)\n",
            "Requirement already satisfied: cycler>=0.10 in /usr/local/lib/python3.9/dist-packages (from matplotlib>=3.0.0->convokit) (0.11.0)\n",
            "Requirement already satisfied: packaging>=20.0 in /usr/local/lib/python3.9/dist-packages (from matplotlib>=3.0.0->convokit) (23.0)\n",
            "Requirement already satisfied: msgpack>=0.5.2 in /usr/local/lib/python3.9/dist-packages (from msgpack-numpy>=0.4.3.2->convokit) (1.0.4)\n",
            "Requirement already satisfied: regex>=2021.8.3 in /usr/local/lib/python3.9/dist-packages (from nltk>=3.4->convokit) (2022.6.2)\n",
            "Requirement already satisfied: click in /usr/local/lib/python3.9/dist-packages (from nltk>=3.4->convokit) (8.1.3)\n",
            "Requirement already satisfied: tqdm in /usr/local/lib/python3.9/dist-packages (from nltk>=3.4->convokit) (4.65.0)\n",
            "Requirement already satisfied: pytz>=2017.3 in /usr/local/lib/python3.9/dist-packages (from pandas>=0.23.4->convokit) (2022.7.1)\n",
            "Requirement already satisfied: threadpoolctl>=2.0.0 in /usr/local/lib/python3.9/dist-packages (from scikit-learn>=0.20.0->convokit) (3.1.0)\n",
            "Requirement already satisfied: preshed<3.1.0,>=3.0.2 in /usr/local/lib/python3.9/dist-packages (from spacy>=2.3.5->convokit) (3.0.8)\n",
            "Requirement already satisfied: jinja2 in /usr/local/lib/python3.9/dist-packages (from spacy>=2.3.5->convokit) (3.1.2)\n",
            "Requirement already satisfied: spacy-legacy<3.1.0,>=3.0.10 in /usr/local/lib/python3.9/dist-packages (from spacy>=2.3.5->convokit) (3.0.12)\n",
            "Requirement already satisfied: cymem<2.1.0,>=2.0.2 in /usr/local/lib/python3.9/dist-packages (from spacy>=2.3.5->convokit) (2.0.7)\n",
            "Requirement already satisfied: wasabi<1.1.0,>=0.9.1 in /usr/local/lib/python3.9/dist-packages (from spacy>=2.3.5->convokit) (0.10.1)\n",
            "Requirement already satisfied: langcodes<4.0.0,>=3.2.0 in /usr/local/lib/python3.9/dist-packages (from spacy>=2.3.5->convokit) (3.3.0)\n",
            "Requirement already satisfied: setuptools in /usr/local/lib/python3.9/dist-packages (from spacy>=2.3.5->convokit) (57.4.0)\n",
            "Requirement already satisfied: spacy-loggers<2.0.0,>=1.0.0 in /usr/local/lib/python3.9/dist-packages (from spacy>=2.3.5->convokit) (1.0.4)\n",
            "Requirement already satisfied: srsly<3.0.0,>=2.4.3 in /usr/local/lib/python3.9/dist-packages (from spacy>=2.3.5->convokit) (2.4.6)\n",
            "Requirement already satisfied: typer<0.8.0,>=0.3.0 in /usr/local/lib/python3.9/dist-packages (from spacy>=2.3.5->convokit) (0.7.0)\n",
            "Requirement already satisfied: murmurhash<1.1.0,>=0.28.0 in /usr/local/lib/python3.9/dist-packages (from spacy>=2.3.5->convokit) (1.0.9)\n",
            "Requirement already satisfied: pathy>=0.3.5 in /usr/local/lib/python3.9/dist-packages (from spacy>=2.3.5->convokit) (0.10.1)\n",
            "Requirement already satisfied: catalogue<2.1.0,>=2.0.6 in /usr/local/lib/python3.9/dist-packages (from spacy>=2.3.5->convokit) (2.0.8)\n",
            "Requirement already satisfied: thinc<8.2.0,>=8.1.0 in /usr/local/lib/python3.9/dist-packages (from spacy>=2.3.5->convokit) (8.1.8)\n",
            "Requirement already satisfied: pydantic!=1.8,!=1.8.1,<1.11.0,>=1.7.4 in /usr/local/lib/python3.9/dist-packages (from spacy>=2.3.5->convokit) (1.10.5)\n",
            "Requirement already satisfied: requests<3.0.0,>=2.13.0 in /usr/local/lib/python3.9/dist-packages (from spacy>=2.3.5->convokit) (2.25.1)\n",
            "Requirement already satisfied: smart-open<7.0.0,>=5.2.1 in /usr/local/lib/python3.9/dist-packages (from spacy>=2.3.5->convokit) (6.3.0)\n",
            "Requirement already satisfied: wcwidth>=0.2.5 in /usr/local/lib/python3.9/dist-packages (from ftfy<7.0,>=6.0->clean-text>=0.1.1->convokit) (0.2.6)\n",
            "Requirement already satisfied: typing-extensions>=4.2.0 in /usr/local/lib/python3.9/dist-packages (from pydantic!=1.8,!=1.8.1,<1.11.0,>=1.7.4->spacy>=2.3.5->convokit) (4.5.0)\n",
            "Requirement already satisfied: six>=1.5 in /usr/local/lib/python3.9/dist-packages (from python-dateutil>=2.7->matplotlib>=3.0.0->convokit) (1.15.0)\n",
            "Requirement already satisfied: idna<3,>=2.5 in /usr/local/lib/python3.9/dist-packages (from requests<3.0.0,>=2.13.0->spacy>=2.3.5->convokit) (2.10)\n",
            "Requirement already satisfied: chardet<5,>=3.0.2 in /usr/local/lib/python3.9/dist-packages (from requests<3.0.0,>=2.13.0->spacy>=2.3.5->convokit) (4.0.0)\n",
            "Requirement already satisfied: certifi>=2017.4.17 in /usr/local/lib/python3.9/dist-packages (from requests<3.0.0,>=2.13.0->spacy>=2.3.5->convokit) (2022.12.7)\n",
            "Requirement already satisfied: urllib3<1.27,>=1.21.1 in /usr/local/lib/python3.9/dist-packages (from requests<3.0.0,>=2.13.0->spacy>=2.3.5->convokit) (1.26.14)\n",
            "Requirement already satisfied: blis<0.8.0,>=0.7.8 in /usr/local/lib/python3.9/dist-packages (from thinc<8.2.0,>=8.1.0->spacy>=2.3.5->convokit) (0.7.9)\n",
            "Requirement already satisfied: confection<1.0.0,>=0.0.1 in /usr/local/lib/python3.9/dist-packages (from thinc<8.2.0,>=8.1.0->spacy>=2.3.5->convokit) (0.0.4)\n",
            "Requirement already satisfied: MarkupSafe>=2.0 in /usr/local/lib/python3.9/dist-packages (from jinja2->spacy>=2.3.5->convokit) (2.1.2)\n"
          ]
        }
      ]
    },
    {
      "cell_type": "code",
      "source": [
        "pip install spacy"
      ],
      "metadata": {
        "colab": {
          "base_uri": "https://localhost:8080/"
        },
        "id": "y1q8M_dVQO2Q",
        "outputId": "ac2926aa-ff25-4b90-d90c-4b70206a80c7"
      },
      "execution_count": 2,
      "outputs": [
        {
          "output_type": "stream",
          "name": "stdout",
          "text": [
            "Looking in indexes: https://pypi.org/simple, https://us-python.pkg.dev/colab-wheels/public/simple/\n",
            "Requirement already satisfied: spacy in /usr/local/lib/python3.9/dist-packages (3.4.4)\n",
            "Requirement already satisfied: preshed<3.1.0,>=3.0.2 in /usr/local/lib/python3.9/dist-packages (from spacy) (3.0.8)\n",
            "Requirement already satisfied: jinja2 in /usr/local/lib/python3.9/dist-packages (from spacy) (3.1.2)\n",
            "Requirement already satisfied: typer<0.8.0,>=0.3.0 in /usr/local/lib/python3.9/dist-packages (from spacy) (0.7.0)\n",
            "Requirement already satisfied: packaging>=20.0 in /usr/local/lib/python3.9/dist-packages (from spacy) (23.0)\n",
            "Requirement already satisfied: numpy>=1.15.0 in /usr/local/lib/python3.9/dist-packages (from spacy) (1.22.4)\n",
            "Requirement already satisfied: smart-open<7.0.0,>=5.2.1 in /usr/local/lib/python3.9/dist-packages (from spacy) (6.3.0)\n",
            "Requirement already satisfied: pydantic!=1.8,!=1.8.1,<1.11.0,>=1.7.4 in /usr/local/lib/python3.9/dist-packages (from spacy) (1.10.5)\n",
            "Requirement already satisfied: catalogue<2.1.0,>=2.0.6 in /usr/local/lib/python3.9/dist-packages (from spacy) (2.0.8)\n",
            "Requirement already satisfied: thinc<8.2.0,>=8.1.0 in /usr/local/lib/python3.9/dist-packages (from spacy) (8.1.8)\n",
            "Requirement already satisfied: setuptools in /usr/local/lib/python3.9/dist-packages (from spacy) (57.4.0)\n",
            "Requirement already satisfied: langcodes<4.0.0,>=3.2.0 in /usr/local/lib/python3.9/dist-packages (from spacy) (3.3.0)\n",
            "Requirement already satisfied: tqdm<5.0.0,>=4.38.0 in /usr/local/lib/python3.9/dist-packages (from spacy) (4.65.0)\n",
            "Requirement already satisfied: srsly<3.0.0,>=2.4.3 in /usr/local/lib/python3.9/dist-packages (from spacy) (2.4.6)\n",
            "Requirement already satisfied: cymem<2.1.0,>=2.0.2 in /usr/local/lib/python3.9/dist-packages (from spacy) (2.0.7)\n",
            "Requirement already satisfied: murmurhash<1.1.0,>=0.28.0 in /usr/local/lib/python3.9/dist-packages (from spacy) (1.0.9)\n",
            "Requirement already satisfied: wasabi<1.1.0,>=0.9.1 in /usr/local/lib/python3.9/dist-packages (from spacy) (0.10.1)\n",
            "Requirement already satisfied: pathy>=0.3.5 in /usr/local/lib/python3.9/dist-packages (from spacy) (0.10.1)\n",
            "Requirement already satisfied: spacy-loggers<2.0.0,>=1.0.0 in /usr/local/lib/python3.9/dist-packages (from spacy) (1.0.4)\n",
            "Requirement already satisfied: spacy-legacy<3.1.0,>=3.0.10 in /usr/local/lib/python3.9/dist-packages (from spacy) (3.0.12)\n",
            "Requirement already satisfied: requests<3.0.0,>=2.13.0 in /usr/local/lib/python3.9/dist-packages (from spacy) (2.25.1)\n",
            "Requirement already satisfied: typing-extensions>=4.2.0 in /usr/local/lib/python3.9/dist-packages (from pydantic!=1.8,!=1.8.1,<1.11.0,>=1.7.4->spacy) (4.5.0)\n",
            "Requirement already satisfied: chardet<5,>=3.0.2 in /usr/local/lib/python3.9/dist-packages (from requests<3.0.0,>=2.13.0->spacy) (4.0.0)\n",
            "Requirement already satisfied: idna<3,>=2.5 in /usr/local/lib/python3.9/dist-packages (from requests<3.0.0,>=2.13.0->spacy) (2.10)\n",
            "Requirement already satisfied: certifi>=2017.4.17 in /usr/local/lib/python3.9/dist-packages (from requests<3.0.0,>=2.13.0->spacy) (2022.12.7)\n",
            "Requirement already satisfied: urllib3<1.27,>=1.21.1 in /usr/local/lib/python3.9/dist-packages (from requests<3.0.0,>=2.13.0->spacy) (1.26.14)\n",
            "Requirement already satisfied: blis<0.8.0,>=0.7.8 in /usr/local/lib/python3.9/dist-packages (from thinc<8.2.0,>=8.1.0->spacy) (0.7.9)\n",
            "Requirement already satisfied: confection<1.0.0,>=0.0.1 in /usr/local/lib/python3.9/dist-packages (from thinc<8.2.0,>=8.1.0->spacy) (0.0.4)\n",
            "Requirement already satisfied: click<9.0.0,>=7.1.1 in /usr/local/lib/python3.9/dist-packages (from typer<0.8.0,>=0.3.0->spacy) (8.1.3)\n",
            "Requirement already satisfied: MarkupSafe>=2.0 in /usr/local/lib/python3.9/dist-packages (from jinja2->spacy) (2.1.2)\n"
          ]
        }
      ]
    },
    {
      "cell_type": "code",
      "source": [
        "#run this if convokit is unable to install \n",
        "import locale\n",
        "def getpreferredencoding(do_setlocale = True):\n",
        "    return \"UTF-8\"\n",
        "locale.getpreferredencoding = getpreferredencoding"
      ],
      "metadata": {
        "id": "hceEMRFjQWJJ"
      },
      "execution_count": 3,
      "outputs": []
    },
    {
      "cell_type": "code",
      "source": [
        "from convokit import Corpus, download\n",
        "corpus = Corpus(filename=download(\"movie-corpus\"))"
      ],
      "metadata": {
        "colab": {
          "base_uri": "https://localhost:8080/"
        },
        "id": "b1rUTrr_QXsg",
        "outputId": "a4007ca4-f6ef-4581-c347-af1afc01d45f"
      },
      "execution_count": 4,
      "outputs": [
        {
          "output_type": "stream",
          "name": "stderr",
          "text": [
            "/usr/local/lib/python3.9/dist-packages/torch/cuda/__init__.py:497: UserWarning: Can't initialize NVML\n",
            "  warnings.warn(\"Can't initialize NVML\")\n"
          ]
        },
        {
          "output_type": "stream",
          "name": "stdout",
          "text": [
            "Downloading movie-corpus to /root/.convokit/downloads/movie-corpus\n",
            "Downloading movie-corpus from http://zissou.infosci.cornell.edu/convokit/datasets/movie-corpus/movie-corpus.zip (40.9MB)... Done\n"
          ]
        }
      ]
    },
    {
      "cell_type": "code",
      "source": [
        "#Getting the dataframes\n",
        "utterances = corpus.get_utterances_dataframe()\n",
        "utterances = utterances.sample(n=20000, random_state=42) #Sample random 20000 rows in utterances\n",
        "conversations = corpus.get_conversations_dataframe()\n",
        "conversations.rename(columns={'meta.movie_idx': 'meta.movie_id'}, inplace=True) #rename columns for convenience\n",
        "speakers = corpus.get_speakers_dataframe()\n",
        "speakers.rename(columns={'meta.movie_idx': 'meta.movie_id'}, inplace=True)"
      ],
      "metadata": {
        "id": "Atf3d7-3QZAL"
      },
      "execution_count": 5,
      "outputs": []
    },
    {
      "cell_type": "code",
      "source": [
        "#Getting the desired labels in the right format\n",
        "conversations['meta.genre'] = conversations['meta.genre'].apply(lambda x: \"drama\" if x == \"['drama']\" else x)\n",
        "conversations['meta.genre'] = conversations['meta.genre'].apply(lambda x: \"horror\" if x == \"['horror']\" else x)\n",
        "conversations['meta.genre'] = conversations['meta.genre'].apply(lambda x: \"thriller\" if x == \"['thriller']\" else x)\n",
        "conversations['meta.genre'] = conversations['meta.genre'].apply(lambda x: \"comedy\" if x == \"['comedy']\" else x)\n",
        "conversations['meta.genre'] = conversations['meta.genre'].apply(lambda x: \"documentary\" if x == \"['documentary']\" else x)\n",
        "conversations['meta.genre'] = conversations['meta.genre'].apply(lambda x: \"romcom\" if x == \"['comedy', 'romance']\" else x)"
      ],
      "metadata": {
        "id": "PowXTKqxQbCf"
      },
      "execution_count": 6,
      "outputs": []
    },
    {
      "cell_type": "code",
      "source": [
        "#Drop unncessary rows and columns that we will not use for our task \n",
        "conversations = conversations.loc[conversations['meta.genre'].isin(['drama', 'horror', 'thriller', 'comedy', 'documentary','romcom'])]\n",
        "conversations = conversations.drop(columns=['meta.release_year', 'meta.rating', 'meta.votes'], axis=1)\n",
        "speakers = speakers.drop(columns=['meta.credit_pos', 'meta.gender', 'meta.character_name'], axis=1)"
      ],
      "metadata": {
        "id": "UVsQvHNTQccu"
      },
      "execution_count": 7,
      "outputs": []
    },
    {
      "cell_type": "code",
      "source": [
        "#Merging the three dataframes\n",
        "import pandas as pd\n",
        "merged_df = conversations.merge(speakers, on='meta.movie_id').merge(utterances, on='meta.movie_id')\n",
        "dfs = [conversations, utterances, speakers]\n",
        "final_df = dfs[0]\n",
        "for df in dfs[1:]:\n",
        "    final_df = pd.merge(final_df, df, on=['meta.movie_id'], how='inner')"
      ],
      "metadata": {
        "id": "cod1P823QeRs"
      },
      "execution_count": 8,
      "outputs": []
    },
    {
      "cell_type": "code",
      "source": [
        "#Sampling 10000 rows\n",
        "final_df = final_df.sample(n=10000, random_state=42)"
      ],
      "metadata": {
        "id": "B62mFIXQQfty"
      },
      "execution_count": 9,
      "outputs": []
    },
    {
      "cell_type": "code",
      "source": [
        "#Splitting the dataframe into Train, Test and Validation set using Stratified Sampling\n",
        "import pandas as pd\n",
        "from sklearn.model_selection import StratifiedShuffleSplit\n",
        "y = final_df['meta.genre']\n",
        "\n",
        "#Split the data into training and the rest with 60:40 split\n",
        "stratified_split = StratifiedShuffleSplit(n_splits=1, test_size=0.4, random_state=0) \n",
        "for train_index, test_val_index in stratified_split.split(final_df, y):\n",
        "    train = final_df.iloc[train_index]\n",
        "    test_val = final_df.iloc[test_val_index]\n",
        "\n",
        "#Split the remaining 40% data into testing and validation 50:50 split\n",
        "y_test_val = y.iloc[test_val_index]\n",
        "stratified_split = StratifiedShuffleSplit(n_splits=1, test_size=0.5, random_state=0)\n",
        "for test_index,val_index in stratified_split.split(test_val, y_test_val):\n",
        "    test = test_val.iloc[test_index]\n",
        "    val = test_val.iloc[val_index]"
      ],
      "metadata": {
        "id": "j1F-bBZeQhMC"
      },
      "execution_count": 10,
      "outputs": []
    },
    {
      "cell_type": "markdown",
      "source": [
        "Before proceeding to pre-process, we will copy the dataframes so as to keep the original dataframe unchanged"
      ],
      "metadata": {
        "id": "VTx-AKIARo0N"
      }
    },
    {
      "cell_type": "code",
      "source": [
        "conclusion_train = train.copy()\n",
        "conclusion_val = val.copy()\n",
        "conclusion_test = test.copy()"
      ],
      "metadata": {
        "id": "FcPDaTQvRKTf"
      },
      "execution_count": 11,
      "outputs": []
    },
    {
      "cell_type": "code",
      "source": [
        "import spacy\n",
        "import pandas as pd\n",
        "\n",
        "nlp = spacy.load('en_core_web_sm')\n",
        "\n",
        "def tokenize_text(text):\n",
        "    return [token.text for token in nlp(text)]\n",
        "\n",
        "conclusion_train['tokens'] = conclusion_train['text'].apply(tokenize_text)\n",
        "conclusion_val['tokens'] = conclusion_val['text'].apply(tokenize_text)\n",
        "conclusion_test['tokens'] = conclusion_test['text'].apply(tokenize_text)"
      ],
      "metadata": {
        "id": "js_b6_YJR77U"
      },
      "execution_count": 12,
      "outputs": []
    },
    {
      "cell_type": "code",
      "source": [
        "import pandas as pd\n",
        "from nltk.stem import SnowballStemmer\n",
        "\n",
        "stemmer = SnowballStemmer('english')\n",
        "\n",
        "def stem_text(tokens):\n",
        "    stemmed_tokens = []\n",
        "    for token in tokens:\n",
        "        stemmed_tokens.append(stemmer.stem(token))\n",
        "    return stemmed_tokens\n",
        "\n",
        "conclusion_train['tokens'] = conclusion_train['tokens'].apply(stem_text)\n",
        "conclusion_val['tokens'] = conclusion_val['tokens'].apply(stem_text)\n",
        "conclusion_test['tokens'] = conclusion_test['tokens'].apply(stem_text)"
      ],
      "metadata": {
        "id": "RAano9cdSGU1"
      },
      "execution_count": 13,
      "outputs": []
    },
    {
      "cell_type": "code",
      "source": [
        "import spacy\n",
        "\n",
        "nlp = spacy.load('en_core_web_sm')  \n",
        "\n",
        "def lemmatize_text(text):\n",
        "    lemmatized_tokens = []\n",
        "    for token in text:\n",
        "        lemmatized_tokens.append(nlp(token)[0].lemma_)\n",
        "    return lemmatized_tokens\n",
        "\n",
        "conclusion_train['tokens'] = conclusion_train['tokens'].apply(lemmatize_text)\n",
        "conclusion_val['tokens'] = conclusion_val['tokens'].apply(lemmatize_text)\n",
        "conclusion_test['tokens'] = conclusion_test['tokens'].apply(lemmatize_text)"
      ],
      "metadata": {
        "id": "956HJe4eSSMs"
      },
      "execution_count": 14,
      "outputs": []
    },
    {
      "cell_type": "code",
      "source": [
        "import pandas as pd\n",
        "import nltk\n",
        "from nltk.corpus import stopwords\n",
        "\n",
        "nltk.download('stopwords')\n",
        "stop_words = set(stopwords.words('english'))\n",
        "\n",
        "\n",
        "def remove_stopwords(tokens):\n",
        "  tok = []\n",
        "  for token in tokens:\n",
        "    if token not in stop_words:\n",
        "      tok.append(token)\n",
        "  return tok\n",
        "\n",
        "\n",
        "conclusion_train['tokens'] = conclusion_train['tokens'].apply(remove_stopwords)\n",
        "conclusion_val['tokens'] = conclusion_val['tokens'].apply(remove_stopwords)\n",
        "conclusion_test['tokens'] = conclusion_test['tokens'].apply(remove_stopwords)"
      ],
      "metadata": {
        "colab": {
          "base_uri": "https://localhost:8080/"
        },
        "id": "zpMM1v_tSbQc",
        "outputId": "9b98bb60-56ee-4bb1-9871-6a9d1c610a98"
      },
      "execution_count": 15,
      "outputs": [
        {
          "output_type": "stream",
          "name": "stderr",
          "text": [
            "[nltk_data] Downloading package stopwords to /root/nltk_data...\n",
            "[nltk_data]   Package stopwords is already up-to-date!\n"
          ]
        }
      ]
    },
    {
      "cell_type": "code",
      "source": [
        "conclusion_train['tokens'] = conclusion_train['tokens'].apply(lambda tokens: ' '.join(tokens))\n",
        "conclusion_val['tokens'] = conclusion_val['tokens'].apply(lambda tokens: ' '.join(tokens))\n",
        "conclusion_test['tokens'] = conclusion_test['tokens'].apply(lambda tokens: ' '.join(tokens))"
      ],
      "metadata": {
        "id": "yu4wzzq4Sf-F"
      },
      "execution_count": 16,
      "outputs": []
    },
    {
      "cell_type": "markdown",
      "source": [
        "A function is written to calculate the evaluation metrics"
      ],
      "metadata": {
        "id": "kjuSJDOrUUw5"
      }
    },
    {
      "cell_type": "code",
      "source": [
        "import pandas as pd\n",
        "import matplotlib.pyplot as plt\n",
        "from sklearn.metrics import precision_recall_fscore_support\n",
        "\n",
        "def evaluate(val, val_predictions):\n",
        "    val_precision, val_recall, val_f1, support = precision_recall_fscore_support(val['meta.genre'], val_predictions, average='macro')\n",
        "    val_accuracy = (val['meta.genre'] == val_predictions).mean()\n",
        "    print(f'Validation accuracy: {val_accuracy:.3f}')\n",
        "    print(f'Validation precision (macro-averaged): {val_precision:.3f}')\n",
        "    print(f'Validation recall (macro-averaged): {val_recall:.3f}')\n",
        "    print(f'Validation F1-score (macro-averaged): {val_f1:.3f}')"
      ],
      "metadata": {
        "id": "IQje1bRDUWWo"
      },
      "execution_count": 242,
      "outputs": []
    },
    {
      "cell_type": "markdown",
      "source": [
        "# Q.6 Conclusions and Future Work"
      ],
      "metadata": {
        "id": "qkeJQ2dTVVDK"
      }
    },
    {
      "cell_type": "markdown",
      "source": [
        "The Classifier chosen is Random Forest with One Hot Vectorizer as the performance metrics showed the best results."
      ],
      "metadata": {
        "id": "ZwzjYYTLT11X"
      }
    },
    {
      "cell_type": "code",
      "source": [
        "from sklearn.preprocessing import OneHotEncoder\n",
        "from sklearn.ensemble import RandomForestClassifier\n",
        "\n",
        "enc = OneHotEncoder(handle_unknown='ignore')\n",
        "X_train = enc.fit_transform(conclusion_train[['tokens']])\n",
        "y_train = conclusion_train['meta.genre']\n",
        "X_test = enc.transform(conclusion_test[['tokens']])\n",
        "y_test = conclusion_test['meta.genre']\n",
        "\n",
        "\n",
        "clf = RandomForestClassifier().fit(X_train, y_train)\n",
        "test_predictions = clf.predict(X_test)\n",
        "evaluate(conclusion_test, test_predictions)"
      ],
      "metadata": {
        "colab": {
          "base_uri": "https://localhost:8080/"
        },
        "id": "HQwlPNulBiri",
        "outputId": "8bdbf5f0-7310-4816-9163-359647f36411"
      },
      "execution_count": 243,
      "outputs": [
        {
          "output_type": "stream",
          "name": "stdout",
          "text": [
            "Validation accuracy: 0.886\n",
            "Validation precision (macro-averaged): 0.952\n",
            "Validation recall (macro-averaged): 0.737\n",
            "Validation F1-score (macro-averaged): 0.813\n"
          ]
        }
      ]
    },
    {
      "cell_type": "markdown",
      "source": [
        "Next, we will plot a confusion matrix of the true labels against the predict labels with the test set"
      ],
      "metadata": {
        "id": "-KPDupgsUe89"
      }
    },
    {
      "cell_type": "code",
      "source": [
        "from sklearn.metrics import confusion_matrix\n",
        "import seaborn as sns\n",
        "actual_genres = ['comedy', 'documentary', 'drama', 'horror', 'romcom', 'thriller']\n",
        "cm = confusion_matrix(y_test, test_predictions)\n",
        "sns.heatmap(cm, annot=True, cmap=\"Greens\", fmt='d')\n",
        "plt.xticks(range(len(actual_genres)), actual_genres, rotation=90, ha='right')\n",
        "plt.xlabel('Predicted Labels')\n",
        "plt.yticks(range(len(actual_genres)), actual_genres, rotation=0, ha='right')\n",
        "plt.ylabel('True Labels')\n",
        "plt.title('Confusion Matrix')\n",
        "plt.show()"
      ],
      "metadata": {
        "colab": {
          "base_uri": "https://localhost:8080/",
          "height": 352
        },
        "id": "D5dxXYyLWlUD",
        "outputId": "7962ca02-4d9e-401d-b9e1-565378b58c4e"
      },
      "execution_count": 206,
      "outputs": [
        {
          "output_type": "display_data",
          "data": {
            "text/plain": [
              "<Figure size 432x288 with 2 Axes>"
            ],
            "image/png": "[encoded data removed]"
          },
          "metadata": {
            "needs_background": "light"
          }
        }
      ]
    },
    {
      "cell_type": "markdown",
      "source": [
        "We can analyse all the list of movies that belonged to drama genre but were incorrectly predicted."
      ],
      "metadata": {
        "id": "3v1RcDOzUqYc"
      }
    },
    {
      "cell_type": "code",
      "source": [
        "prediction = clf.predict(X_test)\n",
        "for i in range(1999, 0, -1):\n",
        "    if prediction[i] != 'drama' and y_test.iloc[i] == 'drama':\n",
        "        print(f'Predicted genre: {prediction[i]}, Actual genre: {y_test.iloc[i]}, Movie name: {conclusion_test.iloc[i][\"meta.movie_name_x\"]}')"
      ],
      "metadata": {
        "colab": {
          "base_uri": "https://localhost:8080/"
        },
        "id": "usABk5qXAI4n",
        "outputId": "6b0d30f4-2726-4e1f-ea19-4d9be6323b71"
      },
      "execution_count": 235,
      "outputs": [
        {
          "output_type": "stream",
          "name": "stdout",
          "text": [
            "Predicted genre: romcom, Actual genre: drama, Movie name: magnolia\n",
            "Predicted genre: comedy, Actual genre: drama, Movie name: the believer\n",
            "Predicted genre: romcom, Actual genre: drama, Movie name: the verdict\n",
            "Predicted genre: romcom, Actual genre: drama, Movie name: glengarry glen ross\n",
            "Predicted genre: horror, Actual genre: drama, Movie name: the sweet hereafter\n",
            "Predicted genre: romcom, Actual genre: drama, Movie name: glengarry glen ross\n",
            "Predicted genre: romcom, Actual genre: drama, Movie name: u-turn\n",
            "Predicted genre: comedy, Actual genre: drama, Movie name: the sweet hereafter\n",
            "Predicted genre: comedy, Actual genre: drama, Movie name: panther\n",
            "Predicted genre: romcom, Actual genre: drama, Movie name: magnolia\n",
            "Predicted genre: thriller, Actual genre: drama, Movie name: the sweet hereafter\n"
          ]
        }
      ]
    },
    {
      "cell_type": "markdown",
      "source": [
        "Here's a list of 10 movie dialogue and their true and predicted genres"
      ],
      "metadata": {
        "id": "GmKfne6aUzNw"
      }
    },
    {
      "cell_type": "code",
      "source": [
        "prediction = clf.predict(X_test)\n",
        "for i in range(10):\n",
        "  if(prediction[i] == y_test.iloc[i]):\n",
        "    #print(f\"prediction[i],y_val.iloc[i])\n",
        "    print(f'Right! Actual genre: {y_test.iloc[i]}, Predicted genre: {prediction[i]}')\n",
        "  else:\n",
        "    print(f'Wrong! Actual genre: {y_test.iloc[i]}, Predicted genre: {prediction[i]}')"
      ],
      "metadata": {
        "colab": {
          "base_uri": "https://localhost:8080/"
        },
        "id": "1FwRmmRlXKTN",
        "outputId": "a8cc21ae-4ad0-4129-875b-5641f6a5a4c9"
      },
      "execution_count": 209,
      "outputs": [
        {
          "output_type": "stream",
          "name": "stdout",
          "text": [
            "Right! Actual genre: thriller, Predicted genre: thriller\n",
            "Right! Actual genre: drama, Predicted genre: drama\n",
            "Right! Actual genre: drama, Predicted genre: drama\n",
            "Right! Actual genre: comedy, Predicted genre: comedy\n",
            "Wrong! Actual genre: romcom, Predicted genre: drama\n",
            "Right! Actual genre: romcom, Predicted genre: romcom\n",
            "Right! Actual genre: drama, Predicted genre: drama\n",
            "Right! Actual genre: romcom, Predicted genre: romcom\n",
            "Right! Actual genre: drama, Predicted genre: drama\n",
            "Wrong! Actual genre: thriller, Predicted genre: drama\n"
          ]
        }
      ]
    },
    {
      "cell_type": "markdown",
      "source": [
        "Now, we will build a function that pre-processes the text and encodes the tokens before predicting the genres of text manually"
      ],
      "metadata": {
        "id": "wRE-62guU7zJ"
      }
    },
    {
      "cell_type": "code",
      "source": [
        "def predict_genre(text):\n",
        "  tokens = tokenize_text(text)\n",
        "  stemmed_tokens = stem_text(tokens)\n",
        "  lemmatized_tokens = lemmatize_text(stemmed_tokens)\n",
        "  tokens_processed = remove_stopwords(lemmatized_tokens)\n",
        "  preprocessed_text = ' '.join(tokens_processed)\n",
        "  encoded_text = enc.transform([[preprocessed_text]])\n",
        "  prediction = clf.predict(encoded_text)\n",
        "  print(f\"Predicted genre: {prediction[0]}\")"
      ],
      "metadata": {
        "id": "_VuZh1N0z49V"
      },
      "execution_count": 210,
      "outputs": []
    },
    {
      "cell_type": "code",
      "source": [
        "text = \"It's awfully nice of you to show me around like this.\"\n",
        "predict_genre(text)\n",
        "text = \"Tell him you're going to elope with him.\"\n",
        "predict_genre(text)\n",
        "text = \"Happiness is real when shared.\" #Quote from my favourite movie Into The Wild, 100% recommended\n",
        "predict_genre(text)\n",
        "text = \"I love you.\"\n",
        "predict_genre(text)\n",
        "text = \"Shhhhhh.\"\n",
        "predict_genre(text)\n",
        "text = \"Is there any way you could lend me some money? Maybe... 20 million dollars?\"\n",
        "predict_genre(text)\n",
        "text = \"I am Vengeance\"\n",
        "predict_genre(text)\n",
        "\n",
        "\n",
        "\n",
        "\n"
      ],
      "metadata": {
        "colab": {
          "base_uri": "https://localhost:8080/"
        },
        "id": "IZSZszsA9xFE",
        "outputId": "f4a31fe8-3b6b-47d6-e44e-bb6e098cd4a3"
      },
      "execution_count": 239,
      "outputs": [
        {
          "output_type": "stream",
          "name": "stderr",
          "text": [
            "/usr/local/lib/python3.9/dist-packages/sklearn/base.py:420: UserWarning: X does not have valid feature names, but OneHotEncoder was fitted with feature names\n",
            "  warnings.warn(\n",
            "/usr/local/lib/python3.9/dist-packages/sklearn/base.py:420: UserWarning: X does not have valid feature names, but OneHotEncoder was fitted with feature names\n",
            "  warnings.warn(\n",
            "/usr/local/lib/python3.9/dist-packages/sklearn/base.py:420: UserWarning: X does not have valid feature names, but OneHotEncoder was fitted with feature names\n",
            "  warnings.warn(\n",
            "/usr/local/lib/python3.9/dist-packages/sklearn/base.py:420: UserWarning: X does not have valid feature names, but OneHotEncoder was fitted with feature names\n",
            "  warnings.warn(\n"
          ]
        },
        {
          "output_type": "stream",
          "name": "stdout",
          "text": [
            "Predicted genre: romcom\n",
            "Predicted genre: comedy\n",
            "Predicted genre: drama\n",
            "Predicted genre: romcom\n"
          ]
        },
        {
          "output_type": "stream",
          "name": "stderr",
          "text": [
            "/usr/local/lib/python3.9/dist-packages/sklearn/base.py:420: UserWarning: X does not have valid feature names, but OneHotEncoder was fitted with feature names\n",
            "  warnings.warn(\n",
            "/usr/local/lib/python3.9/dist-packages/sklearn/base.py:420: UserWarning: X does not have valid feature names, but OneHotEncoder was fitted with feature names\n",
            "  warnings.warn(\n",
            "/usr/local/lib/python3.9/dist-packages/sklearn/base.py:420: UserWarning: X does not have valid feature names, but OneHotEncoder was fitted with feature names\n",
            "  warnings.warn(\n"
          ]
        },
        {
          "output_type": "stream",
          "name": "stdout",
          "text": [
            "Predicted genre: horror\n",
            "Predicted genre: drama\n",
            "Predicted genre: drama\n"
          ]
        }
      ]
    },
    {
      "cell_type": "markdown",
      "source": [
        "As evident from the results, a lot of movies are incorrectly predicted as drama. "
      ],
      "metadata": {
        "id": "oCHTD26lVHwD"
      }
    }
  ]
}