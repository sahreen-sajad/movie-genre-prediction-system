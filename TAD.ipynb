{
  "cells": [
    {
      "cell_type": "markdown",
      "source": [
        "# Installing Necessary Libraries"
      ],
      "metadata": {
        "id": "onuUzXrbNS8O"
      }
    },
    {
      "cell_type": "code",
      "source": [
        "pip install convokit\n"
      ],
      "metadata": {
        "colab": {
          "base_uri": "https://localhost:8080/"
        },
        "id": "SjkezmWrNOlW",
        "outputId": "0146e568-d253-4fd1-a2d9-fe8d0f75b969"
      },
      "execution_count": 104,
      "outputs": [
        {
          "output_type": "stream",
          "name": "stdout",
          "text": [
            "Looking in indexes: https://pypi.org/simple, https://us-python.pkg.dev/colab-wheels/public/simple/\n",
            "Requirement already satisfied: convokit in /usr/local/lib/python3.9/dist-packages (2.5.3)\n",
            "Requirement already satisfied: dill>=0.2.9 in /usr/local/lib/python3.9/dist-packages (from convokit) (0.3.6)\n",
            "Requirement already satisfied: scikit-learn>=0.20.0 in /usr/local/lib/python3.9/dist-packages (from convokit) (1.2.1)\n",
            "Requirement already satisfied: matplotlib>=3.0.0 in /usr/local/lib/python3.9/dist-packages (from convokit) (3.5.3)\n",
            "Requirement already satisfied: clean-text>=0.1.1 in /usr/local/lib/python3.9/dist-packages (from convokit) (0.6.0)\n",
            "Requirement already satisfied: joblib>=0.13.2 in /usr/local/lib/python3.9/dist-packages (from convokit) (1.2.0)\n",
            "Requirement already satisfied: pandas>=0.23.4 in /usr/local/lib/python3.9/dist-packages (from convokit) (1.3.5)\n",
            "Requirement already satisfied: unidecode>=1.1.1 in /usr/local/lib/python3.9/dist-packages (from convokit) (1.3.6)\n",
            "Requirement already satisfied: msgpack-numpy>=0.4.3.2 in /usr/local/lib/python3.9/dist-packages (from convokit) (0.4.8)\n",
            "Requirement already satisfied: scipy>=1.1.0 in /usr/local/lib/python3.9/dist-packages (from convokit) (1.10.1)\n",
            "Requirement already satisfied: spacy>=2.3.5 in /usr/local/lib/python3.9/dist-packages (from convokit) (3.4.4)\n",
            "Requirement already satisfied: nltk>=3.4 in /usr/local/lib/python3.9/dist-packages (from convokit) (3.7)\n",
            "Requirement already satisfied: emoji<2.0.0,>=1.0.0 in /usr/local/lib/python3.9/dist-packages (from clean-text>=0.1.1->convokit) (1.7.0)\n",
            "Requirement already satisfied: ftfy<7.0,>=6.0 in /usr/local/lib/python3.9/dist-packages (from clean-text>=0.1.1->convokit) (6.1.1)\n",
            "Requirement already satisfied: numpy>=1.17 in /usr/local/lib/python3.9/dist-packages (from matplotlib>=3.0.0->convokit) (1.22.4)\n",
            "Requirement already satisfied: packaging>=20.0 in /usr/local/lib/python3.9/dist-packages (from matplotlib>=3.0.0->convokit) (23.0)\n",
            "Requirement already satisfied: pyparsing>=2.2.1 in /usr/local/lib/python3.9/dist-packages (from matplotlib>=3.0.0->convokit) (3.0.9)\n",
            "Requirement already satisfied: python-dateutil>=2.7 in /usr/local/lib/python3.9/dist-packages (from matplotlib>=3.0.0->convokit) (2.8.2)\n",
            "Requirement already satisfied: cycler>=0.10 in /usr/local/lib/python3.9/dist-packages (from matplotlib>=3.0.0->convokit) (0.11.0)\n",
            "Requirement already satisfied: fonttools>=4.22.0 in /usr/local/lib/python3.9/dist-packages (from matplotlib>=3.0.0->convokit) (4.39.0)\n",
            "Requirement already satisfied: kiwisolver>=1.0.1 in /usr/local/lib/python3.9/dist-packages (from matplotlib>=3.0.0->convokit) (1.4.4)\n",
            "Requirement already satisfied: pillow>=6.2.0 in /usr/local/lib/python3.9/dist-packages (from matplotlib>=3.0.0->convokit) (8.4.0)\n",
            "Requirement already satisfied: msgpack>=0.5.2 in /usr/local/lib/python3.9/dist-packages (from msgpack-numpy>=0.4.3.2->convokit) (1.0.4)\n",
            "Requirement already satisfied: click in /usr/local/lib/python3.9/dist-packages (from nltk>=3.4->convokit) (8.1.3)\n",
            "Requirement already satisfied: regex>=2021.8.3 in /usr/local/lib/python3.9/dist-packages (from nltk>=3.4->convokit) (2022.6.2)\n",
            "Requirement already satisfied: tqdm in /usr/local/lib/python3.9/dist-packages (from nltk>=3.4->convokit) (4.65.0)\n",
            "Requirement already satisfied: pytz>=2017.3 in /usr/local/lib/python3.9/dist-packages (from pandas>=0.23.4->convokit) (2022.7.1)\n",
            "Requirement already satisfied: threadpoolctl>=2.0.0 in /usr/local/lib/python3.9/dist-packages (from scikit-learn>=0.20.0->convokit) (3.1.0)\n",
            "Requirement already satisfied: srsly<3.0.0,>=2.4.3 in /usr/local/lib/python3.9/dist-packages (from spacy>=2.3.5->convokit) (2.4.6)\n",
            "Requirement already satisfied: wasabi<1.1.0,>=0.9.1 in /usr/local/lib/python3.9/dist-packages (from spacy>=2.3.5->convokit) (0.10.1)\n",
            "Requirement already satisfied: murmurhash<1.1.0,>=0.28.0 in /usr/local/lib/python3.9/dist-packages (from spacy>=2.3.5->convokit) (1.0.9)\n",
            "Requirement already satisfied: requests<3.0.0,>=2.13.0 in /usr/local/lib/python3.9/dist-packages (from spacy>=2.3.5->convokit) (2.25.1)\n",
            "Requirement already satisfied: langcodes<4.0.0,>=3.2.0 in /usr/local/lib/python3.9/dist-packages (from spacy>=2.3.5->convokit) (3.3.0)\n",
            "Requirement already satisfied: thinc<8.2.0,>=8.1.0 in /usr/local/lib/python3.9/dist-packages (from spacy>=2.3.5->convokit) (8.1.8)\n",
            "Requirement already satisfied: pathy>=0.3.5 in /usr/local/lib/python3.9/dist-packages (from spacy>=2.3.5->convokit) (0.10.1)\n",
            "Requirement already satisfied: preshed<3.1.0,>=3.0.2 in /usr/local/lib/python3.9/dist-packages (from spacy>=2.3.5->convokit) (3.0.8)\n",
            "Requirement already satisfied: typer<0.8.0,>=0.3.0 in /usr/local/lib/python3.9/dist-packages (from spacy>=2.3.5->convokit) (0.7.0)\n",
            "Requirement already satisfied: spacy-loggers<2.0.0,>=1.0.0 in /usr/local/lib/python3.9/dist-packages (from spacy>=2.3.5->convokit) (1.0.4)\n",
            "Requirement already satisfied: catalogue<2.1.0,>=2.0.6 in /usr/local/lib/python3.9/dist-packages (from spacy>=2.3.5->convokit) (2.0.8)\n",
            "Requirement already satisfied: spacy-legacy<3.1.0,>=3.0.10 in /usr/local/lib/python3.9/dist-packages (from spacy>=2.3.5->convokit) (3.0.12)\n",
            "Requirement already satisfied: cymem<2.1.0,>=2.0.2 in /usr/local/lib/python3.9/dist-packages (from spacy>=2.3.5->convokit) (2.0.7)\n",
            "Requirement already satisfied: jinja2 in /usr/local/lib/python3.9/dist-packages (from spacy>=2.3.5->convokit) (3.1.2)\n",
            "Requirement already satisfied: smart-open<7.0.0,>=5.2.1 in /usr/local/lib/python3.9/dist-packages (from spacy>=2.3.5->convokit) (6.3.0)\n",
            "Requirement already satisfied: setuptools in /usr/local/lib/python3.9/dist-packages (from spacy>=2.3.5->convokit) (57.4.0)\n",
            "Requirement already satisfied: pydantic!=1.8,!=1.8.1,<1.11.0,>=1.7.4 in /usr/local/lib/python3.9/dist-packages (from spacy>=2.3.5->convokit) (1.10.5)\n",
            "Requirement already satisfied: wcwidth>=0.2.5 in /usr/local/lib/python3.9/dist-packages (from ftfy<7.0,>=6.0->clean-text>=0.1.1->convokit) (0.2.6)\n",
            "Requirement already satisfied: typing-extensions>=4.2.0 in /usr/local/lib/python3.9/dist-packages (from pydantic!=1.8,!=1.8.1,<1.11.0,>=1.7.4->spacy>=2.3.5->convokit) (4.5.0)\n",
            "Requirement already satisfied: six>=1.5 in /usr/local/lib/python3.9/dist-packages (from python-dateutil>=2.7->matplotlib>=3.0.0->convokit) (1.15.0)\n",
            "Requirement already satisfied: urllib3<1.27,>=1.21.1 in /usr/local/lib/python3.9/dist-packages (from requests<3.0.0,>=2.13.0->spacy>=2.3.5->convokit) (1.26.14)\n",
            "Requirement already satisfied: certifi>=2017.4.17 in /usr/local/lib/python3.9/dist-packages (from requests<3.0.0,>=2.13.0->spacy>=2.3.5->convokit) (2022.12.7)\n",
            "Requirement already satisfied: chardet<5,>=3.0.2 in /usr/local/lib/python3.9/dist-packages (from requests<3.0.0,>=2.13.0->spacy>=2.3.5->convokit) (4.0.0)\n",
            "Requirement already satisfied: idna<3,>=2.5 in /usr/local/lib/python3.9/dist-packages (from requests<3.0.0,>=2.13.0->spacy>=2.3.5->convokit) (2.10)\n",
            "Requirement already satisfied: confection<1.0.0,>=0.0.1 in /usr/local/lib/python3.9/dist-packages (from thinc<8.2.0,>=8.1.0->spacy>=2.3.5->convokit) (0.0.4)\n",
            "Requirement already satisfied: blis<0.8.0,>=0.7.8 in /usr/local/lib/python3.9/dist-packages (from thinc<8.2.0,>=8.1.0->spacy>=2.3.5->convokit) (0.7.9)\n",
            "Requirement already satisfied: MarkupSafe>=2.0 in /usr/local/lib/python3.9/dist-packages (from jinja2->spacy>=2.3.5->convokit) (2.1.2)\n"
          ]
        }
      ]
    },
    {
      "cell_type": "code",
      "source": [
        "#run this if convokit is unable to install \n",
        "import locale\n",
        "def getpreferredencoding(do_setlocale = True):\n",
        "    return \"UTF-8\"\n",
        "locale.getpreferredencoding = getpreferredencoding"
      ],
      "metadata": {
        "id": "pTJZJE2GxVhP"
      },
      "execution_count": null,
      "outputs": []
    },
    {
      "cell_type": "markdown",
      "source": [
        "This is the Corpus Dataset provided by Cornell University. It consists of conversations between various characters in 617 movies and other information like meta data including genre, IMDb rating, etc."
      ],
      "metadata": {
        "id": "BXrRmTOvNkVF"
      }
    },
    {
      "cell_type": "code",
      "execution_count": 105,
      "metadata": {
        "id": "xXlAdzZNrovE",
        "colab": {
          "base_uri": "https://localhost:8080/"
        },
        "outputId": "82b2e03d-1296-4933-fb50-a3e517e5b416"
      },
      "outputs": [
        {
          "output_type": "stream",
          "name": "stdout",
          "text": [
            "Downloading movie-corpus to /root/.convokit/downloads/movie-corpus\n",
            "Downloading movie-corpus from http://zissou.infosci.cornell.edu/convokit/datasets/movie-corpus/movie-corpus.zip (40.9MB)... Done\n"
          ]
        }
      ],
      "source": [
        "from convokit import Corpus, download\n",
        "corpus = Corpus(filename=download(\"movie-corpus\"))"
      ]
    },
    {
      "cell_type": "markdown",
      "source": [
        "# Q1. Dataset (Data Cleaning) "
      ],
      "metadata": {
        "id": "dlaHNAUjNr8z"
      }
    },
    {
      "cell_type": "markdown",
      "source": [
        "The utterances dataset is quite huge and may result in session crashes. Hence, initially, we only sample 20000 rows. We also rename some columns for convenience."
      ],
      "metadata": {
        "id": "THxrbh4fOQSl"
      }
    },
    {
      "cell_type": "code",
      "source": [
        "#Getting the dataframes\n",
        "utterances = corpus.get_utterances_dataframe()\n",
        "utterances = utterances.sample(n=20000, random_state=42) #Sample random 20000 rows in utterances\n",
        "conversations = corpus.get_conversations_dataframe()\n",
        "conversations.rename(columns={'meta.movie_idx': 'meta.movie_id'}, inplace=True) #rename columns for convenience\n",
        "speakers = corpus.get_speakers_dataframe()\n",
        "speakers.rename(columns={'meta.movie_idx': 'meta.movie_id'}, inplace=True)"
      ],
      "metadata": {
        "id": "ff1H_8jwN3WL"
      },
      "execution_count": 106,
      "outputs": []
    },
    {
      "cell_type": "markdown",
      "source": [
        "In this assignment, we are trying to predict movie genres using the dialogues of the movies. Before deciding on the desired labels, we will take a look at the top label counts."
      ],
      "metadata": {
        "id": "SXX5zFqLPjnN"
      }
    },
    {
      "cell_type": "code",
      "source": [
        "top_genres = conversations['meta.genre'].value_counts().head(25)"
      ],
      "metadata": {
        "id": "UxmSfKijPZoy"
      },
      "execution_count": 107,
      "outputs": []
    },
    {
      "cell_type": "code",
      "source": [
        "top_genres"
      ],
      "metadata": {
        "colab": {
          "base_uri": "https://localhost:8080/"
        },
        "id": "w2jO246FP2nq",
        "outputId": "d6654a99-916e-4669-d38f-0f7acb8c7952"
      },
      "execution_count": 108,
      "outputs": [
        {
          "output_type": "execute_result",
          "data": {
            "text/plain": [
              "['drama']                                        5027\n",
              "['comedy', 'romance']                            2950\n",
              "['comedy', 'drama', 'romance']                   2840\n",
              "['comedy', 'drama']                              2497\n",
              "['crime', 'drama', 'thriller']                   2236\n",
              "['drama', 'romance']                             2125\n",
              "['comedy']                                       1660\n",
              "['action', 'crime', 'drama', 'thriller']         1542\n",
              "['action', 'adventure', 'sci-fi', 'thriller']    1421\n",
              "['horror', 'mystery', 'thriller']                1330\n",
              "['thriller']                                     1298\n",
              "['crime', 'drama', 'mystery', 'thriller']        1279\n",
              "['crime', 'drama']                               1215\n",
              "['action', 'adventure', 'thriller']               895\n",
              "['biography', 'drama']                            854\n",
              "['crime', 'mystery', 'thriller']                  842\n",
              "['drama', 'thriller']                             837\n",
              "['drama', 'mystery', 'thriller']                  834\n",
              "['horror']                                        801\n",
              "['crime', 'thriller']                             699\n",
              "['action', 'crime', 'thriller']                   664\n",
              "['drama', 'romance', 'thriller']                  659\n",
              "['comedy', 'crime', 'romance', 'thriller']        659\n",
              "['drama', 'horror', 'mystery', 'thriller']        655\n",
              "['horror', 'thriller']                            643\n",
              "Name: meta.genre, dtype: int64"
            ]
          },
          "metadata": {},
          "execution_count": 108
        }
      ]
    },
    {
      "cell_type": "markdown",
      "source": [
        "This gives us a good idea on what kind of genres we can use. Since, a lot of movies have multiple genres and the Cornell website does not provide information about the weightage of each genre in the movie, it can be non-productive to use labels with multiple genres. Hence, we pick those movies that have only one genre."
      ],
      "metadata": {
        "id": "ssgPCy1hP42C"
      }
    },
    {
      "cell_type": "code",
      "source": [
        "single_genres = conversations['meta.genre'].str.count(',') == 0 \n",
        "single_genre_movies = conversations.loc[single_genres].copy()\n",
        "unique_genres = single_genre_movies['meta.genre'].unique()\n",
        "genre_counts = single_genre_movies['meta.genre'].value_counts()\n",
        "print(genre_counts)"
      ],
      "metadata": {
        "colab": {
          "base_uri": "https://localhost:8080/"
        },
        "id": "9ZOg3gIkQWrC",
        "outputId": "53db90bd-bb08-48f1-a808-311805d360bd"
      },
      "execution_count": 109,
      "outputs": [
        {
          "output_type": "stream",
          "name": "stdout",
          "text": [
            "['drama']          5027\n",
            "['comedy']         1660\n",
            "['thriller']       1298\n",
            "['horror']          801\n",
            "['documentary']     318\n",
            "[]                  111\n",
            "['sci-fi']          100\n",
            "['action']           75\n",
            "['short']            66\n",
            "['fantasy']          35\n",
            "Name: meta.genre, dtype: int64\n"
          ]
        }
      ]
    },
    {
      "cell_type": "markdown",
      "source": [
        "Note that there are 111 movies that are not labelled. We only choose the top 5 labels and an additional label called romcom. The reason for this is that the other single labelled movies do not have many movies under them and may lead to biased results."
      ],
      "metadata": {
        "id": "U868lPZDQ_hh"
      }
    },
    {
      "cell_type": "markdown",
      "source": [
        "The genres in the conversation dataframe consist of a number of genres in a single list but it looks like a combination of lists due to the usage of braces and commas but they are actually just strings. Hence, the labels are brought to a desired format. Additionally, the rows that have only two genres, comedy and romance are combined to a single genre called romcom. A lot of columns are dropped since merging such huge dataframes leads to session crashes.  "
      ],
      "metadata": {
        "id": "dD1qGJbWOhxW"
      }
    },
    {
      "cell_type": "code",
      "source": [
        "#Getting the desired labels in the right format\n",
        "conversations['meta.genre'] = conversations['meta.genre'].apply(lambda x: \"drama\" if x == \"['drama']\" else x)\n",
        "conversations['meta.genre'] = conversations['meta.genre'].apply(lambda x: \"horror\" if x == \"['horror']\" else x)\n",
        "conversations['meta.genre'] = conversations['meta.genre'].apply(lambda x: \"thriller\" if x == \"['thriller']\" else x)\n",
        "conversations['meta.genre'] = conversations['meta.genre'].apply(lambda x: \"comedy\" if x == \"['comedy']\" else x)\n",
        "conversations['meta.genre'] = conversations['meta.genre'].apply(lambda x: \"documentary\" if x == \"['documentary']\" else x)\n",
        "conversations['meta.genre'] = conversations['meta.genre'].apply(lambda x: \"romcom\" if x == \"['comedy', 'romance']\" else x)"
      ],
      "metadata": {
        "id": "gxsN3PdxN6SY"
      },
      "execution_count": 110,
      "outputs": []
    },
    {
      "cell_type": "code",
      "source": [
        "#Drop unncessary rows and columns that we will not use for our task \n",
        "conversations = conversations.loc[conversations['meta.genre'].isin(['drama', 'horror', 'thriller', 'comedy', 'documentary','romcom'])]\n",
        "conversations = conversations.drop(columns=['meta.release_year', 'meta.rating', 'meta.votes'], axis=1)\n",
        "speakers = speakers.drop(columns=['meta.credit_pos', 'meta.gender', 'meta.character_name'], axis=1)"
      ],
      "metadata": {
        "id": "rZQd256UOEWr"
      },
      "execution_count": 111,
      "outputs": []
    },
    {
      "cell_type": "code",
      "source": [
        "#Merging the three dataframes\n",
        "import pandas as pd\n",
        "merged_df = conversations.merge(speakers, on='meta.movie_id').merge(utterances, on='meta.movie_id')\n",
        "from functools import reduce\n",
        "dfs = [conversations, utterances, speakers]\n",
        "final_df = dfs[0]\n",
        "for df in dfs[1:]:\n",
        "    final_df = pd.merge(final_df, df, on=['meta.movie_id'], how='inner')"
      ],
      "metadata": {
        "id": "R0kwmRqGOGQN"
      },
      "execution_count": 112,
      "outputs": []
    },
    {
      "cell_type": "code",
      "source": [
        "#Sampling 10000 rows\n",
        "final_df = final_df.sample(n=10000, random_state=42)"
      ],
      "metadata": {
        "id": "oz9yNb8aOH4D"
      },
      "execution_count": 113,
      "outputs": []
    },
    {
      "cell_type": "markdown",
      "source": [
        "For a balanced split of genres in each set, we use stratified sampling to split the dataset into training, testing, and validation split in the ratio of 60:20:20."
      ],
      "metadata": {
        "id": "_6z-jdsLRXdb"
      }
    },
    {
      "cell_type": "code",
      "source": [
        "#Splitting the dataframe into Train, Test and Validation set using Stratified Sampling\n",
        "import pandas as pd\n",
        "from sklearn.model_selection import StratifiedShuffleSplit\n",
        "y = final_df['meta.genre']\n",
        "\n",
        "#Split the data into training and the rest with 60:40 split\n",
        "stratified_split = StratifiedShuffleSplit(n_splits=1, test_size=0.4, random_state=0) \n",
        "for train_index, test_val_index in stratified_split.split(final_df, y):\n",
        "    train = final_df.iloc[train_index]\n",
        "    test_val = final_df.iloc[test_val_index]\n",
        "\n",
        "#Split the remaining 40% data into testing and validation 50:50 split\n",
        "y_test_val = y.iloc[test_val_index]\n",
        "stratified_split = StratifiedShuffleSplit(n_splits=1, test_size=0.5, random_state=0)\n",
        "for test_index,val_index in stratified_split.split(test_val, y_test_val):\n",
        "    test = test_val.iloc[test_index]\n",
        "    val = test_val.iloc[val_index]"
      ],
      "metadata": {
        "id": "rzmM84a0OJ1M"
      },
      "execution_count": 114,
      "outputs": []
    },
    {
      "cell_type": "markdown",
      "source": [
        "Now, we will analyse the frequencies in all three splits and also plot the corresponding bar graphs."
      ],
      "metadata": {
        "id": "ZnjLqx2BT54b"
      }
    },
    {
      "cell_type": "code",
      "execution_count": 115,
      "metadata": {
        "colab": {
          "base_uri": "https://localhost:8080/"
        },
        "id": "GWYcjRulsER5",
        "outputId": "093ec7d9-5cb5-4381-9568-f1db1e064205"
      },
      "outputs": [
        {
          "output_type": "stream",
          "name": "stdout",
          "text": [
            "Frequency in stratified_train:\n",
            "drama          2731\n",
            "romcom         1618\n",
            "comedy          873\n",
            "thriller        507\n",
            "horror          192\n",
            "documentary      79\n",
            "Name: meta.genre, dtype: int64\n",
            "\n",
            "Frequency in stratified_test:\n",
            "drama          911\n",
            "romcom         540\n",
            "comedy         290\n",
            "thriller       169\n",
            "horror          64\n",
            "documentary     26\n",
            "Name: meta.genre, dtype: int64\n",
            "\n",
            "Frequency in stratified_validation:\n",
            "drama          910\n",
            "romcom         539\n",
            "comedy         291\n",
            "thriller       169\n",
            "horror          64\n",
            "documentary     27\n",
            "Name: meta.genre, dtype: int64\n"
          ]
        }
      ],
      "source": [
        "print(\"Frequency in stratified_train:\")\n",
        "print(train['meta.genre'].value_counts())\n",
        "\n",
        "print(\"\\nFrequency in stratified_test:\")\n",
        "print(test['meta.genre'].value_counts())\n",
        "\n",
        "print(\"\\nFrequency in stratified_validation:\")\n",
        "print(val['meta.genre'].value_counts())"
      ]
    },
    {
      "cell_type": "code",
      "execution_count": 116,
      "metadata": {
        "colab": {
          "base_uri": "https://localhost:8080/",
          "height": 980
        },
        "id": "oBZ769wVvqO_",
        "outputId": "b7a84ed3-1629-4f17-d512-ebe089c7fc21"
      },
      "outputs": [
        {
          "output_type": "display_data",
          "data": {
            "text/plain": [
              "<Figure size 432x288 with 1 Axes>"
            ],
            "image/png": "[encoded data removed]"
          },
          "metadata": {
            "needs_background": "light"
          }
        },
        {
          "output_type": "display_data",
          "data": {
            "text/plain": [
              "<Figure size 432x288 with 1 Axes>"
            ],
            "image/png": "[encoded data removed]"
          },
          "metadata": {
            "needs_background": "light"
          }
        },
        {
          "output_type": "display_data",
          "data": {
            "text/plain": [
              "<Figure size 432x288 with 1 Axes>"
            ],
            "image/png": "[encoded data removed]"
          },
          "metadata": {
            "needs_background": "light"
          }
        }
      ],
      "source": [
        "import matplotlib.pyplot as plt\n",
        "train['meta.genre'].value_counts().plot(kind='bar', title=\"Frequency in training set\")\n",
        "plt.show()\n",
        "test['meta.genre'].value_counts().plot(kind='bar', title=\"Frequency in test set\")\n",
        "plt.show()\n",
        "val['meta.genre'].value_counts().plot(kind='bar', title=\"Frequency in validation set\")\n",
        "plt.show()"
      ]
    },
    {
      "cell_type": "markdown",
      "source": [
        "It is evident from the bar graphs that the label distribution is even across the splits but not inside the splits. In all cases, drama genre has the most number of rows and documentary genre has the least number of rows. This is due to the uneven distribution in the original dataframe. "
      ],
      "metadata": {
        "id": "om9N2mvBUMR0"
      }
    },
    {
      "cell_type": "markdown",
      "source": [
        "# Q2. Clustering"
      ],
      "metadata": {
        "id": "DTGFnNSZUpuG"
      }
    },
    {
      "cell_type": "markdown",
      "source": [
        "To pre-process the data, tokenization, stemming, and stopword removal is performed."
      ],
      "metadata": {
        "id": "rmZnZWQHVAw1"
      }
    },
    {
      "cell_type": "code",
      "source": [
        "import spacy\n",
        "nlp = spacy.load(\"en_core_web_sm\")"
      ],
      "metadata": {
        "id": "7iNOy2tHbtKH"
      },
      "execution_count": 117,
      "outputs": []
    },
    {
      "cell_type": "code",
      "source": [
        "import string\n",
        "def tokenize_rulebased(text):\n",
        "  prev_c = ''\n",
        "  tokens = []\n",
        "\n",
        "  for c in text:\n",
        "    # Ignore characters that are whitespace (e.g. spaces, tabs, etc)\n",
        "    if not c in string.whitespace and not c in string.punctuation:\n",
        "      if prev_c in string.whitespace:\n",
        "        is_new_token = True\n",
        "      elif prev_c in string.ascii_letters and c not in string.ascii_letters:\n",
        "        is_new_token = True\n",
        "      elif prev_c in string.punctuation and c in string.ascii_letters:\n",
        "        is_new_token = True\n",
        "      elif prev_c in string.digits and c in string.punctuation:\n",
        "        is_new_token = True\n",
        "      elif prev_c in string.punctuation and c in string.digits:\n",
        "        is_new_token = True\n",
        "      else:\n",
        "        is_new_token = False\n",
        "      if is_new_token:\n",
        "        tokens.append(c)\n",
        "      else: \n",
        "        tokens[-1] += c\n",
        "    prev_c = c # Track what the previous character is\n",
        "\n",
        "  return tokens  \n",
        "\n",
        "    "
      ],
      "metadata": {
        "id": "wqXG14pXlRd3"
      },
      "execution_count": 121,
      "outputs": []
    },
    {
      "cell_type": "code",
      "source": [
        "def stemming(tokens): \n",
        "  stemmed_tokens = []\n",
        "  for token in tokens: \n",
        "    if token.endswith('ing'):\n",
        "      token = token[0:-3]\n",
        "    if token.endswith('ed'):\n",
        "      token = token[0:-2]\n",
        "    if token.endswith('s') and tokens != \"is\":\n",
        "      token = token[0:-1]\n",
        "    if token.endswith('izer'):\n",
        "      token = token[0:-1]\n",
        "    if token.endswith('able'):\n",
        "      token = token[0:-4]\n",
        "    stemmed_tokens.append(token)\n",
        "  return stemmed_tokens"
      ],
      "metadata": {
        "id": "cRvJr9qG9OYo"
      },
      "execution_count": 122,
      "outputs": []
    },
    {
      "cell_type": "code",
      "source": [
        "import nltk\n",
        "from nltk.corpus import stopwords #remove stopwords using NLTK library\n",
        "\n",
        "nltk.download('stopwords')\n",
        "stop_words = set(stopwords.words(\"english\"))\n",
        "\n",
        "def remove_stopwords(tokens):\n",
        "    return [token for token in tokens if token.lower() not in stop_words]"
      ],
      "metadata": {
        "colab": {
          "base_uri": "https://localhost:8080/"
        },
        "id": "TyTvKYBnX3Eh",
        "outputId": "25746f01-c249-4615-a08e-17f0875283eb"
      },
      "execution_count": 123,
      "outputs": [
        {
          "output_type": "stream",
          "name": "stderr",
          "text": [
            "[nltk_data] Downloading package stopwords to /root/nltk_data...\n",
            "[nltk_data]   Package stopwords is already up-to-date!\n"
          ]
        }
      ]
    },
    {
      "cell_type": "markdown",
      "source": [
        "Additional functions are made to make vocabulary, find the document frequency and make a sparse TF-IDF vector."
      ],
      "metadata": {
        "id": "W9XSrAtTVtlZ"
      }
    },
    {
      "cell_type": "code",
      "source": [
        "def make_vocabulary(corpus): #make vocabulary\n",
        "  dict = {}\n",
        "  count = 0\n",
        "  for i in corpus:\n",
        "    for j in i:\n",
        "      if j not in dict:\n",
        "        dict[j] = count\n",
        "        count = count+1    \n",
        "  return dict"
      ],
      "metadata": {
        "id": "CeDysMFPAuNA"
      },
      "execution_count": 124,
      "outputs": []
    },
    {
      "cell_type": "code",
      "source": [
        "def doc_frequency(corpus): #calculate document frequency for all tokens\n",
        "  unique_tokens = []\n",
        "  freq = Counter()\n",
        "  for document in corpus:\n",
        "    if document not in unique_tokens:\n",
        "      unique_tokens.append(document)\n",
        "      for token in document:\n",
        "        freq[token] = freq[token]+1\n",
        "  return freq\n",
        "\n"
      ],
      "metadata": {
        "id": "nkl1VhtHKfCZ"
      },
      "execution_count": 125,
      "outputs": []
    },
    {
      "cell_type": "code",
      "source": [
        "import math\n",
        "from collections import Counter\n",
        "\n",
        "def make_tfidf_sparse(tokens, vocab, doc_freq, N): #Create a sparse vector representation\n",
        "  sparse = {}\n",
        "  count = Counter(tokens)\n",
        "  for token, frequency in count.items():\n",
        "    if token not in vocab:\n",
        "      continue\n",
        "    i = vocab[token]\n",
        "    if frequency == 0:\n",
        "      term_freq = 0\n",
        "    else:\n",
        "      term_freq = 1 + math.log10(frequency)\n",
        "    idf = math.log10(N/doc_freq[token])\n",
        "    sparse[i] = term_freq * idf\n",
        "  return sparse"
      ],
      "metadata": {
        "id": "jXqKA7I0NrCX"
      },
      "execution_count": 127,
      "outputs": []
    },
    {
      "cell_type": "markdown",
      "source": [
        "Since, a lot of processing has to be done on the dataframes, we will create additional copies of dataframe to carry out the tasks.  We will apply all these functions to the cluster_train dataframe."
      ],
      "metadata": {
        "id": "tn6yE7OyWSUz"
      }
    },
    {
      "cell_type": "code",
      "source": [
        "cluster_train = train.copy()"
      ],
      "metadata": {
        "id": "vHJpOjpIWnfP"
      },
      "execution_count": 128,
      "outputs": []
    },
    {
      "cell_type": "code",
      "source": [
        "cluster_train['tokens'] = cluster_train['text'].apply(tokenize_rulebased) \n",
        "cluster_train['tokens'] = cluster_train['tokens'].apply(stemming) \n",
        "cluster_train['tokens'] = cluster_train['tokens'].apply(remove_stopwords)"
      ],
      "metadata": {
        "id": "7xKrqRq9W286"
      },
      "execution_count": 129,
      "outputs": []
    },
    {
      "cell_type": "code",
      "source": [
        "train_vocab = make_vocabulary(cluster_train['tokens'])\n",
        "train_docfreq = doc_frequency(cluster_train['tokens'])\n",
        "N = len(cluster_train['tokens'])\n",
        "train_tfidf_vectors = [ make_tfidf_sparse(pt, train_vocab, train_docfreq, N) for pt in cluster_train['tokens'] ]"
      ],
      "metadata": {
        "id": "f-Rbxkx-X_ER"
      },
      "execution_count": 130,
      "outputs": []
    },
    {
      "cell_type": "markdown",
      "source": [
        "The make_tfidf_sparse function that generates a sparse representation of the document where the keys are tokens and values are TF-IDF weights which are the **Vectors**. This function is applied to each document in the cluster_train dataframe. This is called **Vectorization (Step 0)**. "
      ],
      "metadata": {
        "id": "wZG3MKmXZUM2"
      }
    },
    {
      "cell_type": "markdown",
      "source": [
        "# K-Means"
      ],
      "metadata": {
        "id": "F0q8Xz6LyNog"
      }
    },
    {
      "cell_type": "markdown",
      "source": [
        "Now, we will apply K-means. We first select K random centroids. Then, every vector calculated earlier is assigned to its closest vector. The centroids are again selected based on the closest vector. The process repeats until the model converges."
      ],
      "metadata": {
        "id": "cmji7HAOadGv"
      }
    },
    {
      "cell_type": "code",
      "source": [
        "import numpy as np\n",
        "\n",
        "def sparse_dot_prod(sv1, sv2):\n",
        "    dot_product = 0\n",
        "    common_indices = set(sv1.keys()) & set(sv2.keys())\n",
        "    for index in common_indices:\n",
        "        dot_product += sv1[index] * sv2[index]\n",
        "    return dot_product\n",
        "\n",
        "def sparse_cosine_similarity(sv1, sv2):\n",
        "  squares = []\n",
        "  for index,val in sv1.items():\n",
        "    squares.append(val * val)\n",
        "  d1 = math.sqrt(sum(squares))\n",
        "  squares2 = []\n",
        "  for index,val in sv2.items():\n",
        "    squares2.append(val * val)\n",
        "  d2 = math.sqrt(sum(squares))\n",
        "  if d1 == 0 or d2 == 0:\n",
        "    return 0\n",
        "  else:\n",
        "    sim = sparse_dot_prod(sv1, sv2) / (d1 * d2)\n",
        "    return sim\n",
        "\n"
      ],
      "metadata": {
        "id": "exqKQvUGANG1"
      },
      "execution_count": 131,
      "outputs": []
    },
    {
      "cell_type": "code",
      "source": [
        "def get_cluster_ids(data_points, centers):\n",
        "    cluster_ids = []\n",
        "    for data_point in data_points:\n",
        "        similarities = [sparse_cosine_similarity(data_point, center) for center in centers]\n",
        "        cluster_ids.append(similarities.index(max(similarities)))\n",
        "    return cluster_ids"
      ],
      "metadata": {
        "id": "b16v_2rPcdNC"
      },
      "execution_count": null,
      "outputs": []
    },
    {
      "cell_type": "markdown",
      "source": [
        "The actual implementation of K-means can be seen in the following code:"
      ],
      "metadata": {
        "id": "t5VWcia_zRvI"
      }
    },
    {
      "cell_type": "code",
      "source": [
        "import random\n",
        "import numpy as np\n",
        "import random\n",
        "import numpy as np\n",
        "\n",
        "def kmeans(cluster_no, vocabulary, vectors):\n",
        "    iter = 0\n",
        "\n",
        "    np.random.seed(42)\n",
        "    centroids = np.random.randn(cluster_no, len(vocabulary)) #Clusters are initialized randomly (Step 1)\n",
        "    centroids = [dict(zip(range(len(vocabulary)), centroid)) for centroid in centroids]\n",
        "\n",
        "    cluster_assignments = []\n",
        "    #Here, each vector is assigned to its closest centroid (Step 2)\n",
        "    for vector in vectors:\n",
        "      similarities = [sparse_cosine_similarity(vector, centroid) for centroid in centroids]\n",
        "      closest_centroid = similarities.index(max(similarities))\n",
        "      cluster_assignments.append(closest_centroid)\n",
        "\n",
        "    prev_cluster_assignments = cluster_assignments\n",
        "\n",
        "    #Until the model converges (Repeating the steps)\n",
        "    while iter == 0 or count_diff > 0:\n",
        "        num_clusters = len(set(cluster_assignments))\n",
        "        cluster_vectors = []\n",
        "        for i in range(num_clusters):\n",
        "          cluster_vectors.append([])\n",
        "        for vector, cluster_id in zip(vectors, cluster_assignments):\n",
        "            cluster_vectors[cluster_id].append(vector)\n",
        "        #Here, new centroids are calculated based on the closest vector (Step 3)\n",
        "        new_centroids = [dict() for i in range(num_clusters)]\n",
        "        for i in range(num_clusters):\n",
        "          for key in set().union(*[v.keys() for v in cluster_vectors[i]]):\n",
        "            value_sum = sum(v.get(key, 0) for v in cluster_vectors[i])\n",
        "            new_centroids[i][key] = value_sum / len(cluster_vectors[i])\n",
        "        \n",
        "        cluster_assignments = get_cluster_ids(vectors, new_centroids)\n",
        "        count_diff = sum([1 for a, b in zip(cluster_assignments, prev_cluster_assignments) if a != b])\n",
        "        prev_cluster_assignments = cluster_assignments\n",
        "        iter += 1\n",
        "      \n",
        "    return cluster_assignments, new_centroids"
      ],
      "metadata": {
        "id": "OyIEmnImAPgA"
      },
      "execution_count": 132,
      "outputs": []
    },
    {
      "cell_type": "code",
      "source": [
        "#Implementing K-means \n",
        "cluster_ids, centroids = kmeans(5, train_vocab, train_tfidf_vectors)\n"
      ],
      "metadata": {
        "id": "NXtHRqwtATE7"
      },
      "execution_count": 133,
      "outputs": []
    },
    {
      "cell_type": "markdown",
      "source": [
        "Now, we will find out the label distribution in each cluster."
      ],
      "metadata": {
        "id": "PMthtKAb1iIZ"
      }
    },
    {
      "cell_type": "code",
      "source": [
        "cluster_docs = {}\n",
        "for i in set(cluster_ids):\n",
        "    cluster_docs[i] = []\n",
        "cluster_train['Cluster'] = cluster_ids\n",
        "clusters = cluster_train.groupby(['Cluster', 'meta.genre'])\n",
        "clusters = clusters.size()\n",
        "clusters = clusters.unstack(level='meta.genre')"
      ],
      "metadata": {
        "id": "T4DlSye_VcJJ"
      },
      "execution_count": 134,
      "outputs": []
    },
    {
      "cell_type": "code",
      "source": [
        "clusters"
      ],
      "metadata": {
        "colab": {
          "base_uri": "https://localhost:8080/",
          "height": 237
        },
        "id": "CWza_vxG4YJd",
        "outputId": "67a209bf-4a9c-4fb1-eaec-b97f62b970fc"
      },
      "execution_count": 135,
      "outputs": [
        {
          "output_type": "execute_result",
          "data": {
            "text/plain": [
              "meta.genre  comedy  documentary  drama  horror  romcom  thriller\n",
              "Cluster                                                         \n",
              "0              240           24    692      56     401       124\n",
              "1              110            5    369      43     202        89\n",
              "2              175           19    504      30     362       103\n",
              "3              197           15    528      32     304        84\n",
              "4              151           16    638      31     349       107"
            ],
            "text/html": [
              "\n",
              "  <div id=\"df-987e0db6-c63d-4698-bb7d-b12c84cb6034\">\n",
              "    <div class=\"colab-df-container\">\n",
              "      <div>\n",
              "<style scoped>\n",
              "    .dataframe tbody tr th:only-of-type {\n",
              "        vertical-align: middle;\n",
              "    }\n",
              "\n",
              "    .dataframe tbody tr th {\n",
              "        vertical-align: top;\n",
              "    }\n",
              "\n",
              "    .dataframe thead th {\n",
              "        text-align: right;\n",
              "    }\n",
              "</style>\n",
              "<table border=\"1\" class=\"dataframe\">\n",
              "  <thead>\n",
              "    <tr style=\"text-align: right;\">\n",
              "      <th>meta.genre</th>\n",
              "      <th>comedy</th>\n",
              "      <th>documentary</th>\n",
              "      <th>drama</th>\n",
              "      <th>horror</th>\n",
              "      <th>romcom</th>\n",
              "      <th>thriller</th>\n",
              "    </tr>\n",
              "    <tr>\n",
              "      <th>Cluster</th>\n",
              "      <th></th>\n",
              "      <th></th>\n",
              "      <th></th>\n",
              "      <th></th>\n",
              "      <th></th>\n",
              "      <th></th>\n",
              "    </tr>\n",
              "  </thead>\n",
              "  <tbody>\n",
              "    <tr>\n",
              "      <th>0</th>\n",
              "      <td>240</td>\n",
              "      <td>24</td>\n",
              "      <td>692</td>\n",
              "      <td>56</td>\n",
              "      <td>401</td>\n",
              "      <td>124</td>\n",
              "    </tr>\n",
              "    <tr>\n",
              "      <th>1</th>\n",
              "      <td>110</td>\n",
              "      <td>5</td>\n",
              "      <td>369</td>\n",
              "      <td>43</td>\n",
              "      <td>202</td>\n",
              "      <td>89</td>\n",
              "    </tr>\n",
              "    <tr>\n",
              "      <th>2</th>\n",
              "      <td>175</td>\n",
              "      <td>19</td>\n",
              "      <td>504</td>\n",
              "      <td>30</td>\n",
              "      <td>362</td>\n",
              "      <td>103</td>\n",
              "    </tr>\n",
              "    <tr>\n",
              "      <th>3</th>\n",
              "      <td>197</td>\n",
              "      <td>15</td>\n",
              "      <td>528</td>\n",
              "      <td>32</td>\n",
              "      <td>304</td>\n",
              "      <td>84</td>\n",
              "    </tr>\n",
              "    <tr>\n",
              "      <th>4</th>\n",
              "      <td>151</td>\n",
              "      <td>16</td>\n",
              "      <td>638</td>\n",
              "      <td>31</td>\n",
              "      <td>349</td>\n",
              "      <td>107</td>\n",
              "    </tr>\n",
              "  </tbody>\n",
              "</table>\n",
              "</div>\n",
              "      <button class=\"colab-df-convert\" onclick=\"convertToInteractive('df-987e0db6-c63d-4698-bb7d-b12c84cb6034')\"\n",
              "              title=\"Convert this dataframe to an interactive table.\"\n",
              "              style=\"display:none;\">\n",
              "        \n",
              "  <svg xmlns=\"http://www.w3.org/2000/svg\" height=\"24px\"viewBox=\"0 0 24 24\"\n",
              "       width=\"24px\">\n",
              "    <path d=\"M0 0h24v24H0V0z\" fill=\"none\"/>\n",
              "    <path d=\"M18.56 5.44l.94 2.06.94-2.06 2.06-.94-2.06-.94-.94-2.06-.94 2.06-2.06.94zm-11 1L8.5 8.5l.94-2.06 2.06-.94-2.06-.94L8.5 2.5l-.94 2.06-2.06.94zm10 10l.94 2.06.94-2.06 2.06-.94-2.06-.94-.94-2.06-.94 2.06-2.06.94z\"/><path d=\"M17.41 7.96l-1.37-1.37c-.4-.4-.92-.59-1.43-.59-.52 0-1.04.2-1.43.59L10.3 9.45l-7.72 7.72c-.78.78-.78 2.05 0 2.83L4 21.41c.39.39.9.59 1.41.59.51 0 1.02-.2 1.41-.59l7.78-7.78 2.81-2.81c.8-.78.8-2.07 0-2.86zM5.41 20L4 18.59l7.72-7.72 1.47 1.35L5.41 20z\"/>\n",
              "  </svg>\n",
              "      </button>\n",
              "      \n",
              "  <style>\n",
              "    .colab-df-container {\n",
              "      display:flex;\n",
              "      flex-wrap:wrap;\n",
              "      gap: 12px;\n",
              "    }\n",
              "\n",
              "    .colab-df-convert {\n",
              "      background-color: #E8F0FE;\n",
              "      border: none;\n",
              "      border-radius: 50%;\n",
              "      cursor: pointer;\n",
              "      display: none;\n",
              "      fill: #1967D2;\n",
              "      height: 32px;\n",
              "      padding: 0 0 0 0;\n",
              "      width: 32px;\n",
              "    }\n",
              "\n",
              "    .colab-df-convert:hover {\n",
              "      background-color: #E2EBFA;\n",
              "      box-shadow: 0px 1px 2px rgba(60, 64, 67, 0.3), 0px 1px 3px 1px rgba(60, 64, 67, 0.15);\n",
              "      fill: #174EA6;\n",
              "    }\n",
              "\n",
              "    [theme=dark] .colab-df-convert {\n",
              "      background-color: #3B4455;\n",
              "      fill: #D2E3FC;\n",
              "    }\n",
              "\n",
              "    [theme=dark] .colab-df-convert:hover {\n",
              "      background-color: #434B5C;\n",
              "      box-shadow: 0px 1px 3px 1px rgba(0, 0, 0, 0.15);\n",
              "      filter: drop-shadow(0px 1px 2px rgba(0, 0, 0, 0.3));\n",
              "      fill: #FFFFFF;\n",
              "    }\n",
              "  </style>\n",
              "\n",
              "      <script>\n",
              "        const buttonEl =\n",
              "          document.querySelector('#df-987e0db6-c63d-4698-bb7d-b12c84cb6034 button.colab-df-convert');\n",
              "        buttonEl.style.display =\n",
              "          google.colab.kernel.accessAllowed ? 'block' : 'none';\n",
              "\n",
              "        async function convertToInteractive(key) {\n",
              "          const element = document.querySelector('#df-987e0db6-c63d-4698-bb7d-b12c84cb6034');\n",
              "          const dataTable =\n",
              "            await google.colab.kernel.invokeFunction('convertToInteractive',\n",
              "                                                     [key], {});\n",
              "          if (!dataTable) return;\n",
              "\n",
              "          const docLinkHtml = 'Like what you see? Visit the ' +\n",
              "            '<a target=\"_blank\" href=https://colab.research.google.com/notebooks/data_table.ipynb>data table notebook</a>'\n",
              "            + ' to learn more about interactive tables.';\n",
              "          element.innerHTML = '';\n",
              "          dataTable['output_type'] = 'display_data';\n",
              "          await google.colab.output.renderOutput(dataTable, element);\n",
              "          const docLink = document.createElement('div');\n",
              "          docLink.innerHTML = docLinkHtml;\n",
              "          element.appendChild(docLink);\n",
              "        }\n",
              "      </script>\n",
              "    </div>\n",
              "  </div>\n",
              "  "
            ]
          },
          "metadata": {},
          "execution_count": 135
        }
      ]
    },
    {
      "cell_type": "markdown",
      "source": [
        "Next, we retrieve 5 sample documents from each cluster"
      ],
      "metadata": {
        "id": "LxMvJCwR8GKl"
      }
    },
    {
      "cell_type": "code",
      "source": [
        "import random\n",
        "\n",
        "random.seed(42)\n",
        "document_dict = dict(enumerate(cluster_train['tokens']))\n",
        "\n",
        "cluster_docs = {}\n",
        "for cluster_id in set(cluster_ids):\n",
        "  indices = []\n",
        "  for i, c_id in enumerate(cluster_ids):\n",
        "    if c_id == cluster_id:\n",
        "      indices.append(i)\n",
        "    cluster_docs[cluster_id] = indices\n",
        "\n",
        "\n",
        "centroid_tuples = list(enumerate(centroids))\n",
        "\n",
        "for cluster_id in cluster_docs:\n",
        "    docs = cluster_docs[cluster_id]\n",
        "    print(f'Cluster {cluster_id}:\\n{len(docs)} documents assigned to this cluster')\n",
        "    print()\n",
        "    print('Sample documents:')\n",
        "    sample_docs = random.sample(docs, min(5, len(docs)))\n",
        "    for doc_id in sample_docs:\n",
        "        document = document_dict[doc_id]\n",
        "        print(document)\n",
        "    \n",
        "    print()"
      ],
      "metadata": {
        "colab": {
          "base_uri": "https://localhost:8080/"
        },
        "id": "XKABvve1PC8b",
        "outputId": "900daa38-817b-40a7-8e28-4d4cf53c04d4"
      },
      "execution_count": 136,
      "outputs": [
        {
          "output_type": "stream",
          "name": "stdout",
          "text": [
            "Cluster 0:\n",
            "1537 documents assigned to this cluster\n",
            "\n",
            "Sample documents:\n",
            "['Read', 'Mein', 'Kampf', 'Hitler', 'hi', 'best', 'idea', 'prison']\n",
            "['real', 'Nazi', 'Hitler', 'Goebbel', 'talk', 'Jew', 'incessantly', 'ever', 'read', 'diarie']\n",
            "['interest', 'think', '', 'best']\n",
            "['got', 'noth', 'worry', '', 'naive', 'child']\n",
            "['', 'mes']\n",
            "\n",
            "Cluster 1:\n",
            "818 documents assigned to this cluster\n",
            "\n",
            "Sample documents:\n",
            "['take', 'jacket', 'warm']\n",
            "['Yeah', 'see']\n",
            "['thought', 'plann', 'long', 'rosy', 'future', 'together']\n",
            "['Ye', 'ye', 'sign', 'ye', 'write', 'figure']\n",
            "['Make', 'shot']\n",
            "\n",
            "Cluster 2:\n",
            "1193 documents assigned to this cluster\n",
            "\n",
            "Sample documents:\n",
            "['Well', 'ha', 'claim', 'better', 'see', 'Send']\n",
            "['alway', 'pick', 'took', 'three', 'hour', 'get', 'little', 'gadget', 'hole', 'screw', 'minute', 'Hey', 'look']\n",
            "['sorry', 'wa', 'hav', 'nightmare', 'Someth', 'ate', 'well', 'See', 'Hot', 'water', 'bottle']\n",
            "['sure', 'wa', 'awkward', 'Chutney', 'Much', 'hear', 'tell']\n",
            "['sick', 'love']\n",
            "\n",
            "Cluster 3:\n",
            "1160 documents assigned to this cluster\n",
            "\n",
            "Sample documents:\n",
            "['gonna', 'put', 'great', 'big', 'ear', 'fuck', 'ear', 'smile', 'face', 'bout']\n",
            "['Cucamonga', 'shopp', 'center']\n",
            "['Seem', 'excellently', 'without', 'assistance']\n",
            "['talk']\n",
            "['Daddy']\n",
            "\n",
            "Cluster 4:\n",
            "1292 documents assigned to this cluster\n",
            "\n",
            "Sample documents:\n",
            "['Mr', 'Dickson', 'thought', 'go', 'take', 'care', 'mortgage', 'want', 'ten', 'thousand', 'property', 'worth', 'sixty']\n",
            "['C', 'mon', 'might', 'buy', 'company', 'day']\n",
            "['mean', 'th', 'pr', 'president', 'P', 'P', 'Patient', 'C', 'Council']\n",
            "['swear', 'turn', 'offer', 'unles', 'thought', 'could', 'win', 'case']\n",
            "['Well', 'must', 'give', 'wrong', 'kind', 'show']\n",
            "\n"
          ]
        }
      ]
    },
    {
      "cell_type": "markdown",
      "source": [
        "Next, we retrieve top 5 tokens in each cluster and their corresponding scores."
      ],
      "metadata": {
        "id": "NmBRGjOF_1d4"
      }
    },
    {
      "cell_type": "code",
      "source": [
        "top_tokens = []\n",
        "for cluster_id, centroid in enumerate(centroids):\n",
        "  sorted_tokens = sorted(centroid.items(), key=lambda x: -x[1])\n",
        "  sorted_tokens = sorted_tokens[:5]\n",
        "  top_tokens.append((cluster_id, sorted_tokens))\n",
        "\n",
        "\n",
        "for cluster_id in cluster_docs:\n",
        "    print(f'Cluster {cluster_id}:')\n",
        "    docs = cluster_docs[cluster_id]\n",
        "    for cluster_tuple in top_tokens:\n",
        "      if cluster_tuple[0] == cluster_id:\n",
        "        top_tokens_cluster = cluster_tuple[1]\n",
        "        break\n",
        "    \n",
        "\n",
        "    print(f'Top 5 tokens with highest magnitude for cluster {cluster_id}:')\n",
        "    for token_id, score in top_tokens_cluster:\n",
        "        for word, id in train_vocab.items():\n",
        "          if id == token_id:\n",
        "            token = word\n",
        "            break\n",
        "        print(f'{token}: {score:.4f}')\n",
        "    print()\n"
      ],
      "metadata": {
        "colab": {
          "base_uri": "https://localhost:8080/"
        },
        "id": "N0KXoB-AGgPj",
        "outputId": "34de1458-0d75-41af-aef9-1189605187c6"
      },
      "execution_count": 137,
      "outputs": [
        {
          "output_type": "stream",
          "name": "stdout",
          "text": [
            "Cluster 0:\n",
            "Top 5 tokens with highest magnitude for cluster 0:\n",
            ": 0.6247\n",
            "Oh: 0.1156\n",
            "sorry: 0.0936\n",
            "say: 0.0786\n",
            "sure: 0.0778\n",
            "\n",
            "Cluster 1:\n",
            "Top 5 tokens with highest magnitude for cluster 1:\n",
            "Ye: 0.3153\n",
            "Yeah: 0.2594\n",
            "take: 0.2164\n",
            "u: 0.1713\n",
            "gues: 0.0795\n",
            "\n",
            "Cluster 2:\n",
            "Top 5 tokens with highest magnitude for cluster 2:\n",
            "wa: 0.3256\n",
            "like: 0.1933\n",
            "Well: 0.1868\n",
            "see: 0.1496\n",
            "said: 0.1268\n",
            "\n",
            "Cluster 3:\n",
            "Top 5 tokens with highest magnitude for cluster 3:\n",
            "thi: 0.5023\n",
            "think: 0.2372\n",
            "make: 0.1353\n",
            "time: 0.1313\n",
            ": 0.1183\n",
            "\n",
            "Cluster 4:\n",
            "Top 5 tokens with highest magnitude for cluster 4:\n",
            "go: 0.3376\n",
            "want: 0.2608\n",
            "know: 0.2598\n",
            "get: 0.2067\n",
            "say: 0.1560\n",
            "\n"
          ]
        }
      ]
    },
    {
      "cell_type": "markdown",
      "source": [
        "Now, we will create a confusion matrix to visualise the clusters and their relationship with the movie genre labels."
      ],
      "metadata": {
        "id": "U0mXDceQB31h"
      }
    },
    {
      "cell_type": "code",
      "source": [
        "import seaborn as sns\n",
        "import matplotlib.pyplot as plt\n",
        "\n",
        "fig, ax = plt.subplots()\n",
        "sns.heatmap(clusters, ax=ax, cmap='YlGnBu', fmt='.0f', annot=True)\n",
        "\n",
        "ax.set_xlabel('Genre')\n",
        "ax.set_ylabel('Cluster')\n",
        "plt.show()"
      ],
      "metadata": {
        "colab": {
          "base_uri": "https://localhost:8080/",
          "height": 336
        },
        "id": "Za2BXD8AXrCh",
        "outputId": "c6174b21-73f3-408f-fd9f-375b1ed17233"
      },
      "execution_count": 138,
      "outputs": [
        {
          "output_type": "display_data",
          "data": {
            "text/plain": [
              "<Figure size 432x288 with 2 Axes>"
            ],
            "image/png": "[encoded data removed]"
          },
          "metadata": {
            "needs_background": "light"
          }
        }
      ]
    },
    {
      "cell_type": "markdown",
      "source": [
        "The drama genre is present in highest number in each cluster. This could be because of the uneven distribution in the original dataframe. Apart from that, thriller genre is mostly present in cluster 0. Romcom is present in cluser 0 and 2. Drama genre is present in cluster 0 and 4. Comedy genre is present in cluster 0 and 3. Documentary and horror genre have very low appearances."
      ],
      "metadata": {
        "id": "VMA1rGuqCPAS"
      }
    },
    {
      "cell_type": "markdown",
      "source": [
        "# Q.3 Comparing Classifiers"
      ],
      "metadata": {
        "id": "XIscb1DkDeEg"
      }
    },
    {
      "cell_type": "markdown",
      "source": [
        "We are applying five different classifiers. As a baseline classifier, we will implement dummy classifier with two different strategies. We will not pre-process the data yet so as to make useful comparisons later. First, we will create a function to be called each time we want to retrieve evaluation metrics."
      ],
      "metadata": {
        "id": "6-dpYRerEi9F"
      }
    },
    {
      "cell_type": "code",
      "source": [
        "import pandas as pd\n",
        "import matplotlib.pyplot as plt\n",
        "from sklearn.metrics import precision_recall_fscore_support\n",
        "\n",
        "def evaluate(val, val_predictions):\n",
        "    val_precision, val_recall, val_f1, support = precision_recall_fscore_support(val['meta.genre'], val_predictions, average='macro')\n",
        "    val_accuracy = (val['meta.genre'] == val_predictions).mean()\n",
        "    print(f'Validation accuracy: {val_accuracy:.3f}')\n",
        "    print(f'Validation precision (macro-averaged): {val_precision:.3f}')\n",
        "    print(f'Validation recall (macro-averaged): {val_recall:.3f}')\n",
        "    print(f'Validation F1-score (macro-averaged): {val_f1:.3f}')\n",
        "    label_dist = pd.Series(val_predictions).value_counts()\n",
        "    print(label_dist)\n",
        "    \n",
        "    plt.bar(label_dist.index, label_dist.values)\n",
        "    plt.title(\"Label Distribution\")\n",
        "    plt.xlabel(\"Genre\")\n",
        "    plt.ylabel(\"Frequency\")\n",
        "    plt.show()\n"
      ],
      "metadata": {
        "id": "nxoEEAtzHdXm"
      },
      "execution_count": 139,
      "outputs": []
    },
    {
      "cell_type": "markdown",
      "source": [
        "# Dummy Classifier (Strategy = most_frequent)"
      ],
      "metadata": {
        "id": "e0w1NxxROud3"
      }
    },
    {
      "cell_type": "markdown",
      "source": [
        "First, we will implement Dummy Classifier with the strategy = most_frequent, which will give the most frequent label."
      ],
      "metadata": {
        "id": "9ZEoQj3tIfK9"
      }
    },
    {
      "cell_type": "code",
      "source": [
        "from sklearn.dummy import DummyClassifier\n",
        "\n",
        "dummy_clf = DummyClassifier(strategy='most_frequent')\n",
        "dummy_clf.fit(train['text'], train['meta.genre'])\n",
        "prediction = dummy_clf.predict(train[['text']])\n",
        "\n",
        "val_predictions = dummy_clf.predict(val[['text']])\n",
        "val_accuracy = accuracy_score(val['meta.genre'], val_predictions)\n",
        "evaluate(val, val_predictions)"
      ],
      "metadata": {
        "colab": {
          "base_uri": "https://localhost:8080/",
          "height": 454
        },
        "id": "aee035ZxI-fM",
        "outputId": "f160796d-fe2e-4631-be12-ab62997c4601"
      },
      "execution_count": 140,
      "outputs": [
        {
          "output_type": "stream",
          "name": "stderr",
          "text": [
            "/usr/local/lib/python3.9/dist-packages/sklearn/metrics/_classification.py:1344: UndefinedMetricWarning: Precision and F-score are ill-defined and being set to 0.0 in labels with no predicted samples. Use `zero_division` parameter to control this behavior.\n",
            "  _warn_prf(average, modifier, msg_start, len(result))\n"
          ]
        },
        {
          "output_type": "stream",
          "name": "stdout",
          "text": [
            "Validation accuracy: 0.455\n",
            "Validation precision (macro-averaged): 0.076\n",
            "Validation recall (macro-averaged): 0.167\n",
            "Validation F1-score (macro-averaged): 0.104\n",
            "drama    2000\n",
            "dtype: int64\n"
          ]
        },
        {
          "output_type": "display_data",
          "data": {
            "text/plain": [
              "<Figure size 432x288 with 1 Axes>"
            ],
            "image/png": "[encoded data removed]"
          },
          "metadata": {
            "needs_background": "light"
          }
        }
      ]
    },
    {
      "cell_type": "markdown",
      "source": [
        "As the strategy includes labels most frequent, the graph only shows drama. Next, we use Stratified Split."
      ],
      "metadata": {
        "id": "da10JvAqJKID"
      }
    },
    {
      "cell_type": "markdown",
      "source": [
        "# Dummy Classifier (Strategy = stratified)"
      ],
      "metadata": {
        "id": "oCcjR2-zPE-k"
      }
    },
    {
      "cell_type": "code",
      "source": [
        "dummy_clf = DummyClassifier(strategy='stratified')\n",
        "dummy_clf.fit(train['text'], train['meta.genre'])\n",
        "prediction = dummy_clf.predict(train[['text']])\n",
        "\n",
        "val_predictions = dummy_clf.predict(val[['text']])\n",
        "val_accuracy = accuracy_score(val['meta.genre'], val_predictions)\n",
        "evaluate(val, val_predictions)"
      ],
      "metadata": {
        "colab": {
          "base_uri": "https://localhost:8080/",
          "height": 486
        },
        "id": "JaN_w2j-JSvj",
        "outputId": "2a11f0f9-a54a-4d74-ef91-8b3283f56f91"
      },
      "execution_count": 141,
      "outputs": [
        {
          "output_type": "stream",
          "name": "stdout",
          "text": [
            "Validation accuracy: 0.320\n",
            "Validation precision (macro-averaged): 0.169\n",
            "Validation recall (macro-averaged): 0.170\n",
            "Validation F1-score (macro-averaged): 0.169\n",
            "drama          886\n",
            "romcom         556\n",
            "comedy         297\n",
            "thriller       182\n",
            "horror          55\n",
            "documentary     24\n",
            "dtype: int64\n"
          ]
        },
        {
          "output_type": "display_data",
          "data": {
            "text/plain": [
              "<Figure size 432x288 with 1 Axes>"
            ],
            "image/png": "[encoded data removed]"
          },
          "metadata": {
            "needs_background": "light"
          }
        }
      ]
    },
    {
      "cell_type": "markdown",
      "source": [
        "We have already implemented stratified split on our data hence, the data shows a distribution like the initial distribution graph."
      ],
      "metadata": {
        "id": "8-nLlW5VJjw4"
      }
    },
    {
      "cell_type": "markdown",
      "source": [
        "Before implementing the other classifiers, we will pre-process the data. This includes tokenisation, stemming lemmatization, and stop-word removal. Unlike as previously, we will not use custom functions. Instead, we will use various libraries."
      ],
      "metadata": {
        "id": "v9qaaicrKVTR"
      }
    },
    {
      "cell_type": "markdown",
      "source": [
        "# Pre-processing"
      ],
      "metadata": {
        "id": "m6rMKDkWK2C0"
      }
    },
    {
      "cell_type": "markdown",
      "source": [
        "We will copy the various sets so that the original dataframes remain unchanged."
      ],
      "metadata": {
        "id": "8i5zhKKZLHrX"
      }
    },
    {
      "cell_type": "code",
      "source": [
        "classifiers_train = train.copy()\n",
        "classifiers_test = test.copy()\n",
        "classifiers_val = val.copy()"
      ],
      "metadata": {
        "id": "fbBLZTi_K-iQ"
      },
      "execution_count": 142,
      "outputs": []
    },
    {
      "cell_type": "markdown",
      "source": [
        "We implement two tokenising approaches; NLTK punkt and spaCy tokeniser. The latter produced better results."
      ],
      "metadata": {
        "id": "-HE2VB4DLhCM"
      }
    },
    {
      "cell_type": "code",
      "source": [
        "#import spacy\n",
        "#import nltk\n",
        "\n",
        "#nltk.download('punkt')  # download NLTK's punkt tokenizer\n",
        "\n",
        "# download and load spaCy's English language model\n",
        "#spacy.cli.download('en_core_web_sm')\n",
        "#nlp = spacy.load('en_core_web_sm')\n",
        "\n",
        "#def tokenize_text(text):\n",
        "    #return [token.text for token in nlp(text)]"
      ],
      "metadata": {
        "id": "QWjgqoDsLrmn"
      },
      "execution_count": 143,
      "outputs": []
    },
    {
      "cell_type": "code",
      "source": [
        "import spacy\n",
        "import pandas as pd\n",
        "\n",
        "nlp = spacy.load('en_core_web_sm')\n",
        "\n",
        "def tokenize_text(text):\n",
        "    return [token.text for token in nlp(text)]\n",
        "\n",
        "classifiers_train['tokens'] = classifiers_train['text'].apply(tokenize_text)\n",
        "classifiers_test['tokens'] = classifiers_test['text'].apply(tokenize_text)\n",
        "classifiers_val['tokens'] = val['text'].apply(tokenize_text)"
      ],
      "metadata": {
        "id": "_5dkmWjSLuMc"
      },
      "execution_count": 144,
      "outputs": []
    },
    {
      "cell_type": "markdown",
      "source": [
        "Stemming is implemented using SnowballStemmer and NLTK PorterStemmer. Snowball Stemmer showed better results."
      ],
      "metadata": {
        "id": "dZDUpG-5Ly8b"
      }
    },
    {
      "cell_type": "code",
      "source": [
        "#import pandas as pd\n",
        "#from nltk.stem import PorterStemmer\n",
        "\n",
        "#stemmer = PorterStemmer()\n",
        "\n",
        "#def stem_text(tokens):\n",
        "    #stemmed_tokens = []\n",
        "    #for token in tokens:\n",
        "        #stemmed_tokens.append(stemmer.stem(token))\n",
        "    #return stemmed_tokens"
      ],
      "metadata": {
        "id": "GuVSPIUrMCYr"
      },
      "execution_count": 145,
      "outputs": []
    },
    {
      "cell_type": "code",
      "source": [
        "import pandas as pd\n",
        "from nltk.stem import SnowballStemmer\n",
        "\n",
        "stemmer = SnowballStemmer('english')\n",
        "\n",
        "def stem_text(tokens):\n",
        "    stemmed_tokens = []\n",
        "    for token in tokens:\n",
        "        stemmed_tokens.append(stemmer.stem(token))\n",
        "    return stemmed_tokens\n",
        "\n",
        "classifiers_train['tokens'] = classifiers_train['tokens'].apply(stem_text)\n",
        "classifiers_test['tokens'] = classifiers_test['tokens'].apply(stem_text)\n",
        "classifiers_val['tokens'] = classifiers_val['tokens'].apply(stem_text)"
      ],
      "metadata": {
        "id": "w_qygL2dMFzt"
      },
      "execution_count": 146,
      "outputs": []
    },
    {
      "cell_type": "markdown",
      "source": [
        "Lemmatization is also carried out using spaCy."
      ],
      "metadata": {
        "id": "p686BiaiMIGi"
      }
    },
    {
      "cell_type": "code",
      "source": [
        "import spacy\n",
        "\n",
        "nlp = spacy.load('en_core_web_sm')  \n",
        "\n",
        "def lemmatize_text(text):\n",
        "    lemmatized_tokens = []\n",
        "    for token in text:\n",
        "        lemmatized_tokens.append(nlp(token)[0].lemma_)\n",
        "    return lemmatized_tokens\n",
        "\n",
        "classifiers_train['tokens'] = classifiers_train['tokens'].apply(lemmatize_text)\n",
        "classifiers_test['tokens'] = classifiers_test['tokens'].apply(lemmatize_text)\n",
        "classifiers_val['tokens'] = classifiers_val['tokens'].apply(lemmatize_text)"
      ],
      "metadata": {
        "id": "E1MLTzUoMGMk"
      },
      "execution_count": 147,
      "outputs": []
    },
    {
      "cell_type": "markdown",
      "source": [
        "Stopwords are removed using an NLTK provided list."
      ],
      "metadata": {
        "id": "qOtBL6pKMU8Z"
      }
    },
    {
      "cell_type": "code",
      "source": [
        "import pandas as pd\n",
        "import nltk\n",
        "from nltk.corpus import stopwords\n",
        "\n",
        "nltk.download('stopwords')\n",
        "stop_words = set(stopwords.words('english'))\n",
        "\n",
        "\n",
        "def remove_stopwords(tokens):\n",
        "  tok = []\n",
        "  for token in tokens:\n",
        "    if token not in stop_words:\n",
        "      tok.append(token)\n",
        "  return tok\n",
        "\n",
        "\n",
        "classifiers_train['tokens'] = classifiers_train['tokens'].apply(remove_stopwords)\n",
        "classifiers_test['tokens'] = classifiers_test['tokens'].apply(remove_stopwords)\n",
        "classifiers_val['tokens'] = classifiers_val['tokens'].apply(remove_stopwords)"
      ],
      "metadata": {
        "colab": {
          "base_uri": "https://localhost:8080/"
        },
        "id": "bhP9-bR_Mapq",
        "outputId": "ba569f46-68e4-4e78-88f0-fa7580953aec"
      },
      "execution_count": 148,
      "outputs": [
        {
          "output_type": "stream",
          "name": "stderr",
          "text": [
            "[nltk_data] Downloading package stopwords to /root/nltk_data...\n",
            "[nltk_data]   Package stopwords is already up-to-date!\n"
          ]
        }
      ]
    },
    {
      "cell_type": "code",
      "source": [
        "# Convert token lists to space-separated strings\n",
        "classifiers_train['text'] = classifiers_train['tokens'].apply(lambda tokens: ' '.join(tokens))\n",
        "classifiers_val['text'] = classifiers_val['tokens'].apply(lambda tokens: ' '.join(tokens))"
      ],
      "metadata": {
        "id": "gYJZHWexQJ2-"
      },
      "execution_count": 149,
      "outputs": []
    },
    {
      "cell_type": "markdown",
      "source": [
        "# LogisticRegression with One-Hot Vectorization"
      ],
      "metadata": {
        "id": "kDZgJE8_Pci6"
      }
    },
    {
      "cell_type": "code",
      "source": [
        "#logistic regression one hot encoder\n",
        "from sklearn.preprocessing import OneHotEncoder\n",
        "from sklearn.linear_model import LogisticRegression\n",
        "\n",
        "\n",
        "enc = OneHotEncoder(handle_unknown='ignore')\n",
        "X_train = enc.fit_transform(classifiers_train[['text']])\n",
        "y_train = classifiers_train['meta.genre']\n",
        "X_val = enc.transform(classifiers_val[['text']])\n",
        "y_val = classifiers_val['meta.genre']\n",
        "\n",
        "\n",
        "clf = LogisticRegression(random_state=0).fit(X_train, y_train)\n",
        "val_predictions = clf.predict(X_val)\n",
        "evaluate(classifiers_val, val_predictions)"
      ],
      "metadata": {
        "colab": {
          "base_uri": "https://localhost:8080/",
          "height": 662
        },
        "id": "EzAYBuP_MUfW",
        "outputId": "621f1fcd-9903-4a44-8117-11f9fec0dddc"
      },
      "execution_count": 151,
      "outputs": [
        {
          "output_type": "stream",
          "name": "stderr",
          "text": [
            "/usr/local/lib/python3.9/dist-packages/sklearn/linear_model/_logistic.py:458: ConvergenceWarning: lbfgs failed to converge (status=1):\n",
            "STOP: TOTAL NO. of ITERATIONS REACHED LIMIT.\n",
            "\n",
            "Increase the number of iterations (max_iter) or scale the data as shown in:\n",
            "    https://scikit-learn.org/stable/modules/preprocessing.html\n",
            "Please also refer to the documentation for alternative solver options:\n",
            "    https://scikit-learn.org/stable/modules/linear_model.html#logistic-regression\n",
            "  n_iter_i = _check_optimize_result(\n",
            "/usr/local/lib/python3.9/dist-packages/sklearn/metrics/_classification.py:1344: UndefinedMetricWarning: Precision and F-score are ill-defined and being set to 0.0 in labels with no predicted samples. Use `zero_division` parameter to control this behavior.\n",
            "  _warn_prf(average, modifier, msg_start, len(result))\n"
          ]
        },
        {
          "output_type": "stream",
          "name": "stdout",
          "text": [
            "Validation accuracy: 0.818\n",
            "Validation precision (macro-averaged): 0.780\n",
            "Validation recall (macro-averaged): 0.527\n",
            "Validation F1-score (macro-averaged): 0.585\n",
            "drama       1262\n",
            "romcom       457\n",
            "comedy       180\n",
            "thriller      88\n",
            "horror        13\n",
            "dtype: int64\n"
          ]
        },
        {
          "output_type": "display_data",
          "data": {
            "text/plain": [
              "<Figure size 432x288 with 1 Axes>"
            ],
            "image/png": "[encoded data removed]"
          },
          "metadata": {
            "needs_background": "light"
          }
        }
      ]
    },
    {
      "cell_type": "markdown",
      "source": [
        "Additionally, we will also implement the Count Vectorizer which is a modified version of One-Hot Encoding as it includes the frequency."
      ],
      "metadata": {
        "id": "T8WOULmiQnef"
      }
    },
    {
      "cell_type": "code",
      "source": [
        "#Logistic Regression with Count Vectorizer\n",
        "from sklearn.feature_extraction.text import CountVectorizer\n",
        "from sklearn.linear_model import LogisticRegression\n",
        "\n",
        "vectorizer = CountVectorizer()\n",
        "X_train = vectorizer.fit_transform(classifiers_train['text'])\n",
        "y_train = classifiers_train['meta.genre']\n",
        "clf = LogisticRegression(random_state=0).fit(X_train, y_train)\n",
        "\n",
        "X_val = vectorizer.transform(classifiers_val['text'])\n",
        "y_val = classifiers_val['meta.genre']\n",
        "val_predictions = clf.predict(X_val)\n",
        "\n",
        "evaluate(classifiers_val, val_predictions)"
      ],
      "metadata": {
        "colab": {
          "base_uri": "https://localhost:8080/",
          "height": 645
        },
        "id": "wNjJEQoGQmWr",
        "outputId": "462ef2ef-c7b5-4938-faac-dca33bec594c"
      },
      "execution_count": 152,
      "outputs": [
        {
          "output_type": "stream",
          "name": "stderr",
          "text": [
            "/usr/local/lib/python3.9/dist-packages/sklearn/linear_model/_logistic.py:458: ConvergenceWarning: lbfgs failed to converge (status=1):\n",
            "STOP: TOTAL NO. of ITERATIONS REACHED LIMIT.\n",
            "\n",
            "Increase the number of iterations (max_iter) or scale the data as shown in:\n",
            "    https://scikit-learn.org/stable/modules/preprocessing.html\n",
            "Please also refer to the documentation for alternative solver options:\n",
            "    https://scikit-learn.org/stable/modules/linear_model.html#logistic-regression\n",
            "  n_iter_i = _check_optimize_result(\n"
          ]
        },
        {
          "output_type": "stream",
          "name": "stdout",
          "text": [
            "Validation accuracy: 0.782\n",
            "Validation precision (macro-averaged): 0.851\n",
            "Validation recall (macro-averaged): 0.575\n",
            "Validation F1-score (macro-averaged): 0.644\n",
            "drama          1134\n",
            "romcom          503\n",
            "comedy          223\n",
            "thriller        112\n",
            "horror           22\n",
            "documentary       6\n",
            "dtype: int64\n"
          ]
        },
        {
          "output_type": "display_data",
          "data": {
            "text/plain": [
              "<Figure size 432x288 with 1 Axes>"
            ],
            "image/png": "[encoded data removed]"
          },
          "metadata": {
            "needs_background": "light"
          }
        }
      ]
    },
    {
      "cell_type": "markdown",
      "source": [
        "# LogisticRegression with TF-IDF vectorization (default settings)"
      ],
      "metadata": {
        "id": "I8KrTYQlRAOE"
      }
    },
    {
      "cell_type": "code",
      "source": [
        "from sklearn.feature_extraction.text import TfidfVectorizer\n",
        "from sklearn.linear_model import LogisticRegression\n",
        "\n",
        "vectorizer = TfidfVectorizer()\n",
        "X_train = vectorizer.fit_transform(classifiers_train['text'])\n",
        "y_train = classifiers_train['meta.genre']\n",
        "clf = LogisticRegression(random_state=0).fit(X_train, y_train)\n",
        "\n",
        "X_val = vectorizer.transform(classifiers_val['text'])\n",
        "y_val = classifiers_val['meta.genre']\n",
        "val_predictions = clf.predict(X_val)\n",
        "\n",
        "evaluate(classifiers_val, val_predictions)\n"
      ],
      "metadata": {
        "colab": {
          "base_uri": "https://localhost:8080/",
          "height": 662
        },
        "id": "FMYQ-wchMQtw",
        "outputId": "6c26a494-664d-482d-a7dc-226917cbd699"
      },
      "execution_count": 153,
      "outputs": [
        {
          "output_type": "stream",
          "name": "stderr",
          "text": [
            "/usr/local/lib/python3.9/dist-packages/sklearn/linear_model/_logistic.py:458: ConvergenceWarning: lbfgs failed to converge (status=1):\n",
            "STOP: TOTAL NO. of ITERATIONS REACHED LIMIT.\n",
            "\n",
            "Increase the number of iterations (max_iter) or scale the data as shown in:\n",
            "    https://scikit-learn.org/stable/modules/preprocessing.html\n",
            "Please also refer to the documentation for alternative solver options:\n",
            "    https://scikit-learn.org/stable/modules/linear_model.html#logistic-regression\n",
            "  n_iter_i = _check_optimize_result(\n",
            "/usr/local/lib/python3.9/dist-packages/sklearn/metrics/_classification.py:1344: UndefinedMetricWarning: Precision and F-score are ill-defined and being set to 0.0 in labels with no predicted samples. Use `zero_division` parameter to control this behavior.\n",
            "  _warn_prf(average, modifier, msg_start, len(result))\n"
          ]
        },
        {
          "output_type": "stream",
          "name": "stdout",
          "text": [
            "Validation accuracy: 0.726\n",
            "Validation precision (macro-averaged): 0.706\n",
            "Validation recall (macro-averaged): 0.453\n",
            "Validation F1-score (macro-averaged): 0.498\n",
            "drama       1245\n",
            "romcom       490\n",
            "comedy       175\n",
            "thriller      82\n",
            "horror         8\n",
            "dtype: int64\n"
          ]
        },
        {
          "output_type": "display_data",
          "data": {
            "text/plain": [
              "<Figure size 432x288 with 1 Axes>"
            ],
            "image/png": "[encoded data removed]"
          },
          "metadata": {
            "needs_background": "light"
          }
        }
      ]
    },
    {
      "cell_type": "markdown",
      "source": [
        "# SVC Classifier with One-hot vectorization (SVM with RBF kernel, default settings)"
      ],
      "metadata": {
        "id": "9YKJuMvARUNU"
      }
    },
    {
      "cell_type": "code",
      "source": [
        "from sklearn.preprocessing import OneHotEncoder\n",
        "from sklearn.svm import SVC\n",
        "\n",
        "\n",
        "enc = OneHotEncoder(handle_unknown='ignore')\n",
        "X_train = enc.fit_transform(classifiers_train[['text']])\n",
        "y_train = classifiers_train['meta.genre']\n",
        "X_val = enc.transform(classifiers_val[['text']])\n",
        "y_val = classifiers_val['meta.genre']\n",
        "\n",
        "clf = SVC(kernel='rbf')\n",
        "clf.fit(X_train, y_train)\n",
        "\n",
        "val_predictions = clf.predict(X_val)\n",
        "evaluate(classifiers_val, val_predictions)\n"
      ],
      "metadata": {
        "colab": {
          "base_uri": "https://localhost:8080/",
          "height": 486
        },
        "id": "zqhWT3RPRZRl",
        "outputId": "db0b582d-7c79-474b-96fa-2c6a146fcc37"
      },
      "execution_count": 154,
      "outputs": [
        {
          "output_type": "stream",
          "name": "stdout",
          "text": [
            "Validation accuracy: 0.870\n",
            "Validation precision (macro-averaged): 0.958\n",
            "Validation recall (macro-averaged): 0.647\n",
            "Validation F1-score (macro-averaged): 0.720\n",
            "drama          1155\n",
            "romcom          457\n",
            "comedy          237\n",
            "thriller        125\n",
            "horror           21\n",
            "documentary       5\n",
            "dtype: int64\n"
          ]
        },
        {
          "output_type": "display_data",
          "data": {
            "text/plain": [
              "<Figure size 432x288 with 1 Axes>"
            ],
            "image/png": "[encoded data removed]"
          },
          "metadata": {
            "needs_background": "light"
          }
        }
      ]
    },
    {
      "cell_type": "markdown",
      "source": [
        "Since, we are getting the best F1-Score, we will also plot a bar chart graph with the F1 score for each class"
      ],
      "metadata": {
        "id": "OYTPFIqESB93"
      }
    },
    {
      "cell_type": "code",
      "source": [
        "import matplotlib.pyplot as plt\n",
        "\n",
        "_, _, f1_scores, classes = precision_recall_fscore_support(y_val, val_predictions, labels=clf.classes_)\n",
        "\n",
        "fig, ax = plt.subplots()\n",
        "ax.bar(classes, f1_scores, color='green', width = 10)\n",
        "ax.set_xlabel('Class')\n",
        "ax.set_ylabel('F1-Score')\n",
        "ax.set_title('F1-Score against Classes')\n",
        "plt.show()\n"
      ],
      "metadata": {
        "colab": {
          "base_uri": "https://localhost:8080/",
          "height": 295
        },
        "id": "C9tkPthSR-Sk",
        "outputId": "6611a97b-0764-4327-ab1e-cc970d4704f0"
      },
      "execution_count": 155,
      "outputs": [
        {
          "output_type": "display_data",
          "data": {
            "text/plain": [
              "<Figure size 432x288 with 1 Axes>"
            ],
            "image/png": "[encoded data removed]"
          },
          "metadata": {
            "needs_background": "light"
          }
        }
      ]
    },
    {
      "cell_type": "markdown",
      "source": [
        "Additionally, we will also implement the SVC Classifier with Count Vectorizer."
      ],
      "metadata": {
        "id": "gFg-jivQRlg3"
      }
    },
    {
      "cell_type": "code",
      "source": [
        "from sklearn.feature_extraction.text import CountVectorizer\n",
        "from sklearn.svm import SVC\n",
        "from sklearn.preprocessing import StandardScaler\n",
        "from sklearn.pipeline import make_pipeline\n",
        "\n",
        "vectorizer = CountVectorizer()\n",
        "X_train = vectorizer.fit_transform(classifiers_train['text'])\n",
        "y_train = classifiers_train['meta.genre']\n",
        "clf = SVC(kernel='rbf',random_state=42, probability=True)\n",
        "clf.fit(X_train, y_train)\n",
        "\n",
        "X_val = vectorizer.transform(classifiers_val['text'])\n",
        "y_val = classifiers_val['meta.genre']\n",
        "val_predictions = clf.predict(X_val)\n",
        "evaluate(classifiers_val, val_predictions)"
      ],
      "metadata": {
        "colab": {
          "base_uri": "https://localhost:8080/",
          "height": 486
        },
        "id": "PLEVNrCCR4Y-",
        "outputId": "9da38f00-c993-4bc3-e523-7bcf36b6a545"
      },
      "execution_count": 156,
      "outputs": [
        {
          "output_type": "stream",
          "name": "stdout",
          "text": [
            "Validation accuracy: 0.773\n",
            "Validation precision (macro-averaged): 0.912\n",
            "Validation recall (macro-averaged): 0.541\n",
            "Validation F1-score (macro-averaged): 0.617\n",
            "drama          1252\n",
            "romcom          433\n",
            "comedy          198\n",
            "thriller         97\n",
            "horror           16\n",
            "documentary       4\n",
            "dtype: int64\n"
          ]
        },
        {
          "output_type": "display_data",
          "data": {
            "text/plain": [
              "<Figure size 432x288 with 1 Axes>"
            ],
            "image/png": "[encoded data removed]"
          },
          "metadata": {
            "needs_background": "light"
          }
        }
      ]
    },
    {
      "cell_type": "markdown",
      "source": [
        "# Own Approach - Random Forest"
      ],
      "metadata": {
        "id": "Vuv2VBQLr5_3"
      }
    },
    {
      "cell_type": "markdown",
      "source": [
        "Now, we will implement a classifier of own choice which is Random Forest. The tokenisation approach remains the same as we selected the approaches that showed us best results. The vectorization approach chosen is One-Hot Vectorizer as it showed better results than other Vectorizing approaches like TF-IDF."
      ],
      "metadata": {
        "id": "gx5uO4dRURVo"
      }
    },
    {
      "cell_type": "code",
      "source": [
        "from sklearn.preprocessing import OneHotEncoder\n",
        "from sklearn.ensemble import RandomForestClassifier\n",
        "\n",
        "enc = OneHotEncoder(handle_unknown='ignore')\n",
        "X_train = enc.fit_transform(classifiers_train[['text']])\n",
        "y_train = classifiers_train['meta.genre']\n",
        "X_val = enc.transform(classifiers_val[['text']])\n",
        "y_val = classifiers_val['meta.genre']\n",
        "\n",
        "\n",
        "clf = RandomForestClassifier().fit(X_train, y_train)\n",
        "val_predictions = clf.predict(X_val)\n",
        "evaluate(classifiers_val, val_predictions)"
      ],
      "metadata": {
        "colab": {
          "base_uri": "https://localhost:8080/",
          "height": 486
        },
        "id": "PLV7ovCtUuxH",
        "outputId": "f9ca76fc-1039-4af3-8da6-3c2a4697f28a"
      },
      "execution_count": 157,
      "outputs": [
        {
          "output_type": "stream",
          "name": "stdout",
          "text": [
            "Validation accuracy: 0.882\n",
            "Validation precision (macro-averaged): 0.961\n",
            "Validation recall (macro-averaged): 0.739\n",
            "Validation F1-score (macro-averaged): 0.818\n",
            "drama          1130\n",
            "romcom          455\n",
            "comedy          240\n",
            "thriller        125\n",
            "horror           37\n",
            "documentary      13\n",
            "dtype: int64\n"
          ]
        },
        {
          "output_type": "display_data",
          "data": {
            "text/plain": [
              "<Figure size 432x288 with 1 Axes>"
            ],
            "image/png": "[encoded data removed]"
          },
          "metadata": {
            "needs_background": "light"
          }
        }
      ]
    },
    {
      "cell_type": "markdown",
      "source": [
        "# Q.4 Parameter Tuning"
      ],
      "metadata": {
        "id": "kojQf6FRVDqj"
      }
    },
    {
      "cell_type": "markdown",
      "source": [
        "First we will implement parameter tuning based on the requirements asked in the assignment. These include; \n",
        "\n",
        "1. Classifier - Regularisation C value \n",
        "2. Vectorizer - Parameters: sublinear_tf and max_features \n",
        "\n",
        "We need to install Pipeline to carry out this task\n"
      ],
      "metadata": {
        "id": "35UwsC1AVHr6"
      }
    },
    {
      "cell_type": "code",
      "source": [
        "pip install Pipeline"
      ],
      "metadata": {
        "colab": {
          "base_uri": "https://localhost:8080/"
        },
        "id": "B_8_RayvVgrT",
        "outputId": "30b5ec09-28c3-4fc8-9bdf-d3ce01397ca2"
      },
      "execution_count": 159,
      "outputs": [
        {
          "output_type": "stream",
          "name": "stdout",
          "text": [
            "Looking in indexes: https://pypi.org/simple, https://us-python.pkg.dev/colab-wheels/public/simple/\n",
            "Requirement already satisfied: Pipeline in /usr/local/lib/python3.9/dist-packages (0.1.0)\n"
          ]
        }
      ]
    },
    {
      "cell_type": "markdown",
      "source": [
        "We will also build a function that calculates all evaluation metrics. First, we will only tune the C value parameter"
      ],
      "metadata": {
        "id": "AaqlPnegVtIa"
      }
    },
    {
      "cell_type": "code",
      "source": [
        "from sklearn.metrics import precision_recall_fscore_support\n",
        "\n",
        "def evaluate_hyperparameters(val, val_predictions, search):\n",
        "    val_precision, val_recall, val_f1, support = precision_recall_fscore_support(val['meta.genre'], val_predictions, average='macro')\n",
        "    val_accuracy = (val['meta.genre'] == val_predictions).mean()\n",
        "    print(f'Validation accuracy after tuning feature: {val_accuracy:.3f}')\n",
        "    print(f'Validation precision (macro-averaged) after tuning feature: {val_precision:.3f}')\n",
        "    print(f'Validation recall (macro-averaged) after tuning feature: {val_recall:.3f}')\n",
        "    print(f'Validation F1-score (macro-averaged) after tuning feature: {val_f1:.3f}')\n",
        "    print(f'Best parameters after tuning feature: {search.best_params_}')"
      ],
      "metadata": {
        "id": "WL0k_wSUdidu"
      },
      "execution_count": 162,
      "outputs": []
    },
    {
      "cell_type": "code",
      "source": [
        "from sklearn.feature_extraction.text import TfidfVectorizer\n",
        "from sklearn.pipeline import Pipeline\n",
        "from sklearn.linear_model import LogisticRegression\n",
        "from sklearn.model_selection import GridSearchCV\n",
        "\n",
        "param_grid_1 = {\n",
        "    'clf__C': [0.001, 0.01, 0.1, 1, 10, 100, 1000]\n",
        "}\n",
        "\n",
        "clf = LogisticRegression(max_iter=10000)\n",
        "pipe = Pipeline([\n",
        "    ('tfidf', TfidfVectorizer()),\n",
        "    ('clf', clf)\n",
        "])\n",
        "\n",
        "search = GridSearchCV(pipe, param_grid_1, cv=5).fit(classifiers_train['text'], classifiers_train['meta.genre'])\n",
        "best_model = search.best_estimator_\n",
        "val_predictions = best_model.predict(classifiers_val['text'])\n",
        "evaluate_hyperparameters(classifiers_val, val_predictions, search)"
      ],
      "metadata": {
        "colab": {
          "base_uri": "https://localhost:8080/"
        },
        "id": "H_fCNkLTVytg",
        "outputId": "937e8c1b-3f34-48f0-d082-42d7ab858ff1"
      },
      "execution_count": 163,
      "outputs": [
        {
          "output_type": "stream",
          "name": "stdout",
          "text": [
            "Validation accuracy after tuning feature: 0.833\n",
            "Validation precision (macro-averaged) after tuning feature: 0.809\n",
            "Validation recall (macro-averaged) after tuning feature: 0.697\n",
            "Validation F1-score (macro-averaged) after tuning feature: 0.741\n",
            "Best parameters after tuning feature: {'clf__C': 1000}\n"
          ]
        }
      ]
    },
    {
      "cell_type": "markdown",
      "source": [
        "This has shown an improvement. Next, we will tune Sublinear_tf and max_features parameters"
      ],
      "metadata": {
        "id": "wM-FnRGMWF6H"
      }
    },
    {
      "cell_type": "code",
      "source": [
        "#only tuning sublinear_tf\n",
        "\n",
        "param_grid_2 = {\n",
        "    'tfidf__sublinear_tf': [True, False]\n",
        "}\n",
        "\n",
        "clf = LogisticRegression(max_iter=10000)\n",
        "pipe_2 = Pipeline([\n",
        "    ('tfidf', TfidfVectorizer()),\n",
        "    ('clf', clf)\n",
        "])\n",
        "\n",
        "search = GridSearchCV(pipe_2, param_grid_2, cv=5).fit(classifiers_train['text'], classifiers_train['meta.genre'])\n",
        "best_model = search.best_estimator_\n",
        "val_predictions = best_model.predict(classifiers_val['text'])\n",
        "evaluate_hyperparameters(classifiers_val, val_predictions, search)"
      ],
      "metadata": {
        "colab": {
          "base_uri": "https://localhost:8080/"
        },
        "id": "FxIT9LBBWEcI",
        "outputId": "d2441b34-4fc9-4329-f86a-8a51a18c7914"
      },
      "execution_count": 180,
      "outputs": [
        {
          "output_type": "stream",
          "name": "stdout",
          "text": [
            "Validation accuracy after tuning feature: 0.724\n",
            "Validation precision (macro-averaged) after tuning feature: 0.685\n",
            "Validation recall (macro-averaged) after tuning feature: 0.448\n",
            "Validation F1-score (macro-averaged) after tuning feature: 0.492\n",
            "Best parameters after tuning feature: {'tfidf__sublinear_tf': True}\n"
          ]
        },
        {
          "output_type": "stream",
          "name": "stderr",
          "text": [
            "/usr/local/lib/python3.9/dist-packages/sklearn/metrics/_classification.py:1344: UndefinedMetricWarning: Precision and F-score are ill-defined and being set to 0.0 in labels with no predicted samples. Use `zero_division` parameter to control this behavior.\n",
            "  _warn_prf(average, modifier, msg_start, len(result))\n"
          ]
        }
      ]
    },
    {
      "cell_type": "markdown",
      "source": [
        "The performance has downgraded."
      ],
      "metadata": {
        "id": "sNsuzSmCwLxY"
      }
    },
    {
      "cell_type": "code",
      "source": [
        "#only tuning max_features\n",
        "\n",
        "param_grid_2 = {\n",
        "    'tfidf__max_features': [None, 50000]\n",
        "}\n",
        "\n",
        "clf = LogisticRegression(max_iter=10000)\n",
        "pipe_2 = Pipeline([\n",
        "    ('tfidf', TfidfVectorizer()),\n",
        "    ('clf', clf)\n",
        "])\n",
        "\n",
        "search = GridSearchCV(pipe_2, param_grid_2, cv=5).fit(classifiers_train['text'], classifiers_train['meta.genre'])\n",
        "best_model = search.best_estimator_\n",
        "val_predictions = best_model.predict(classifiers_val['text'])\n",
        "evaluate_hyperparameters(classifiers_val, val_predictions, search)"
      ],
      "metadata": {
        "colab": {
          "base_uri": "https://localhost:8080/"
        },
        "id": "2cf6Bgm9v3a0",
        "outputId": "90f5bcba-a4f0-4af7-d568-6f4470ed79da"
      },
      "execution_count": 179,
      "outputs": [
        {
          "output_type": "stream",
          "name": "stdout",
          "text": [
            "Validation accuracy after tuning feature: 0.726\n",
            "Validation precision (macro-averaged) after tuning feature: 0.706\n",
            "Validation recall (macro-averaged) after tuning feature: 0.453\n",
            "Validation F1-score (macro-averaged) after tuning feature: 0.498\n",
            "Best parameters after tuning feature: {'tfidf__max_features': None}\n"
          ]
        },
        {
          "output_type": "stream",
          "name": "stderr",
          "text": [
            "/usr/local/lib/python3.9/dist-packages/sklearn/metrics/_classification.py:1344: UndefinedMetricWarning: Precision and F-score are ill-defined and being set to 0.0 in labels with no predicted samples. Use `zero_division` parameter to control this behavior.\n",
            "  _warn_prf(average, modifier, msg_start, len(result))\n"
          ]
        }
      ]
    },
    {
      "cell_type": "markdown",
      "source": [
        "tfidf__max_features also has shown no improvement. Hence, we will drop these. Now, we will tune additional parameters. These include clf__solver, clf__multi_class (for classifier tuning) and tfidf__ngram_range, tfidf__max_df, tfidf__min_df (for vectorizer tuning) "
      ],
      "metadata": {
        "id": "IDBXToFBWpcw"
      }
    },
    {
      "cell_type": "code",
      "source": [
        "param_grid_3 = {\n",
        "    'clf__solver': ['lbfgs', 'newton-cg', 'sag', 'saga']\n",
        "}\n",
        "\n",
        "clf = LogisticRegression(max_iter=10000)\n",
        "pipe_3 = Pipeline([\n",
        "    ('tfidf', TfidfVectorizer()),\n",
        "    ('clf', clf)\n",
        "])\n",
        "\n",
        "search_3 = GridSearchCV(pipe_3, param_grid_3, cv=5).fit(classifiers_train['text'], classifiers_train['meta.genre'])\n",
        "\n",
        "best_model_3 = search_3.best_estimator_\n",
        "val_predictions = best_model_3.predict(classifiers_val['text'])\n",
        "evaluate_hyperparameters(classifiers_val, val_predictions, search_3)"
      ],
      "metadata": {
        "colab": {
          "base_uri": "https://localhost:8080/"
        },
        "id": "1p-J4r0TV9v4",
        "outputId": "f1635d0e-9899-46e9-fba5-68ea1d28a91b"
      },
      "execution_count": 166,
      "outputs": [
        {
          "output_type": "stream",
          "name": "stdout",
          "text": [
            "Validation accuracy after tuning feature: 0.726\n",
            "Validation precision (macro-averaged) after tuning feature: 0.706\n",
            "Validation recall (macro-averaged) after tuning feature: 0.453\n",
            "Validation F1-score (macro-averaged) after tuning feature: 0.498\n",
            "Best parameters after tuning feature: {'clf__solver': 'saga'}\n"
          ]
        },
        {
          "output_type": "stream",
          "name": "stderr",
          "text": [
            "/usr/local/lib/python3.9/dist-packages/sklearn/metrics/_classification.py:1344: UndefinedMetricWarning: Precision and F-score are ill-defined and being set to 0.0 in labels with no predicted samples. Use `zero_division` parameter to control this behavior.\n",
            "  _warn_prf(average, modifier, msg_start, len(result))\n"
          ]
        }
      ]
    },
    {
      "cell_type": "markdown",
      "source": [
        "There is again no improvement."
      ],
      "metadata": {
        "id": "glDIiCqTb4Di"
      }
    },
    {
      "cell_type": "code",
      "source": [
        "param_grid_3 = {\n",
        "    'clf__multi_class': ['ovr', 'multinomial']\n",
        "}\n",
        "\n",
        "clf = LogisticRegression(max_iter=10000)\n",
        "pipe_3 = Pipeline([\n",
        "    ('tfidf', TfidfVectorizer()),\n",
        "    ('clf', clf)\n",
        "])\n",
        "\n",
        "search_3 = GridSearchCV(pipe_3, param_grid_3, cv=5).fit(classifiers_train['text'], classifiers_train['meta.genre'])\n",
        "best_model_3 = search_3.best_estimator_\n",
        "val_predictions_3 = best_model_3.predict(classifiers_val['text'])\n",
        "evaluate_hyperparameters(classifiers_val, val_predictions_3, search_3)\n"
      ],
      "metadata": {
        "colab": {
          "base_uri": "https://localhost:8080/"
        },
        "id": "zGgLWg_ecF-D",
        "outputId": "56b49cb6-83df-4daf-9545-3fc2f19e9aa8"
      },
      "execution_count": 167,
      "outputs": [
        {
          "output_type": "stream",
          "name": "stdout",
          "text": [
            "Validation accuracy after tuning feature: 0.726\n",
            "Validation precision (macro-averaged) after tuning feature: 0.706\n",
            "Validation recall (macro-averaged) after tuning feature: 0.453\n",
            "Validation F1-score (macro-averaged) after tuning feature: 0.498\n",
            "Best parameters after tuning feature: {'clf__multi_class': 'multinomial'}\n"
          ]
        },
        {
          "output_type": "stream",
          "name": "stderr",
          "text": [
            "/usr/local/lib/python3.9/dist-packages/sklearn/metrics/_classification.py:1344: UndefinedMetricWarning: Precision and F-score are ill-defined and being set to 0.0 in labels with no predicted samples. Use `zero_division` parameter to control this behavior.\n",
            "  _warn_prf(average, modifier, msg_start, len(result))\n"
          ]
        }
      ]
    },
    {
      "cell_type": "markdown",
      "source": [
        "The best parameter after tuning clf__multi_class is multinomial. There is no improvement. Next, we tune parameters for vectorizer."
      ],
      "metadata": {
        "id": "95-7MdEbeRSm"
      }
    },
    {
      "cell_type": "code",
      "source": [
        "param_grid_3 = {\n",
        "    'tfidf__ngram_range': [(1, 1), (1, 2), (2, 2)]\n",
        "}\n",
        "\n",
        "\n",
        "clf = LogisticRegression(max_iter=10000)\n",
        "pipe_3 = Pipeline([\n",
        "    ('tfidf', TfidfVectorizer()),\n",
        "    ('clf', clf)\n",
        "])\n",
        "\n",
        "search_3 = GridSearchCV(pipe_3, param_grid_3, cv=5).fit(classifiers_train['text'], classifiers_train['meta.genre'])\n",
        "\n",
        "best_model_3 = search_3.best_estimator_\n",
        "val_predictions_3 = best_model_3.predict(classifiers_val['text'])\n",
        "evaluate_hyperparameters(classifiers_val, val_predictions_3, search_3)\n",
        "\n"
      ],
      "metadata": {
        "colab": {
          "base_uri": "https://localhost:8080/"
        },
        "id": "CXO5dHBpboyK",
        "outputId": "36627999-6b8d-48d5-fc63-2891fbbc3347"
      },
      "execution_count": 168,
      "outputs": [
        {
          "output_type": "stream",
          "name": "stdout",
          "text": [
            "Validation accuracy after tuning feature: 0.783\n",
            "Validation precision (macro-averaged) after tuning feature: 0.747\n",
            "Validation recall (macro-averaged) after tuning feature: 0.506\n",
            "Validation F1-score (macro-averaged) after tuning feature: 0.558\n",
            "Best parameters after tuning feature: {'tfidf__ngram_range': (1, 2)}\n"
          ]
        },
        {
          "output_type": "stream",
          "name": "stderr",
          "text": [
            "/usr/local/lib/python3.9/dist-packages/sklearn/metrics/_classification.py:1344: UndefinedMetricWarning: Precision and F-score are ill-defined and being set to 0.0 in labels with no predicted samples. Use `zero_division` parameter to control this behavior.\n",
            "  _warn_prf(average, modifier, msg_start, len(result))\n"
          ]
        }
      ]
    },
    {
      "cell_type": "markdown",
      "source": [
        "There is a slight better performance."
      ],
      "metadata": {
        "id": "FPHASF3OvmSa"
      }
    },
    {
      "cell_type": "code",
      "source": [
        "param_grid_3 = {\n",
        "    'tfidf__max_df': [0.5] #ignore terms that appear in more than 50% of the documents\n",
        "}\n",
        "\n",
        "clf = LogisticRegression(max_iter=10000)\n",
        "pipe_3 = Pipeline([\n",
        "    ('tfidf', TfidfVectorizer()),\n",
        "    ('clf', clf)\n",
        "])\n",
        "\n",
        "search_3 = GridSearchCV(pipe_3, param_grid_3, cv=5).fit(classifiers_train['text'], classifiers_train['meta.genre'])\n",
        "\n",
        "best_model_3 = search_3.best_estimator_\n",
        "val_predictions_3 = best_model_3.predict(classifiers_val['text'])\n",
        "evaluate_hyperparameters(classifiers_val, val_predictions_3, search_3)"
      ],
      "metadata": {
        "colab": {
          "base_uri": "https://localhost:8080/"
        },
        "id": "eCDiQ4c7cjPe",
        "outputId": "be39306c-9c2a-4dc1-b30d-97499e84cc64"
      },
      "execution_count": 169,
      "outputs": [
        {
          "output_type": "stream",
          "name": "stdout",
          "text": [
            "Validation accuracy after tuning feature: 0.726\n",
            "Validation precision (macro-averaged) after tuning feature: 0.706\n",
            "Validation recall (macro-averaged) after tuning feature: 0.453\n",
            "Validation F1-score (macro-averaged) after tuning feature: 0.498\n",
            "Best parameters after tuning feature: {'tfidf__max_df': 0.5}\n"
          ]
        },
        {
          "output_type": "stream",
          "name": "stderr",
          "text": [
            "/usr/local/lib/python3.9/dist-packages/sklearn/metrics/_classification.py:1344: UndefinedMetricWarning: Precision and F-score are ill-defined and being set to 0.0 in labels with no predicted samples. Use `zero_division` parameter to control this behavior.\n",
            "  _warn_prf(average, modifier, msg_start, len(result))\n"
          ]
        }
      ]
    },
    {
      "cell_type": "markdown",
      "source": [
        "No improvement is seen."
      ],
      "metadata": {
        "id": "sdRUtjMSvqIR"
      }
    },
    {
      "cell_type": "code",
      "source": [
        "param_grid_3 = {\n",
        "    'tfidf__min_df': [1, 5, 10]\n",
        "}\n",
        "\n",
        "\n",
        "clf = LogisticRegression(max_iter=10000)\n",
        "pipe_3 = Pipeline([\n",
        "    ('tfidf', TfidfVectorizer()),\n",
        "    ('clf', clf)\n",
        "])\n",
        "\n",
        "search_3 = GridSearchCV(pipe_3, param_grid_3, cv=5).fit(classifiers_train['text'], classifiers_train['meta.genre'])\n",
        "\n",
        "best_model_3 = search_3.best_estimator_\n",
        "val_predictions_3 = best_model_3.predict(classifiers_val['text'])\n",
        "evaluate_hyperparameters(classifiers_val, val_predictions_3, search_3)"
      ],
      "metadata": {
        "colab": {
          "base_uri": "https://localhost:8080/"
        },
        "id": "aYv2_UUZcsPp",
        "outputId": "c2bdbbe6-e9d5-4beb-ce3a-e08989572bc6"
      },
      "execution_count": 170,
      "outputs": [
        {
          "output_type": "stream",
          "name": "stdout",
          "text": [
            "Validation accuracy after tuning feature: 0.726\n",
            "Validation precision (macro-averaged) after tuning feature: 0.706\n",
            "Validation recall (macro-averaged) after tuning feature: 0.453\n",
            "Validation F1-score (macro-averaged) after tuning feature: 0.498\n",
            "Best parameters after tuning feature: {'tfidf__min_df': 1}\n"
          ]
        },
        {
          "output_type": "stream",
          "name": "stderr",
          "text": [
            "/usr/local/lib/python3.9/dist-packages/sklearn/metrics/_classification.py:1344: UndefinedMetricWarning: Precision and F-score are ill-defined and being set to 0.0 in labels with no predicted samples. Use `zero_division` parameter to control this behavior.\n",
            "  _warn_prf(average, modifier, msg_start, len(result))\n"
          ]
        }
      ]
    },
    {
      "cell_type": "markdown",
      "source": [
        "Again, the metrics show no improvement."
      ],
      "metadata": {
        "id": "Aayq3jkavu_h"
      }
    },
    {
      "cell_type": "markdown",
      "source": [
        "Now, we will use all the best paramaters with Logistic Regression TF-IDF approach."
      ],
      "metadata": {
        "id": "10aOAXqVfXio"
      }
    },
    {
      "cell_type": "code",
      "source": [
        "vectorizer = TfidfVectorizer(ngram_range = (1, 2))\n",
        "clf = LogisticRegression(C=1000)\n",
        "pipe = Pipeline([\n",
        "    ('tfidf', vectorizer),\n",
        "    ('clf', clf)\n",
        "])\n",
        "\n",
        "pipe.fit(classifiers_train['text'], classifiers_train['meta.genre'])\n",
        "val_predictions = pipe.predict(classifiers_val['text'])\n",
        "evaluate(classifiers_val, val_predictions)"
      ],
      "metadata": {
        "colab": {
          "base_uri": "https://localhost:8080/",
          "height": 645
        },
        "id": "HhHE9EUEc8Ch",
        "outputId": "9ed1c102-aa5a-499a-fe99-9d0e68d0e402"
      },
      "execution_count": 183,
      "outputs": [
        {
          "output_type": "stream",
          "name": "stderr",
          "text": [
            "/usr/local/lib/python3.9/dist-packages/sklearn/linear_model/_logistic.py:458: ConvergenceWarning: lbfgs failed to converge (status=1):\n",
            "STOP: TOTAL NO. of ITERATIONS REACHED LIMIT.\n",
            "\n",
            "Increase the number of iterations (max_iter) or scale the data as shown in:\n",
            "    https://scikit-learn.org/stable/modules/preprocessing.html\n",
            "Please also refer to the documentation for alternative solver options:\n",
            "    https://scikit-learn.org/stable/modules/linear_model.html#logistic-regression\n",
            "  n_iter_i = _check_optimize_result(\n"
          ]
        },
        {
          "output_type": "stream",
          "name": "stdout",
          "text": [
            "Validation accuracy: 0.859\n",
            "Validation precision (macro-averaged): 0.846\n",
            "Validation recall (macro-averaged): 0.727\n",
            "Validation F1-score (macro-averaged): 0.773\n",
            "drama          1018\n",
            "romcom          507\n",
            "comedy          268\n",
            "thriller        145\n",
            "horror           47\n",
            "documentary      15\n",
            "dtype: int64\n"
          ]
        },
        {
          "output_type": "display_data",
          "data": {
            "text/plain": [
              "<Figure size 432x288 with 1 Axes>"
            ],
            "image/png": "[encoded data removed]"
          },
          "metadata": {
            "needs_background": "light"
          }
        }
      ]
    },
    {
      "cell_type": "markdown",
      "source": [
        "Overall, we can conclude that parameter tuning has resulted in a better performance."
      ],
      "metadata": {
        "id": "GINsl02Vy65a"
      }
    }
  ],
  "metadata": {
    "accelerator": "GPU",
    "colab": {
      "provenance": [],
      "toc_visible": true
    },
    "gpuClass": "standard",
    "kernelspec": {
      "display_name": "Python 3",
      "name": "python3"
    },
    "language_info": {
      "name": "python"
    }
  },
  "nbformat": 4,
  "nbformat_minor": 0
}